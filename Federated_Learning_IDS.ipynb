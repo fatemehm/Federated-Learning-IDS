{
  "nbformat": 4,
  "nbformat_minor": 0,
  "metadata": {
    "colab": {
      "name": "Federated-Learning-IDS.ipynb",
      "provenance": [],
      "mount_file_id": "1Ud9__N89Nqc6Sqq7Rzy_At_8XGy8rvx_",
      "authorship_tag": "ABX9TyPcPemIygfq174XVzde97fx",
      "include_colab_link": true
    },
    "kernelspec": {
      "name": "python3",
      "display_name": "Python 3"
    },
    "language_info": {
      "name": "python"
    }
  },
  "cells": [
    {
      "cell_type": "markdown",
      "metadata": {
        "id": "view-in-github",
        "colab_type": "text"
      },
      "source": [
        "<a href=\"https://colab.research.google.com/github/fatemehm/Federated-Learning-IDS/blob/main/Federated_Learning_IDS.ipynb\" target=\"_parent\"><img src=\"https://colab.research.google.com/assets/colab-badge.svg\" alt=\"Open In Colab\"/></a>"
      ]
    },
    {
      "cell_type": "markdown",
      "source": [
        "# **Detecting Intrusions in the Internet of Healthcare Things with Deep Federated Learning**\n",
        "\n",
        "Author: Fatemeh Mosaiyebzadeh, Daniel Macêdo Batista"
      ],
      "metadata": {
        "id": "k2eVRYhaZyfE"
      }
    },
    {
      "cell_type": "markdown",
      "source": [
        ""
      ],
      "metadata": {
        "id": "Zz96mBYAaQst"
      }
    },
    {
      "cell_type": "markdown",
      "source": [
        "### **Dataset Column Description:**\n",
        "\n",
        "1-  SrcAddr: Source Address     \n",
        "2-  DstAddr: Destination Address     \n",
        "3-  Sport: Source port       \n",
        "4-  Dport: Destinnation port       \n",
        "5-  SrcBytes: Source bytes \n",
        "\n",
        "6-  DstBytes: Destination bytes    \n",
        "7-  SrcLoad: Source load \n",
        "\n",
        "8-  DstLoad: Destination load       \n",
        "9-  SrcGap: Source missing bytes      \n",
        "10- DstGap: Destination gap      \n",
        "11- SIntPkt: Source inter packet    \n",
        "12- DIntPkt: Destination inter packet    \n",
        "13- SIntPktAct: Source active inter packet  \n",
        "14- DIntPktAct: Destination active inter packet  \n",
        "15- SrcJitter: Source jitter   \n",
        "16- DstJitter: Destination jitter   \n",
        "17- sMaxPktSz: Source maximum transmitted packet size   \n",
        "18- dMaxPktSz: Destination maximum transmitted packet size    \n",
        "19- sMinPktSz: Source minimum transmitted packet size    \n",
        "20- dMinPktSz: Destination minimum transmitted packet size   \n",
        "21- Dur: Duration        \n",
        "22- Trans: Aggregated packets counnt         \n",
        "23- TotPkts: Total packet bytes     \n",
        "24- TotBytes: Total bytes    \n",
        "25- Load: Load       \n",
        "26- Loss: Retransmitted or dropped packets          \n",
        "27- pLoss: Percentage of retransmitted or dropped packets       \n",
        "28- pSrcLoss: Percentage of source retransmitted or dropped packets     \n",
        "29- pDstLoss: Percentage of destination retransmitted or dropped packets     \n",
        "30- Rate: number of packets per second        \n",
        "31- DstMac: Destination MAC addresses       \n",
        "32- Packet_num: number of packets    \n",
        "33- Temp: Body temperature in degrees Celsius\n",
        "\n",
        "34- SpO2: Blood oxygen.     \n",
        "35- Pulse_Rate: Pulse Rate in BPM.   \n",
        "36- SYS: SYStolic blood pressure.          \n",
        "37- DIA: DIAstolic blood pressure.          \n",
        "38- Heart_rate: Heart Rate in Beats Per Minute (BPM)   \n",
        "39- Resp_Rate: Respiration Rate in BPM     \n",
        "40- ST: Electrically neutral area between ventricular depolarization (QRS complex) and repolarization (T wave)\n",
        "in millivolts (mv).         \n",
        "41- Label: Attack (0 = no, 1 = yes)"
      ],
      "metadata": {
        "id": "ziG7REQNhDSr"
      }
    },
    {
      "cell_type": "markdown",
      "source": [
        "# Table of contents\n",
        "1. [Imports & reading dataset ](#1)\n",
        "2. [Null and duplicated values](#2)\n",
        "3. [Exploratory Data Analysis](#3)\n",
        "4. [Feature Selection](#4)\n",
        "5. [Data Pre-processing](#5)\n",
        "6. [Single Model  Approach](#6)\n",
        "7. [Federated Learning Approach](#6)\n",
        "8. [Conclusion](#7)"
      ],
      "metadata": {
        "id": "W2HTOt-u2s2s"
      }
    },
    {
      "cell_type": "markdown",
      "source": [
        "# 1. Imports & reading dataset <a name=\"1\"></a>"
      ],
      "metadata": {
        "id": "88TlXOpx24Ys"
      }
    },
    {
      "cell_type": "code",
      "source": [
        "import numpy as np\n",
        "import pandas as pd\n",
        "import seaborn as sns\n",
        "import matplotlib.pyplot as plt\n",
        "import missingno as msno\n",
        "%matplotlib inline"
      ],
      "metadata": {
        "id": "kK-uH8kQkhS2"
      },
      "execution_count": null,
      "outputs": []
    },
    {
      "cell_type": "code",
      "source": [
        "df = pd.read_csv('/content/drive/MyDrive/GlobeCom/drive1-wus-2020.csv')\n",
        "shape = df.shape\n",
        "print('Dataframe shape: ', shape)\n",
        "print('Number of rows: ', shape[0])\n",
        "print('Number of columns: ', shape[1])\n",
        "#df.shape"
      ],
      "metadata": {
        "colab": {
          "base_uri": "https://localhost:8080/"
        },
        "id": "9QrxArdShCwa",
        "outputId": "e7014a48-5d1e-420a-e48f-735683facca7"
      },
      "execution_count": null,
      "outputs": [
        {
          "output_type": "stream",
          "name": "stdout",
          "text": [
            "Dataframe shape:  (16318, 44)\n",
            "Number of rows:  16318\n",
            "Number of columns:  44\n"
          ]
        }
      ]
    },
    {
      "cell_type": "code",
      "source": [
        "df.head()"
      ],
      "metadata": {
        "colab": {
          "base_uri": "https://localhost:8080/",
          "height": 270
        },
        "id": "-nG2NkrdkpiE",
        "outputId": "4b41365f-fb6c-4025-ac19-595eca394ffd"
      },
      "execution_count": null,
      "outputs": [
        {
          "output_type": "execute_result",
          "data": {
            "text/html": [
              "\n",
              "  <div id=\"df-138372bf-54ec-4f23-8db3-cef848396c99\">\n",
              "    <div class=\"colab-df-container\">\n",
              "      <div>\n",
              "<style scoped>\n",
              "    .dataframe tbody tr th:only-of-type {\n",
              "        vertical-align: middle;\n",
              "    }\n",
              "\n",
              "    .dataframe tbody tr th {\n",
              "        vertical-align: top;\n",
              "    }\n",
              "\n",
              "    .dataframe thead th {\n",
              "        text-align: right;\n",
              "    }\n",
              "</style>\n",
              "<table border=\"1\" class=\"dataframe\">\n",
              "  <thead>\n",
              "    <tr style=\"text-align: right;\">\n",
              "      <th></th>\n",
              "      <th>Dir</th>\n",
              "      <th>Flgs</th>\n",
              "      <th>SrcAddr</th>\n",
              "      <th>DstAddr</th>\n",
              "      <th>Sport</th>\n",
              "      <th>Dport</th>\n",
              "      <th>SrcBytes</th>\n",
              "      <th>DstBytes</th>\n",
              "      <th>SrcLoad</th>\n",
              "      <th>DstLoad</th>\n",
              "      <th>SrcGap</th>\n",
              "      <th>DstGap</th>\n",
              "      <th>SIntPkt</th>\n",
              "      <th>DIntPkt</th>\n",
              "      <th>SIntPktAct</th>\n",
              "      <th>DIntPktAct</th>\n",
              "      <th>SrcJitter</th>\n",
              "      <th>DstJitter</th>\n",
              "      <th>sMaxPktSz</th>\n",
              "      <th>dMaxPktSz</th>\n",
              "      <th>sMinPktSz</th>\n",
              "      <th>dMinPktSz</th>\n",
              "      <th>Dur</th>\n",
              "      <th>Trans</th>\n",
              "      <th>TotPkts</th>\n",
              "      <th>TotBytes</th>\n",
              "      <th>Load</th>\n",
              "      <th>Loss</th>\n",
              "      <th>pLoss</th>\n",
              "      <th>pSrcLoss</th>\n",
              "      <th>pDstLoss</th>\n",
              "      <th>Rate</th>\n",
              "      <th>SrcMac</th>\n",
              "      <th>DstMac</th>\n",
              "      <th>Packet_num</th>\n",
              "      <th>Temp</th>\n",
              "      <th>SpO2</th>\n",
              "      <th>Pulse_Rate</th>\n",
              "      <th>SYS</th>\n",
              "      <th>DIA</th>\n",
              "      <th>Heart_rate</th>\n",
              "      <th>Resp_Rate</th>\n",
              "      <th>ST</th>\n",
              "      <th>Label</th>\n",
              "    </tr>\n",
              "  </thead>\n",
              "  <tbody>\n",
              "    <tr>\n",
              "      <th>0</th>\n",
              "      <td>-&gt;</td>\n",
              "      <td>e</td>\n",
              "      <td>10.0.1.172</td>\n",
              "      <td>10.0.1.150</td>\n",
              "      <td>58059</td>\n",
              "      <td>1111</td>\n",
              "      <td>496.0</td>\n",
              "      <td>186.0</td>\n",
              "      <td>276914.0</td>\n",
              "      <td>92305.0</td>\n",
              "      <td>0.0</td>\n",
              "      <td>0.0</td>\n",
              "      <td>3.582333</td>\n",
              "      <td>1.9015</td>\n",
              "      <td>0.0</td>\n",
              "      <td>0.0</td>\n",
              "      <td>2.946239</td>\n",
              "      <td>1.6235</td>\n",
              "      <td>310</td>\n",
              "      <td>66</td>\n",
              "      <td>60</td>\n",
              "      <td>60</td>\n",
              "      <td>0.010747</td>\n",
              "      <td>1</td>\n",
              "      <td>7.0</td>\n",
              "      <td>682.0</td>\n",
              "      <td>369219.0</td>\n",
              "      <td>0</td>\n",
              "      <td>0.0</td>\n",
              "      <td>0.0</td>\n",
              "      <td>0.0</td>\n",
              "      <td>558.295</td>\n",
              "      <td>84:3a:4b:0f:5b:94</td>\n",
              "      <td>b8:ca:3a:cf:0b:87</td>\n",
              "      <td>1</td>\n",
              "      <td>28.9</td>\n",
              "      <td>0</td>\n",
              "      <td>0</td>\n",
              "      <td>0</td>\n",
              "      <td>0</td>\n",
              "      <td>0</td>\n",
              "      <td>0</td>\n",
              "      <td>0.0</td>\n",
              "      <td>0</td>\n",
              "    </tr>\n",
              "    <tr>\n",
              "      <th>1</th>\n",
              "      <td>-&gt;</td>\n",
              "      <td>e</td>\n",
              "      <td>10.0.1.172</td>\n",
              "      <td>10.0.1.150</td>\n",
              "      <td>58062</td>\n",
              "      <td>1111</td>\n",
              "      <td>496.0</td>\n",
              "      <td>186.0</td>\n",
              "      <td>230984.0</td>\n",
              "      <td>76995.0</td>\n",
              "      <td>0.0</td>\n",
              "      <td>0.0</td>\n",
              "      <td>4.294667</td>\n",
              "      <td>2.9015</td>\n",
              "      <td>0.0</td>\n",
              "      <td>0.0</td>\n",
              "      <td>3.091654</td>\n",
              "      <td>2.8625</td>\n",
              "      <td>310</td>\n",
              "      <td>66</td>\n",
              "      <td>60</td>\n",
              "      <td>60</td>\n",
              "      <td>0.012884</td>\n",
              "      <td>1</td>\n",
              "      <td>7.0</td>\n",
              "      <td>682.0</td>\n",
              "      <td>307979.0</td>\n",
              "      <td>0</td>\n",
              "      <td>0.0</td>\n",
              "      <td>0.0</td>\n",
              "      <td>0.0</td>\n",
              "      <td>465.694</td>\n",
              "      <td>84:3a:4b:0f:5b:94</td>\n",
              "      <td>b8:ca:3a:cf:0b:87</td>\n",
              "      <td>2</td>\n",
              "      <td>28.9</td>\n",
              "      <td>0</td>\n",
              "      <td>0</td>\n",
              "      <td>0</td>\n",
              "      <td>0</td>\n",
              "      <td>78</td>\n",
              "      <td>17</td>\n",
              "      <td>0.4</td>\n",
              "      <td>0</td>\n",
              "    </tr>\n",
              "    <tr>\n",
              "      <th>2</th>\n",
              "      <td>-&gt;</td>\n",
              "      <td>e</td>\n",
              "      <td>10.0.1.172</td>\n",
              "      <td>10.0.1.150</td>\n",
              "      <td>58065</td>\n",
              "      <td>1111</td>\n",
              "      <td>496.0</td>\n",
              "      <td>186.0</td>\n",
              "      <td>218470.0</td>\n",
              "      <td>72823.0</td>\n",
              "      <td>0.0</td>\n",
              "      <td>0.0</td>\n",
              "      <td>4.540667</td>\n",
              "      <td>3.2945</td>\n",
              "      <td>0.0</td>\n",
              "      <td>0.0</td>\n",
              "      <td>2.849841</td>\n",
              "      <td>3.1655</td>\n",
              "      <td>310</td>\n",
              "      <td>66</td>\n",
              "      <td>60</td>\n",
              "      <td>60</td>\n",
              "      <td>0.013622</td>\n",
              "      <td>1</td>\n",
              "      <td>7.0</td>\n",
              "      <td>682.0</td>\n",
              "      <td>291293.0</td>\n",
              "      <td>0</td>\n",
              "      <td>0.0</td>\n",
              "      <td>0.0</td>\n",
              "      <td>0.0</td>\n",
              "      <td>440.464</td>\n",
              "      <td>84:3a:4b:0f:5b:94</td>\n",
              "      <td>b8:ca:3a:cf:0b:87</td>\n",
              "      <td>3</td>\n",
              "      <td>28.9</td>\n",
              "      <td>89</td>\n",
              "      <td>104</td>\n",
              "      <td>0</td>\n",
              "      <td>0</td>\n",
              "      <td>78</td>\n",
              "      <td>17</td>\n",
              "      <td>0.4</td>\n",
              "      <td>0</td>\n",
              "    </tr>\n",
              "    <tr>\n",
              "      <th>3</th>\n",
              "      <td>-&gt;</td>\n",
              "      <td>e</td>\n",
              "      <td>10.0.1.172</td>\n",
              "      <td>10.0.1.150</td>\n",
              "      <td>58067</td>\n",
              "      <td>1111</td>\n",
              "      <td>496.0</td>\n",
              "      <td>186.0</td>\n",
              "      <td>203376.0</td>\n",
              "      <td>67792.0</td>\n",
              "      <td>0.0</td>\n",
              "      <td>0.0</td>\n",
              "      <td>4.877667</td>\n",
              "      <td>3.3320</td>\n",
              "      <td>0.0</td>\n",
              "      <td>0.0</td>\n",
              "      <td>2.452252</td>\n",
              "      <td>3.2570</td>\n",
              "      <td>310</td>\n",
              "      <td>66</td>\n",
              "      <td>60</td>\n",
              "      <td>60</td>\n",
              "      <td>0.014633</td>\n",
              "      <td>1</td>\n",
              "      <td>7.0</td>\n",
              "      <td>682.0</td>\n",
              "      <td>271168.0</td>\n",
              "      <td>0</td>\n",
              "      <td>0.0</td>\n",
              "      <td>0.0</td>\n",
              "      <td>0.0</td>\n",
              "      <td>410.032</td>\n",
              "      <td>84:3a:4b:0f:5b:94</td>\n",
              "      <td>b8:ca:3a:cf:0b:87</td>\n",
              "      <td>4</td>\n",
              "      <td>28.9</td>\n",
              "      <td>89</td>\n",
              "      <td>104</td>\n",
              "      <td>0</td>\n",
              "      <td>0</td>\n",
              "      <td>79</td>\n",
              "      <td>17</td>\n",
              "      <td>0.4</td>\n",
              "      <td>0</td>\n",
              "    </tr>\n",
              "    <tr>\n",
              "      <th>4</th>\n",
              "      <td>-&gt;</td>\n",
              "      <td>e</td>\n",
              "      <td>10.0.1.172</td>\n",
              "      <td>10.0.1.150</td>\n",
              "      <td>58069</td>\n",
              "      <td>1111</td>\n",
              "      <td>496.0</td>\n",
              "      <td>186.0</td>\n",
              "      <td>235723.0</td>\n",
              "      <td>78574.0</td>\n",
              "      <td>0.0</td>\n",
              "      <td>0.0</td>\n",
              "      <td>4.208333</td>\n",
              "      <td>2.8635</td>\n",
              "      <td>0.0</td>\n",
              "      <td>0.0</td>\n",
              "      <td>3.021835</td>\n",
              "      <td>2.8225</td>\n",
              "      <td>310</td>\n",
              "      <td>66</td>\n",
              "      <td>60</td>\n",
              "      <td>60</td>\n",
              "      <td>0.012625</td>\n",
              "      <td>1</td>\n",
              "      <td>7.0</td>\n",
              "      <td>682.0</td>\n",
              "      <td>314297.0</td>\n",
              "      <td>0</td>\n",
              "      <td>0.0</td>\n",
              "      <td>0.0</td>\n",
              "      <td>0.0</td>\n",
              "      <td>475.247</td>\n",
              "      <td>84:3a:4b:0f:5b:94</td>\n",
              "      <td>b8:ca:3a:cf:0b:87</td>\n",
              "      <td>5</td>\n",
              "      <td>28.9</td>\n",
              "      <td>89</td>\n",
              "      <td>101</td>\n",
              "      <td>0</td>\n",
              "      <td>0</td>\n",
              "      <td>79</td>\n",
              "      <td>17</td>\n",
              "      <td>0.4</td>\n",
              "      <td>0</td>\n",
              "    </tr>\n",
              "  </tbody>\n",
              "</table>\n",
              "</div>\n",
              "      <button class=\"colab-df-convert\" onclick=\"convertToInteractive('df-138372bf-54ec-4f23-8db3-cef848396c99')\"\n",
              "              title=\"Convert this dataframe to an interactive table.\"\n",
              "              style=\"display:none;\">\n",
              "        \n",
              "  <svg xmlns=\"http://www.w3.org/2000/svg\" height=\"24px\"viewBox=\"0 0 24 24\"\n",
              "       width=\"24px\">\n",
              "    <path d=\"M0 0h24v24H0V0z\" fill=\"none\"/>\n",
              "    <path d=\"M18.56 5.44l.94 2.06.94-2.06 2.06-.94-2.06-.94-.94-2.06-.94 2.06-2.06.94zm-11 1L8.5 8.5l.94-2.06 2.06-.94-2.06-.94L8.5 2.5l-.94 2.06-2.06.94zm10 10l.94 2.06.94-2.06 2.06-.94-2.06-.94-.94-2.06-.94 2.06-2.06.94z\"/><path d=\"M17.41 7.96l-1.37-1.37c-.4-.4-.92-.59-1.43-.59-.52 0-1.04.2-1.43.59L10.3 9.45l-7.72 7.72c-.78.78-.78 2.05 0 2.83L4 21.41c.39.39.9.59 1.41.59.51 0 1.02-.2 1.41-.59l7.78-7.78 2.81-2.81c.8-.78.8-2.07 0-2.86zM5.41 20L4 18.59l7.72-7.72 1.47 1.35L5.41 20z\"/>\n",
              "  </svg>\n",
              "      </button>\n",
              "      \n",
              "  <style>\n",
              "    .colab-df-container {\n",
              "      display:flex;\n",
              "      flex-wrap:wrap;\n",
              "      gap: 12px;\n",
              "    }\n",
              "\n",
              "    .colab-df-convert {\n",
              "      background-color: #E8F0FE;\n",
              "      border: none;\n",
              "      border-radius: 50%;\n",
              "      cursor: pointer;\n",
              "      display: none;\n",
              "      fill: #1967D2;\n",
              "      height: 32px;\n",
              "      padding: 0 0 0 0;\n",
              "      width: 32px;\n",
              "    }\n",
              "\n",
              "    .colab-df-convert:hover {\n",
              "      background-color: #E2EBFA;\n",
              "      box-shadow: 0px 1px 2px rgba(60, 64, 67, 0.3), 0px 1px 3px 1px rgba(60, 64, 67, 0.15);\n",
              "      fill: #174EA6;\n",
              "    }\n",
              "\n",
              "    [theme=dark] .colab-df-convert {\n",
              "      background-color: #3B4455;\n",
              "      fill: #D2E3FC;\n",
              "    }\n",
              "\n",
              "    [theme=dark] .colab-df-convert:hover {\n",
              "      background-color: #434B5C;\n",
              "      box-shadow: 0px 1px 3px 1px rgba(0, 0, 0, 0.15);\n",
              "      filter: drop-shadow(0px 1px 2px rgba(0, 0, 0, 0.3));\n",
              "      fill: #FFFFFF;\n",
              "    }\n",
              "  </style>\n",
              "\n",
              "      <script>\n",
              "        const buttonEl =\n",
              "          document.querySelector('#df-138372bf-54ec-4f23-8db3-cef848396c99 button.colab-df-convert');\n",
              "        buttonEl.style.display =\n",
              "          google.colab.kernel.accessAllowed ? 'block' : 'none';\n",
              "\n",
              "        async function convertToInteractive(key) {\n",
              "          const element = document.querySelector('#df-138372bf-54ec-4f23-8db3-cef848396c99');\n",
              "          const dataTable =\n",
              "            await google.colab.kernel.invokeFunction('convertToInteractive',\n",
              "                                                     [key], {});\n",
              "          if (!dataTable) return;\n",
              "\n",
              "          const docLinkHtml = 'Like what you see? Visit the ' +\n",
              "            '<a target=\"_blank\" href=https://colab.research.google.com/notebooks/data_table.ipynb>data table notebook</a>'\n",
              "            + ' to learn more about interactive tables.';\n",
              "          element.innerHTML = '';\n",
              "          dataTable['output_type'] = 'display_data';\n",
              "          await google.colab.output.renderOutput(dataTable, element);\n",
              "          const docLink = document.createElement('div');\n",
              "          docLink.innerHTML = docLinkHtml;\n",
              "          element.appendChild(docLink);\n",
              "        }\n",
              "      </script>\n",
              "    </div>\n",
              "  </div>\n",
              "  "
            ],
            "text/plain": [
              "     Dir        Flgs     SrcAddr     DstAddr  ... Heart_rate  Resp_Rate   ST  Label\n",
              "0     ->   e          10.0.1.172  10.0.1.150  ...          0          0  0.0      0\n",
              "1     ->   e          10.0.1.172  10.0.1.150  ...         78         17  0.4      0\n",
              "2     ->   e          10.0.1.172  10.0.1.150  ...         78         17  0.4      0\n",
              "3     ->   e          10.0.1.172  10.0.1.150  ...         79         17  0.4      0\n",
              "4     ->   e          10.0.1.172  10.0.1.150  ...         79         17  0.4      0\n",
              "\n",
              "[5 rows x 44 columns]"
            ]
          },
          "metadata": {},
          "execution_count": 3
        }
      ]
    },
    {
      "cell_type": "code",
      "source": [
        "drop_columns = ['Dir', 'Flgs']\n",
        "df_dropped = df.drop(columns=drop_columns)\n",
        "df_dropped.info()"
      ],
      "metadata": {
        "id": "mgN-h-0NsdSZ",
        "colab": {
          "base_uri": "https://localhost:8080/"
        },
        "outputId": "87b8c105-a8c6-47da-e69d-e7caac17df15"
      },
      "execution_count": null,
      "outputs": [
        {
          "output_type": "stream",
          "name": "stdout",
          "text": [
            "<class 'pandas.core.frame.DataFrame'>\n",
            "RangeIndex: 16318 entries, 0 to 16317\n",
            "Data columns (total 42 columns):\n",
            " #   Column      Non-Null Count  Dtype  \n",
            "---  ------      --------------  -----  \n",
            " 0   SrcAddr     16318 non-null  object \n",
            " 1   DstAddr     16318 non-null  object \n",
            " 2   Sport       16318 non-null  object \n",
            " 3   Dport       16318 non-null  int64  \n",
            " 4   SrcBytes    16318 non-null  float64\n",
            " 5   DstBytes    16318 non-null  float64\n",
            " 6   SrcLoad     16318 non-null  float64\n",
            " 7   DstLoad     16318 non-null  float64\n",
            " 8   SrcGap      16318 non-null  float64\n",
            " 9   DstGap      16318 non-null  float64\n",
            " 10  SIntPkt     16318 non-null  float64\n",
            " 11  DIntPkt     16318 non-null  float64\n",
            " 12  SIntPktAct  16318 non-null  float64\n",
            " 13  DIntPktAct  16318 non-null  float64\n",
            " 14  SrcJitter   16318 non-null  float64\n",
            " 15  DstJitter   16318 non-null  float64\n",
            " 16  sMaxPktSz   16318 non-null  int64  \n",
            " 17  dMaxPktSz   16318 non-null  int64  \n",
            " 18  sMinPktSz   16318 non-null  int64  \n",
            " 19  dMinPktSz   16318 non-null  int64  \n",
            " 20  Dur         16318 non-null  float64\n",
            " 21  Trans       16318 non-null  int64  \n",
            " 22  TotPkts     16318 non-null  float64\n",
            " 23  TotBytes    16318 non-null  float64\n",
            " 24  Load        16318 non-null  float64\n",
            " 25  Loss        16318 non-null  int64  \n",
            " 26  pLoss       16318 non-null  float64\n",
            " 27  pSrcLoss    16318 non-null  float64\n",
            " 28  pDstLoss    16318 non-null  float64\n",
            " 29  Rate        16318 non-null  float64\n",
            " 30  SrcMac      16318 non-null  object \n",
            " 31  DstMac      16318 non-null  object \n",
            " 32  Packet_num  16318 non-null  int64  \n",
            " 33  Temp        16318 non-null  float64\n",
            " 34  SpO2        16318 non-null  int64  \n",
            " 35  Pulse_Rate  16318 non-null  int64  \n",
            " 36  SYS         16318 non-null  int64  \n",
            " 37  DIA         16318 non-null  int64  \n",
            " 38  Heart_rate  16318 non-null  int64  \n",
            " 39  Resp_Rate   16318 non-null  int64  \n",
            " 40  ST          16318 non-null  float64\n",
            " 41  Label       16318 non-null  int64  \n",
            "dtypes: float64(22), int64(15), object(5)\n",
            "memory usage: 5.2+ MB\n"
          ]
        }
      ]
    },
    {
      "cell_type": "markdown",
      "source": [
        "# 2. Null and duplicated values <a name=\"2\"></a>\n"
      ],
      "metadata": {
        "id": "kLHZk1Gh3eum"
      }
    },
    {
      "cell_type": "markdown",
      "source": [
        "**Checking Missing Value**\n",
        "\n",
        "Following code shows dataset does not have any missing values."
      ],
      "metadata": {
        "id": "xft14wIemUb2"
      }
    },
    {
      "cell_type": "code",
      "source": [
        "df_dropped.isnull().sum()"
      ],
      "metadata": {
        "colab": {
          "base_uri": "https://localhost:8080/"
        },
        "id": "mPTuklVZmSLP",
        "outputId": "5b2885ee-0104-4e2d-8c51-d881b90a4dd4"
      },
      "execution_count": null,
      "outputs": [
        {
          "output_type": "execute_result",
          "data": {
            "text/plain": [
              "SrcAddr       0\n",
              "DstAddr       0\n",
              "Sport         0\n",
              "Dport         0\n",
              "SrcBytes      0\n",
              "DstBytes      0\n",
              "SrcLoad       0\n",
              "DstLoad       0\n",
              "SrcGap        0\n",
              "DstGap        0\n",
              "SIntPkt       0\n",
              "DIntPkt       0\n",
              "SIntPktAct    0\n",
              "DIntPktAct    0\n",
              "SrcJitter     0\n",
              "DstJitter     0\n",
              "sMaxPktSz     0\n",
              "dMaxPktSz     0\n",
              "sMinPktSz     0\n",
              "dMinPktSz     0\n",
              "Dur           0\n",
              "Trans         0\n",
              "TotPkts       0\n",
              "TotBytes      0\n",
              "Load          0\n",
              "Loss          0\n",
              "pLoss         0\n",
              "pSrcLoss      0\n",
              "pDstLoss      0\n",
              "Rate          0\n",
              "SrcMac        0\n",
              "DstMac        0\n",
              "Packet_num    0\n",
              "Temp          0\n",
              "SpO2          0\n",
              "Pulse_Rate    0\n",
              "SYS           0\n",
              "DIA           0\n",
              "Heart_rate    0\n",
              "Resp_Rate     0\n",
              "ST            0\n",
              "Label         0\n",
              "dtype: int64"
            ]
          },
          "metadata": {},
          "execution_count": 21
        }
      ]
    },
    {
      "cell_type": "markdown",
      "source": [
        "**Checking duplicated values**\n",
        "\n",
        "Now we need to check if there is any duplicated value, because it does not make any sense to have duplicate value in our analysis.\n",
        "I will check shape, so the dataset does not have a duplicated value."
      ],
      "metadata": {
        "id": "1iEVeuz8nRBc"
      }
    },
    {
      "cell_type": "code",
      "source": [
        "df_dropped[df_dropped.duplicated()].shape"
      ],
      "metadata": {
        "colab": {
          "base_uri": "https://localhost:8080/"
        },
        "id": "mO5S63h_nn7c",
        "outputId": "14284f8d-361b-4e76-eb03-66f5f3a7d048"
      },
      "execution_count": null,
      "outputs": [
        {
          "output_type": "execute_result",
          "data": {
            "text/plain": [
              "(0, 42)"
            ]
          },
          "metadata": {},
          "execution_count": 22
        }
      ]
    },
    {
      "cell_type": "code",
      "source": [
        "df_dropped.describe()"
      ],
      "metadata": {
        "colab": {
          "base_uri": "https://localhost:8080/",
          "height": 364
        },
        "id": "akROSrTwlE91",
        "outputId": "a13d823c-557e-4c2a-9399-677ab9c753c7"
      },
      "execution_count": null,
      "outputs": [
        {
          "output_type": "execute_result",
          "data": {
            "text/html": [
              "\n",
              "  <div id=\"df-9a645f5c-8e68-40f9-9d2f-09f6605e6bce\">\n",
              "    <div class=\"colab-df-container\">\n",
              "      <div>\n",
              "<style scoped>\n",
              "    .dataframe tbody tr th:only-of-type {\n",
              "        vertical-align: middle;\n",
              "    }\n",
              "\n",
              "    .dataframe tbody tr th {\n",
              "        vertical-align: top;\n",
              "    }\n",
              "\n",
              "    .dataframe thead th {\n",
              "        text-align: right;\n",
              "    }\n",
              "</style>\n",
              "<table border=\"1\" class=\"dataframe\">\n",
              "  <thead>\n",
              "    <tr style=\"text-align: right;\">\n",
              "      <th></th>\n",
              "      <th>Dport</th>\n",
              "      <th>SrcBytes</th>\n",
              "      <th>DstBytes</th>\n",
              "      <th>SrcLoad</th>\n",
              "      <th>DstLoad</th>\n",
              "      <th>SrcGap</th>\n",
              "      <th>DstGap</th>\n",
              "      <th>SIntPkt</th>\n",
              "      <th>DIntPkt</th>\n",
              "      <th>SIntPktAct</th>\n",
              "      <th>DIntPktAct</th>\n",
              "      <th>SrcJitter</th>\n",
              "      <th>DstJitter</th>\n",
              "      <th>sMaxPktSz</th>\n",
              "      <th>dMaxPktSz</th>\n",
              "      <th>sMinPktSz</th>\n",
              "      <th>dMinPktSz</th>\n",
              "      <th>Dur</th>\n",
              "      <th>Trans</th>\n",
              "      <th>TotPkts</th>\n",
              "      <th>TotBytes</th>\n",
              "      <th>Load</th>\n",
              "      <th>Loss</th>\n",
              "      <th>pLoss</th>\n",
              "      <th>pSrcLoss</th>\n",
              "      <th>pDstLoss</th>\n",
              "      <th>Rate</th>\n",
              "      <th>Packet_num</th>\n",
              "      <th>Temp</th>\n",
              "      <th>SpO2</th>\n",
              "      <th>Pulse_Rate</th>\n",
              "      <th>SYS</th>\n",
              "      <th>DIA</th>\n",
              "      <th>Heart_rate</th>\n",
              "      <th>Resp_Rate</th>\n",
              "      <th>ST</th>\n",
              "      <th>Label</th>\n",
              "    </tr>\n",
              "  </thead>\n",
              "  <tbody>\n",
              "    <tr>\n",
              "      <th>count</th>\n",
              "      <td>16318.0</td>\n",
              "      <td>16318.000000</td>\n",
              "      <td>16318.000000</td>\n",
              "      <td>1.631800e+04</td>\n",
              "      <td>1.631800e+04</td>\n",
              "      <td>16318.0</td>\n",
              "      <td>16318.0</td>\n",
              "      <td>16318.000000</td>\n",
              "      <td>16318.000000</td>\n",
              "      <td>16318.000000</td>\n",
              "      <td>16318.0</td>\n",
              "      <td>16318.000000</td>\n",
              "      <td>16318.000000</td>\n",
              "      <td>16318.000000</td>\n",
              "      <td>16318.000000</td>\n",
              "      <td>16318.000000</td>\n",
              "      <td>16318.0</td>\n",
              "      <td>16318.000000</td>\n",
              "      <td>16318.0</td>\n",
              "      <td>16318.000000</td>\n",
              "      <td>16318.000000</td>\n",
              "      <td>1.631800e+04</td>\n",
              "      <td>16318.00000</td>\n",
              "      <td>16318.000000</td>\n",
              "      <td>16318.000000</td>\n",
              "      <td>16318.000000</td>\n",
              "      <td>16318.000000</td>\n",
              "      <td>16318.000000</td>\n",
              "      <td>16318.000000</td>\n",
              "      <td>16318.000000</td>\n",
              "      <td>16318.000000</td>\n",
              "      <td>16318.000000</td>\n",
              "      <td>16318.000000</td>\n",
              "      <td>16318.000000</td>\n",
              "      <td>16318.000000</td>\n",
              "      <td>16318.000000</td>\n",
              "      <td>16318.000000</td>\n",
              "    </tr>\n",
              "    <tr>\n",
              "      <th>mean</th>\n",
              "      <td>1111.0</td>\n",
              "      <td>496.650264</td>\n",
              "      <td>187.077706</td>\n",
              "      <td>2.118406e+05</td>\n",
              "      <td>7.102435e+04</td>\n",
              "      <td>0.0</td>\n",
              "      <td>0.0</td>\n",
              "      <td>10.946755</td>\n",
              "      <td>8.515423</td>\n",
              "      <td>1.286918</td>\n",
              "      <td>0.0</td>\n",
              "      <td>32.025841</td>\n",
              "      <td>8.546796</td>\n",
              "      <td>310.000429</td>\n",
              "      <td>65.999632</td>\n",
              "      <td>60.061282</td>\n",
              "      <td>60.0</td>\n",
              "      <td>0.039227</td>\n",
              "      <td>1.0</td>\n",
              "      <td>7.018201</td>\n",
              "      <td>683.727969</td>\n",
              "      <td>2.828650e+05</td>\n",
              "      <td>0.00239</td>\n",
              "      <td>0.018954</td>\n",
              "      <td>0.015933</td>\n",
              "      <td>0.018044</td>\n",
              "      <td>428.720250</td>\n",
              "      <td>8156.308800</td>\n",
              "      <td>26.906815</td>\n",
              "      <td>97.808861</td>\n",
              "      <td>76.723741</td>\n",
              "      <td>142.846611</td>\n",
              "      <td>80.094190</td>\n",
              "      <td>75.443927</td>\n",
              "      <td>19.695551</td>\n",
              "      <td>0.258007</td>\n",
              "      <td>0.125383</td>\n",
              "    </tr>\n",
              "    <tr>\n",
              "      <th>std</th>\n",
              "      <td>0.0</td>\n",
              "      <td>28.584642</td>\n",
              "      <td>18.688525</td>\n",
              "      <td>7.942988e+04</td>\n",
              "      <td>4.530811e+04</td>\n",
              "      <td>0.0</td>\n",
              "      <td>0.0</td>\n",
              "      <td>101.230484</td>\n",
              "      <td>52.504560</td>\n",
              "      <td>62.123452</td>\n",
              "      <td>0.0</td>\n",
              "      <td>1266.374694</td>\n",
              "      <td>49.667244</td>\n",
              "      <td>0.020708</td>\n",
              "      <td>0.046970</td>\n",
              "      <td>3.913782</td>\n",
              "      <td>0.0</td>\n",
              "      <td>0.249900</td>\n",
              "      <td>0.0</td>\n",
              "      <td>0.341381</td>\n",
              "      <td>41.832695</td>\n",
              "      <td>1.113250e+05</td>\n",
              "      <td>0.08679</td>\n",
              "      <td>0.634312</td>\n",
              "      <td>0.526854</td>\n",
              "      <td>0.748675</td>\n",
              "      <td>215.539362</td>\n",
              "      <td>4709.735634</td>\n",
              "      <td>0.919766</td>\n",
              "      <td>1.496269</td>\n",
              "      <td>7.431914</td>\n",
              "      <td>8.493933</td>\n",
              "      <td>6.125289</td>\n",
              "      <td>6.609102</td>\n",
              "      <td>7.325856</td>\n",
              "      <td>0.103980</td>\n",
              "      <td>0.331163</td>\n",
              "    </tr>\n",
              "    <tr>\n",
              "      <th>min</th>\n",
              "      <td>1111.0</td>\n",
              "      <td>310.000000</td>\n",
              "      <td>120.000000</td>\n",
              "      <td>0.000000e+00</td>\n",
              "      <td>5.074470e+02</td>\n",
              "      <td>0.0</td>\n",
              "      <td>0.0</td>\n",
              "      <td>0.875000</td>\n",
              "      <td>0.730500</td>\n",
              "      <td>0.000000</td>\n",
              "      <td>0.0</td>\n",
              "      <td>0.000000</td>\n",
              "      <td>0.675500</td>\n",
              "      <td>310.000000</td>\n",
              "      <td>60.000000</td>\n",
              "      <td>60.000000</td>\n",
              "      <td>60.0</td>\n",
              "      <td>0.000128</td>\n",
              "      <td>1.0</td>\n",
              "      <td>3.000000</td>\n",
              "      <td>436.000000</td>\n",
              "      <td>5.389800e+02</td>\n",
              "      <td>0.00000</td>\n",
              "      <td>0.000000</td>\n",
              "      <td>0.000000</td>\n",
              "      <td>0.000000</td>\n",
              "      <td>1.790000</td>\n",
              "      <td>1.000000</td>\n",
              "      <td>23.600000</td>\n",
              "      <td>0.000000</td>\n",
              "      <td>0.000000</td>\n",
              "      <td>0.000000</td>\n",
              "      <td>0.000000</td>\n",
              "      <td>0.000000</td>\n",
              "      <td>0.000000</td>\n",
              "      <td>-0.300000</td>\n",
              "      <td>0.000000</td>\n",
              "    </tr>\n",
              "    <tr>\n",
              "      <th>25%</th>\n",
              "      <td>1111.0</td>\n",
              "      <td>496.000000</td>\n",
              "      <td>186.000000</td>\n",
              "      <td>1.990535e+05</td>\n",
              "      <td>6.635500e+04</td>\n",
              "      <td>0.0</td>\n",
              "      <td>0.0</td>\n",
              "      <td>3.792667</td>\n",
              "      <td>2.226000</td>\n",
              "      <td>0.000000</td>\n",
              "      <td>0.0</td>\n",
              "      <td>2.814472</td>\n",
              "      <td>2.171500</td>\n",
              "      <td>310.000000</td>\n",
              "      <td>66.000000</td>\n",
              "      <td>60.000000</td>\n",
              "      <td>60.0</td>\n",
              "      <td>0.011376</td>\n",
              "      <td>1.0</td>\n",
              "      <td>7.000000</td>\n",
              "      <td>682.000000</td>\n",
              "      <td>2.654180e+05</td>\n",
              "      <td>0.00000</td>\n",
              "      <td>0.000000</td>\n",
              "      <td>0.000000</td>\n",
              "      <td>0.000000</td>\n",
              "      <td>401.338000</td>\n",
              "      <td>4077.250000</td>\n",
              "      <td>26.600000</td>\n",
              "      <td>98.000000</td>\n",
              "      <td>73.000000</td>\n",
              "      <td>142.000000</td>\n",
              "      <td>76.000000</td>\n",
              "      <td>73.000000</td>\n",
              "      <td>18.000000</td>\n",
              "      <td>0.200000</td>\n",
              "      <td>0.000000</td>\n",
              "    </tr>\n",
              "    <tr>\n",
              "      <th>50%</th>\n",
              "      <td>1111.0</td>\n",
              "      <td>496.000000</td>\n",
              "      <td>186.000000</td>\n",
              "      <td>2.366790e+05</td>\n",
              "      <td>7.889300e+04</td>\n",
              "      <td>0.0</td>\n",
              "      <td>0.0</td>\n",
              "      <td>4.191333</td>\n",
              "      <td>2.562250</td>\n",
              "      <td>0.000000</td>\n",
              "      <td>0.0</td>\n",
              "      <td>3.053852</td>\n",
              "      <td>2.505750</td>\n",
              "      <td>310.000000</td>\n",
              "      <td>66.000000</td>\n",
              "      <td>60.000000</td>\n",
              "      <td>60.0</td>\n",
              "      <td>0.012574</td>\n",
              "      <td>1.0</td>\n",
              "      <td>7.000000</td>\n",
              "      <td>682.000000</td>\n",
              "      <td>3.155720e+05</td>\n",
              "      <td>0.00000</td>\n",
              "      <td>0.000000</td>\n",
              "      <td>0.000000</td>\n",
              "      <td>0.000000</td>\n",
              "      <td>477.175000</td>\n",
              "      <td>8156.500000</td>\n",
              "      <td>27.000000</td>\n",
              "      <td>98.000000</td>\n",
              "      <td>73.000000</td>\n",
              "      <td>144.000000</td>\n",
              "      <td>83.000000</td>\n",
              "      <td>73.000000</td>\n",
              "      <td>19.000000</td>\n",
              "      <td>0.300000</td>\n",
              "      <td>0.000000</td>\n",
              "    </tr>\n",
              "    <tr>\n",
              "      <th>75%</th>\n",
              "      <td>1111.0</td>\n",
              "      <td>496.000000</td>\n",
              "      <td>186.000000</td>\n",
              "      <td>2.615570e+05</td>\n",
              "      <td>8.719300e+04</td>\n",
              "      <td>0.0</td>\n",
              "      <td>0.0</td>\n",
              "      <td>4.984167</td>\n",
              "      <td>3.136375</td>\n",
              "      <td>0.000000</td>\n",
              "      <td>0.0</td>\n",
              "      <td>3.680555</td>\n",
              "      <td>3.086000</td>\n",
              "      <td>310.000000</td>\n",
              "      <td>66.000000</td>\n",
              "      <td>60.000000</td>\n",
              "      <td>60.0</td>\n",
              "      <td>0.014950</td>\n",
              "      <td>1.0</td>\n",
              "      <td>7.000000</td>\n",
              "      <td>682.000000</td>\n",
              "      <td>3.487740e+05</td>\n",
              "      <td>0.00000</td>\n",
              "      <td>0.000000</td>\n",
              "      <td>0.000000</td>\n",
              "      <td>0.000000</td>\n",
              "      <td>527.380000</td>\n",
              "      <td>12234.750000</td>\n",
              "      <td>27.600000</td>\n",
              "      <td>98.000000</td>\n",
              "      <td>79.000000</td>\n",
              "      <td>148.000000</td>\n",
              "      <td>84.000000</td>\n",
              "      <td>79.000000</td>\n",
              "      <td>24.000000</td>\n",
              "      <td>0.300000</td>\n",
              "      <td>0.000000</td>\n",
              "    </tr>\n",
              "    <tr>\n",
              "      <th>max</th>\n",
              "      <td>1111.0</td>\n",
              "      <td>2298.000000</td>\n",
              "      <td>882.000000</td>\n",
              "      <td>1.134000e+06</td>\n",
              "      <td>3.938000e+06</td>\n",
              "      <td>0.0</td>\n",
              "      <td>0.0</td>\n",
              "      <td>9497.338000</td>\n",
              "      <td>2445.732000</td>\n",
              "      <td>3002.812000</td>\n",
              "      <td>0.0</td>\n",
              "      <td>66099.194141</td>\n",
              "      <td>2268.882000</td>\n",
              "      <td>311.000000</td>\n",
              "      <td>66.000000</td>\n",
              "      <td>310.000000</td>\n",
              "      <td>60.0</td>\n",
              "      <td>5.088520</td>\n",
              "      <td>1.0</td>\n",
              "      <td>23.000000</td>\n",
              "      <td>3180.000000</td>\n",
              "      <td>3.938000e+06</td>\n",
              "      <td>4.00000</td>\n",
              "      <td>28.571429</td>\n",
              "      <td>20.000000</td>\n",
              "      <td>33.333333</td>\n",
              "      <td>15625.000000</td>\n",
              "      <td>16314.000000</td>\n",
              "      <td>29.200000</td>\n",
              "      <td>100.000000</td>\n",
              "      <td>194.000000</td>\n",
              "      <td>149.000000</td>\n",
              "      <td>95.000000</td>\n",
              "      <td>119.000000</td>\n",
              "      <td>73.000000</td>\n",
              "      <td>1.000000</td>\n",
              "      <td>1.000000</td>\n",
              "    </tr>\n",
              "  </tbody>\n",
              "</table>\n",
              "</div>\n",
              "      <button class=\"colab-df-convert\" onclick=\"convertToInteractive('df-9a645f5c-8e68-40f9-9d2f-09f6605e6bce')\"\n",
              "              title=\"Convert this dataframe to an interactive table.\"\n",
              "              style=\"display:none;\">\n",
              "        \n",
              "  <svg xmlns=\"http://www.w3.org/2000/svg\" height=\"24px\"viewBox=\"0 0 24 24\"\n",
              "       width=\"24px\">\n",
              "    <path d=\"M0 0h24v24H0V0z\" fill=\"none\"/>\n",
              "    <path d=\"M18.56 5.44l.94 2.06.94-2.06 2.06-.94-2.06-.94-.94-2.06-.94 2.06-2.06.94zm-11 1L8.5 8.5l.94-2.06 2.06-.94-2.06-.94L8.5 2.5l-.94 2.06-2.06.94zm10 10l.94 2.06.94-2.06 2.06-.94-2.06-.94-.94-2.06-.94 2.06-2.06.94z\"/><path d=\"M17.41 7.96l-1.37-1.37c-.4-.4-.92-.59-1.43-.59-.52 0-1.04.2-1.43.59L10.3 9.45l-7.72 7.72c-.78.78-.78 2.05 0 2.83L4 21.41c.39.39.9.59 1.41.59.51 0 1.02-.2 1.41-.59l7.78-7.78 2.81-2.81c.8-.78.8-2.07 0-2.86zM5.41 20L4 18.59l7.72-7.72 1.47 1.35L5.41 20z\"/>\n",
              "  </svg>\n",
              "      </button>\n",
              "      \n",
              "  <style>\n",
              "    .colab-df-container {\n",
              "      display:flex;\n",
              "      flex-wrap:wrap;\n",
              "      gap: 12px;\n",
              "    }\n",
              "\n",
              "    .colab-df-convert {\n",
              "      background-color: #E8F0FE;\n",
              "      border: none;\n",
              "      border-radius: 50%;\n",
              "      cursor: pointer;\n",
              "      display: none;\n",
              "      fill: #1967D2;\n",
              "      height: 32px;\n",
              "      padding: 0 0 0 0;\n",
              "      width: 32px;\n",
              "    }\n",
              "\n",
              "    .colab-df-convert:hover {\n",
              "      background-color: #E2EBFA;\n",
              "      box-shadow: 0px 1px 2px rgba(60, 64, 67, 0.3), 0px 1px 3px 1px rgba(60, 64, 67, 0.15);\n",
              "      fill: #174EA6;\n",
              "    }\n",
              "\n",
              "    [theme=dark] .colab-df-convert {\n",
              "      background-color: #3B4455;\n",
              "      fill: #D2E3FC;\n",
              "    }\n",
              "\n",
              "    [theme=dark] .colab-df-convert:hover {\n",
              "      background-color: #434B5C;\n",
              "      box-shadow: 0px 1px 3px 1px rgba(0, 0, 0, 0.15);\n",
              "      filter: drop-shadow(0px 1px 2px rgba(0, 0, 0, 0.3));\n",
              "      fill: #FFFFFF;\n",
              "    }\n",
              "  </style>\n",
              "\n",
              "      <script>\n",
              "        const buttonEl =\n",
              "          document.querySelector('#df-9a645f5c-8e68-40f9-9d2f-09f6605e6bce button.colab-df-convert');\n",
              "        buttonEl.style.display =\n",
              "          google.colab.kernel.accessAllowed ? 'block' : 'none';\n",
              "\n",
              "        async function convertToInteractive(key) {\n",
              "          const element = document.querySelector('#df-9a645f5c-8e68-40f9-9d2f-09f6605e6bce');\n",
              "          const dataTable =\n",
              "            await google.colab.kernel.invokeFunction('convertToInteractive',\n",
              "                                                     [key], {});\n",
              "          if (!dataTable) return;\n",
              "\n",
              "          const docLinkHtml = 'Like what you see? Visit the ' +\n",
              "            '<a target=\"_blank\" href=https://colab.research.google.com/notebooks/data_table.ipynb>data table notebook</a>'\n",
              "            + ' to learn more about interactive tables.';\n",
              "          element.innerHTML = '';\n",
              "          dataTable['output_type'] = 'display_data';\n",
              "          await google.colab.output.renderOutput(dataTable, element);\n",
              "          const docLink = document.createElement('div');\n",
              "          docLink.innerHTML = docLinkHtml;\n",
              "          element.appendChild(docLink);\n",
              "        }\n",
              "      </script>\n",
              "    </div>\n",
              "  </div>\n",
              "  "
            ],
            "text/plain": [
              "         Dport      SrcBytes  ...            ST         Label\n",
              "count  16318.0  16318.000000  ...  16318.000000  16318.000000\n",
              "mean    1111.0    496.650264  ...      0.258007      0.125383\n",
              "std        0.0     28.584642  ...      0.103980      0.331163\n",
              "min     1111.0    310.000000  ...     -0.300000      0.000000\n",
              "25%     1111.0    496.000000  ...      0.200000      0.000000\n",
              "50%     1111.0    496.000000  ...      0.300000      0.000000\n",
              "75%     1111.0    496.000000  ...      0.300000      0.000000\n",
              "max     1111.0   2298.000000  ...      1.000000      1.000000\n",
              "\n",
              "[8 rows x 37 columns]"
            ]
          },
          "metadata": {},
          "execution_count": 23
        }
      ]
    },
    {
      "cell_type": "markdown",
      "source": [
        "# 2. Exploratory Data Analysis <a name=\"3\"></a>\n"
      ],
      "metadata": {
        "id": "a4liuk_74CSN"
      }
    },
    {
      "cell_type": "markdown",
      "source": [
        "**1- Number of attacks in the dataset:**"
      ],
      "metadata": {
        "id": "-3ubKWGDjrRq"
      }
    },
    {
      "cell_type": "code",
      "source": [
        "df_dropped['Label'].value_counts()"
      ],
      "metadata": {
        "colab": {
          "base_uri": "https://localhost:8080/"
        },
        "id": "4LG3B701jnaL",
        "outputId": "11232834-3bb2-4d1d-cf5a-feee1ab21f96"
      },
      "execution_count": null,
      "outputs": [
        {
          "output_type": "execute_result",
          "data": {
            "text/plain": [
              "0    14272\n",
              "1     2046\n",
              "Name: Label, dtype: int64"
            ]
          },
          "metadata": {},
          "execution_count": 24
        }
      ]
    },
    {
      "cell_type": "markdown",
      "source": [
        "**2- number of Source address and destination address in the dataset:**"
      ],
      "metadata": {
        "id": "qNnrTPd2OP-e"
      }
    },
    {
      "cell_type": "code",
      "source": [
        "df_dropped['SrcAddr'].value_counts()"
      ],
      "metadata": {
        "colab": {
          "base_uri": "https://localhost:8080/"
        },
        "id": "hqIULsJ3OYOt",
        "outputId": "6a039958-9bc7-4e52-c025-994b72ba486c"
      },
      "execution_count": null,
      "outputs": [
        {
          "output_type": "execute_result",
          "data": {
            "text/plain": [
              "10.0.1.172    16318\n",
              "Name: SrcAddr, dtype: int64"
            ]
          },
          "metadata": {},
          "execution_count": 8
        }
      ]
    },
    {
      "cell_type": "code",
      "source": [
        "df_dropped['DstAddr'].value_counts()"
      ],
      "metadata": {
        "colab": {
          "base_uri": "https://localhost:8080/"
        },
        "id": "awoujusSkr2c",
        "outputId": "fb637eb1-d6ef-4b8d-d62a-2afe2d5d83d8"
      },
      "execution_count": null,
      "outputs": [
        {
          "output_type": "execute_result",
          "data": {
            "text/plain": [
              "10.0.1.150    16318\n",
              "Name: DstAddr, dtype: int64"
            ]
          },
          "metadata": {},
          "execution_count": 25
        }
      ]
    },
    {
      "cell_type": "markdown",
      "source": [
        "**3- How many source address suffered most attacks?**"
      ],
      "metadata": {
        "id": "esiWy8yvOrID"
      }
    },
    {
      "cell_type": "code",
      "source": [
        "IoMT_attack = df_dropped[df_dropped['Label'] == 1]"
      ],
      "metadata": {
        "id": "ym4ZNHgUOucS"
      },
      "execution_count": null,
      "outputs": []
    },
    {
      "cell_type": "code",
      "source": [
        "IoMT_attack['SrcAddr'].value_counts()"
      ],
      "metadata": {
        "id": "a-5Pm9gCPAH5",
        "colab": {
          "base_uri": "https://localhost:8080/"
        },
        "outputId": "79937c25-33bf-4c23-848f-c451903c35a1"
      },
      "execution_count": null,
      "outputs": [
        {
          "output_type": "execute_result",
          "data": {
            "text/plain": [
              "10.0.1.172    2046\n",
              "Name: SrcAddr, dtype: int64"
            ]
          },
          "metadata": {},
          "execution_count": 10
        }
      ]
    },
    {
      "cell_type": "markdown",
      "source": [
        "**4- How many destination address suffered most attacks?**"
      ],
      "metadata": {
        "id": "6sqv8w43PeVC"
      }
    },
    {
      "cell_type": "code",
      "source": [
        "IoMT_attack['DstAddr'].value_counts()"
      ],
      "metadata": {
        "id": "xfmw_VNzPlCN",
        "colab": {
          "base_uri": "https://localhost:8080/"
        },
        "outputId": "dca7375f-b4a8-450e-f47f-4a1ed0d1d315"
      },
      "execution_count": null,
      "outputs": [
        {
          "output_type": "execute_result",
          "data": {
            "text/plain": [
              "10.0.1.150    2046\n",
              "Name: DstAddr, dtype: int64"
            ]
          },
          "metadata": {},
          "execution_count": 11
        }
      ]
    },
    {
      "cell_type": "markdown",
      "source": [
        "**5 - Which Source port caused the most attacks?**"
      ],
      "metadata": {
        "id": "Wzaxeu5UULqR"
      }
    },
    {
      "cell_type": "code",
      "source": [
        "IoMT_attack['Sport'].value_counts().nlargest(10)"
      ],
      "metadata": {
        "id": "iKE5QNybOq3x",
        "colab": {
          "base_uri": "https://localhost:8080/"
        },
        "outputId": "a62828cc-510c-4ba9-877e-82bc81c4e483"
      },
      "execution_count": null,
      "outputs": [
        {
          "output_type": "execute_result",
          "data": {
            "text/plain": [
              "51612    2\n",
              "50474    2\n",
              "64273    2\n",
              "57458    2\n",
              "56609    1\n",
              "56585    1\n",
              "56588    1\n",
              "56591    1\n",
              "56601    1\n",
              "58388    1\n",
              "Name: Sport, dtype: int64"
            ]
          },
          "metadata": {},
          "execution_count": 12
        }
      ]
    },
    {
      "cell_type": "code",
      "source": [
        "plt.figure(figsize=(15,10))\n",
        "ax = sns.countplot(x='Sport', data=IoMT_attack, palette='CMRmap', order=IoMT_attack.Sport.value_counts().iloc[:20].index)\n",
        "ax.set(xlabel='Source port', ylabel='Total Attack Packets')\n"
      ],
      "metadata": {
        "id": "rUH_bqutfCbp",
        "colab": {
          "base_uri": "https://localhost:8080/",
          "height": 624
        },
        "outputId": "99749500-ab02-4bd8-e80a-2158c58c4301"
      },
      "execution_count": null,
      "outputs": [
        {
          "output_type": "execute_result",
          "data": {
            "text/plain": [
              "[Text(0, 0.5, 'Total Attack Packets'), Text(0.5, 0, 'Source port')]"
            ]
          },
          "metadata": {},
          "execution_count": 13
        },
        {
          "output_type": "display_data",
          "data": {
            "image/png": "[encoded data removed]",
            "text/plain": [
              "<Figure size 1080x720 with 1 Axes>"
            ]
          },
          "metadata": {
            "needs_background": "light"
          }
        }
      ]
    },
    {
      "cell_type": "markdown",
      "source": [
        "**5 - Which destination port suffered the most attacks?**"
      ],
      "metadata": {
        "id": "65rSe3q5VL3k"
      }
    },
    {
      "cell_type": "code",
      "source": [
        "IoMT_attack['Dport'].value_counts().nlargest(10)"
      ],
      "metadata": {
        "id": "Q0xRyMPTVP7h",
        "colab": {
          "base_uri": "https://localhost:8080/"
        },
        "outputId": "af9ed7cf-1a24-4e77-a19d-5f387b9c4f26"
      },
      "execution_count": null,
      "outputs": [
        {
          "output_type": "execute_result",
          "data": {
            "text/plain": [
              "1111    2046\n",
              "Name: Dport, dtype: int64"
            ]
          },
          "metadata": {},
          "execution_count": 14
        }
      ]
    },
    {
      "cell_type": "markdown",
      "source": [
        "**Analyzing biometric Data**"
      ],
      "metadata": {
        "id": "uO3E8xw40Z6L"
      }
    },
    {
      "cell_type": "markdown",
      "source": [
        "**1- Is there any relationship between high heart rate and attack?**"
      ],
      "metadata": {
        "id": "aGXD74s6uei9"
      }
    },
    {
      "cell_type": "code",
      "source": [
        "plt.figure(figsize=(25,10))\n",
        "sns.countplot(data= IoMT_attack, x='Heart_rate',hue='Label')\n",
        "plt.title('Heart rate v/s Attack\\n')"
      ],
      "metadata": {
        "id": "QYE-fIU4uzo8",
        "colab": {
          "base_uri": "https://localhost:8080/",
          "height": 654
        },
        "outputId": "d8e87d9a-049c-496a-d508-aadb203538ca"
      },
      "execution_count": null,
      "outputs": [
        {
          "output_type": "execute_result",
          "data": {
            "text/plain": [
              "Text(0.5, 1.0, 'Heart rate v/s Attack\\n')"
            ]
          },
          "metadata": {},
          "execution_count": 15
        },
        {
          "output_type": "display_data",
          "data": {
            "image/png": "[encoded data removed]",
            "text/plain": [
              "<Figure size 1800x720 with 1 Axes>"
            ]
          },
          "metadata": {
            "needs_background": "light"
          }
        }
      ]
    },
    {
      "cell_type": "markdown",
      "source": [
        "**2- What is the level of Blood oxygen during the attack?**"
      ],
      "metadata": {
        "id": "B5QQAVg4wfEJ"
      }
    },
    {
      "cell_type": "code",
      "source": [
        "plt.figure(figsize=(15,10))\n",
        "sns.countplot(data= IoMT_attack, x='SpO2',hue='Label')\n",
        "plt.title('Blood oxygen Level v/s Attack\\n')"
      ],
      "metadata": {
        "id": "Jsh4kDiUwflC",
        "colab": {
          "base_uri": "https://localhost:8080/",
          "height": 654
        },
        "outputId": "553012b0-034c-4b8f-abc6-8f3d5caeaa7c"
      },
      "execution_count": null,
      "outputs": [
        {
          "output_type": "execute_result",
          "data": {
            "text/plain": [
              "Text(0.5, 1.0, 'Blood oxygen Level v/s Attack\\n')"
            ]
          },
          "metadata": {},
          "execution_count": 26
        },
        {
          "output_type": "display_data",
          "data": {
            "image/png": "[encoded data removed]",
            "text/plain": [
              "<Figure size 1080x720 with 1 Axes>"
            ]
          },
          "metadata": {
            "needs_background": "light"
          }
        }
      ]
    },
    {
      "cell_type": "markdown",
      "source": [
        ""
      ],
      "metadata": {
        "id": "riDTU1tG-8z7"
      }
    },
    {
      "cell_type": "markdown",
      "source": [
        "**3- What is the patient's temperature  during the attack?**"
      ],
      "metadata": {
        "id": "h5XPdpEcxv3x"
      }
    },
    {
      "cell_type": "code",
      "source": [
        "plt.figure(figsize=(25,10))\n",
        "ax = sns.countplot(x='Temp', data=IoMT_attack, palette='CMRmap', order=IoMT_attack.Temp.value_counts().iloc[:10].index)\n",
        "ax.set(xlabel='Temp', ylabel='Total Attack Packets')\n",
        "ax.set(xlabel='Temperature (Celsius).', ylabel='Length (mean)')"
      ],
      "metadata": {
        "id": "OQStG5amxwfO",
        "colab": {
          "base_uri": "https://localhost:8080/",
          "height": 624
        },
        "outputId": "dad21345-2c3b-4b58-cd46-03020c850727"
      },
      "execution_count": null,
      "outputs": [
        {
          "output_type": "execute_result",
          "data": {
            "text/plain": [
              "[Text(0, 0.5, 'Length (mean)'), Text(0.5, 0, 'Temperature (Celsius).')]"
            ]
          },
          "metadata": {},
          "execution_count": 28
        },
        {
          "output_type": "display_data",
          "data": {
            "image/png": "[encoded data removed]",
            "text/plain": [
              "<Figure size 1800x720 with 1 Axes>"
            ]
          },
          "metadata": {
            "needs_background": "light"
          }
        }
      ]
    },
    {
      "cell_type": "markdown",
      "source": [
        "# Other information"
      ],
      "metadata": {
        "id": "ThfA53gUyuWC"
      }
    },
    {
      "cell_type": "code",
      "source": [
        "plt.figure(figsize=(25,10))\n",
        "ax = sns.countplot(x='Dur', data=IoMT_attack, palette='CMRmap', order=IoMT_attack.Dur.value_counts().iloc[:10].index)\n",
        "ax.set(xlabel='Transmitted packet size duration', ylabel='Total Attack Packets')\n"
      ],
      "metadata": {
        "id": "jpIK9ll9yu8B",
        "colab": {
          "base_uri": "https://localhost:8080/",
          "height": 641
        },
        "outputId": "8782c558-a85a-4f04-fe7e-3802324ef2eb"
      },
      "execution_count": null,
      "outputs": [
        {
          "output_type": "execute_result",
          "data": {
            "text/plain": [
              "[Text(0, 0.5, 'Total Attack Packets'),\n",
              " Text(0.5, 0, 'Transmitted packet size duration')]"
            ]
          },
          "metadata": {},
          "execution_count": 29
        },
        {
          "output_type": "display_data",
          "data": {
            "image/png": "[encoded data removed]",
            "text/plain": [
              "<Figure size 1800x720 with 1 Axes>"
            ]
          },
          "metadata": {
            "needs_background": "light"
          }
        }
      ]
    },
    {
      "cell_type": "markdown",
      "source": [
        ""
      ],
      "metadata": {
        "id": "63GD_XQS0MWq"
      }
    },
    {
      "cell_type": "code",
      "source": [
        "plt.figure(figsize=(25,10))\n",
        "ax = sns.countplot(x='Temp', data=IoMT_attack, palette='CMRmap', order=IoMT_attack.Temp.value_counts().iloc[:10].index)\n",
        "ax.set(xlabel='Temp', ylabel='Total Attack Packets')\n",
        "ax.set(xlabel='Temperature (Celsius).', ylabel='Length (mean)')"
      ],
      "metadata": {
        "id": "vh-TNSio0NEe"
      },
      "execution_count": null,
      "outputs": []
    },
    {
      "cell_type": "code",
      "source": [
        "df_dropped['DstMac'].value_counts()"
      ],
      "metadata": {
        "id": "Wn21V7tvABVG"
      },
      "execution_count": null,
      "outputs": []
    },
    {
      "cell_type": "code",
      "source": [
        "df_dropped.DstJitter.value_counts()"
      ],
      "metadata": {
        "id": "C731cHMPR9sh"
      },
      "execution_count": null,
      "outputs": []
    },
    {
      "cell_type": "code",
      "source": [
        ""
      ],
      "metadata": {
        "id": "kqYLg4jSCVXV"
      },
      "execution_count": null,
      "outputs": []
    },
    {
      "cell_type": "code",
      "source": [
        "plt.figure(figsize=(15,10))\n",
        "ax = sns.countplot(x='Pulse_Rate', data=IoMT_attack, palette='CMRmap', order=IoMT_attack.Pulse_Rate.value_counts().iloc[:20].index)\n",
        "ax.set(xlabel='Temp', ylabel='Total Attack Packets')\n",
        "ax.set(xlabel='Temperature (Celsius).', ylabel='Length (mean)')"
      ],
      "metadata": {
        "id": "jy8EtYyRMe_C"
      },
      "execution_count": null,
      "outputs": []
    },
    {
      "cell_type": "code",
      "source": [
        "plt.figure(figsize=(15,10))\n",
        "ax = sns.countplot(x='DIA', data=IoMT_attack, palette='CMRmap', order=IoMT_attack.DIA.value_counts().iloc[:20].index)\n",
        "ax.set(xlabel='Temp', ylabel='Total Attack Packets')\n",
        "ax.set(xlabel='Temperature (Celsius).', ylabel='Length (mean)')"
      ],
      "metadata": {
        "id": "Sy6jDfRqM2hf"
      },
      "execution_count": null,
      "outputs": []
    },
    {
      "cell_type": "code",
      "source": [
        "plt.figure(figsize=(15,10))\n",
        "ax = sns.countplot(x='Sport', data=IoMT_attack, palette='CMRmap', order=IoMT_attack.Sport.value_counts().iloc[:10].index)\n",
        "ax.set(xlabel='Temp', ylabel='Total Attack Packets')\n",
        "ax.set(xlabel='Temperature (Celsius).', ylabel='Length (mean)')"
      ],
      "metadata": {
        "id": "YMNBRLP9N7Kq"
      },
      "execution_count": null,
      "outputs": []
    },
    {
      "cell_type": "code",
      "source": [
        "df_dropped.Sport.value_counts()"
      ],
      "metadata": {
        "id": "HZOiH9ywRkK7"
      },
      "execution_count": null,
      "outputs": []
    },
    {
      "cell_type": "code",
      "source": [
        "for col in  df_dropped.columns[:]:\n",
        "    df_dropped[col] = pd.to_numeric(df_dropped[col], errors='coerce')#, downcast='int')"
      ],
      "metadata": {
        "id": "d0ePJ67cDV8d"
      },
      "execution_count": null,
      "outputs": []
    },
    {
      "cell_type": "code",
      "source": [
        "df_dropped.info()"
      ],
      "metadata": {
        "id": "c4oITERTDhVC"
      },
      "execution_count": null,
      "outputs": []
    },
    {
      "cell_type": "code",
      "source": [
        "df_dropped.SrcAddr.value_counts()"
      ],
      "metadata": {
        "id": "ofX1ejzfFgpT"
      },
      "execution_count": null,
      "outputs": []
    },
    {
      "cell_type": "code",
      "source": [
        "df_new=df_dropped.fillna(0)"
      ],
      "metadata": {
        "id": "DY5g2K3XpuC5"
      },
      "execution_count": null,
      "outputs": []
    },
    {
      "cell_type": "markdown",
      "source": [
        "# 4. Feature Selection <a name=\"4\"></a>\n"
      ],
      "metadata": {
        "id": "cjGCjQOL7qVr"
      }
    },
    {
      "cell_type": "markdown",
      "source": [
        "**1- Univariate Selection:**"
      ],
      "metadata": {
        "id": "rHnwVJQy7x26"
      }
    },
    {
      "cell_type": "code",
      "source": [
        "from sklearn.feature_selection import SelectKBest\n",
        "from sklearn.feature_selection import chi2\n",
        "data = df_new.copy()\n",
        "X = data.iloc[:,0:40]  #independent columns\n",
        "y = data.iloc[:,-1]    #target column i.e price range\n",
        "#apply SelectKBest class to extract top 10 best features\n",
        "bestfeatures = SelectKBest(score_func=chi2, k=10)\n",
        "fit = bestfeatures.fit(X,y)\n",
        "dfscores = pd.DataFrame(fit.scores_)\n",
        "dfcolumns = pd.DataFrame(X.columns)\n",
        "#concat two dataframes for better visualization \n",
        "featureScores = pd.concat([dfcolumns,dfscores],axis=1)\n",
        "featureScores.columns = ['Specs','Score']  #naming the dataframe columns\n",
        "print(featureScores.nlargest(44,'Score'))  #print 10 best features"
      ],
      "metadata": {
        "colab": {
          "base_uri": "https://localhost:8080/"
        },
        "id": "9sNhZnAsF1lO",
        "outputId": "3766121b-467f-43c7-d0a9-7d6782ae667d"
      },
      "execution_count": null,
      "outputs": [
        {
          "output_type": "stream",
          "name": "stdout",
          "text": [
            "         Specs         Score\n",
            "24        Load  9.798572e+07\n",
            "6      SrcLoad  7.752112e+07\n",
            "7      DstLoad  2.069066e+07\n",
            "15   DstJitter  2.817896e+05\n",
            "11     DIntPkt  2.774464e+05\n",
            "10     SIntPkt  1.741952e+05\n",
            "29        Rate  1.354944e+05\n",
            "14   SrcJitter  4.003502e+04\n",
            "32  Packet_num  2.196385e+04\n",
            "12  SIntPktAct  3.010500e+03\n",
            "2        Sport  1.774930e+03\n",
            "20         Dur  1.002952e+03\n",
            "5     DstBytes  4.316549e+02\n",
            "23    TotBytes  2.322648e+02\n",
            "35  Pulse_Rate  1.084232e+02\n",
            "27    pSrcLoss  3.727298e+01\n",
            "26       pLoss  2.732999e+01\n",
            "4     SrcBytes  2.632080e+01\n",
            "28    pDstLoss  2.062635e+01\n",
            "38  Heart_rate  1.091172e+01\n",
            "18   sMinPktSz  7.117339e+00\n",
            "25        Loss  3.538051e+00\n",
            "22     TotPkts  2.431873e+00\n",
            "39   Resp_Rate  1.581576e+00\n",
            "37         DIA  1.062777e+00\n",
            "34        SpO2  1.031653e+00\n",
            "33        Temp  1.001953e+00\n",
            "36         SYS  2.607388e-01\n",
            "16   sMaxPktSz  6.756878e-05\n",
            "17   dMaxPktSz  4.791978e-06\n",
            "3        Dport  0.000000e+00\n",
            "19   dMinPktSz  0.000000e+00\n",
            "21       Trans  0.000000e+00\n"
          ]
        }
      ]
    },
    {
      "cell_type": "markdown",
      "source": [
        "**2. Feature Importance:** You can gain the significance of each feature of your dataset by using the Model Characteristics property. Feature value gives you a score for every function of your results, the higher the score the more significant or appropriate the performance variable is. Feature importance is the built-in class that comes with Tree Based Classifiers, we will use the Extra Tree Classifier to extract the top 10 features for the dataset."
      ],
      "metadata": {
        "id": "dBiyRVJk8IvZ"
      }
    },
    {
      "cell_type": "code",
      "source": [
        "from sklearn.ensemble import ExtraTreesClassifier\n",
        "\n",
        "model = ExtraTreesClassifier()\n",
        "model.fit(X,y)\n",
        "print(model.feature_importances_) #use inbuilt class feature_importances of tree based classifiers\n",
        "#plot graph of feature importances for better visualization\n",
        "feat_importances = pd.Series(model.feature_importances_, index=X.columns)\n",
        "feat_importances.nlargest(13).plot(kind='barh')\n",
        "plt.show()"
      ],
      "metadata": {
        "colab": {
          "base_uri": "https://localhost:8080/",
          "height": 438
        },
        "id": "S9cPPHXyGBj9",
        "outputId": "f52937ed-5652-4349-c27c-a9d608d97e9f"
      },
      "execution_count": null,
      "outputs": [
        {
          "output_type": "stream",
          "name": "stdout",
          "text": [
            "[0.00000000e+00 0.00000000e+00 5.32715896e-02 0.00000000e+00\n",
            " 1.51722388e-03 4.73890349e-03 8.63941264e-02 7.16426507e-02\n",
            " 0.00000000e+00 0.00000000e+00 6.56540155e-02 9.34556351e-02\n",
            " 5.33357428e-04 0.00000000e+00 4.18710745e-02 9.69307430e-02\n",
            " 4.65273633e-04 8.42972358e-06 2.91938920e-04 0.00000000e+00\n",
            " 8.07996713e-02 0.00000000e+00 3.53284646e-03 2.10766012e-03\n",
            " 7.31145490e-02 6.31548062e-04 5.79407483e-04 7.48522607e-04\n",
            " 3.97908565e-04 8.41364543e-02 0.00000000e+00 0.00000000e+00\n",
            " 5.86093063e-02 4.29510593e-02 2.23985138e-02 3.00855786e-02\n",
            " 1.54383348e-02 1.35570265e-02 2.40823228e-02 3.00543282e-02]\n"
          ]
        },
        {
          "output_type": "display_data",
          "data": {
            "image/png": "[encoded data removed]",
            "text/plain": [
              "<Figure size 432x288 with 1 Axes>"
            ]
          },
          "metadata": {
            "needs_background": "light"
          }
        }
      ]
    },
    {
      "cell_type": "code",
      "source": [
        ""
      ],
      "metadata": {
        "id": "bGzKxRx9Cqj3"
      },
      "execution_count": null,
      "outputs": []
    },
    {
      "cell_type": "markdown",
      "source": [
        "# 5- Data Pre-processing"
      ],
      "metadata": {
        "id": "W2YA3_n1Zwe1"
      }
    },
    {
      "cell_type": "code",
      "source": [
        "drop_columns = ['SrcAddr',\t'DstAddr', 'Dport',\t'SrcBytes',\t'DstBytes',\t'SrcGap',\t'DstGap',\t'SIntPktAct',\t'DIntPktAct', \n",
        "                'sMaxPktSz',\t'dMaxPktSz',\t'sMinPktSz',\t'dMinPktSz', 'Trans',\t'TotPkts',\t'TotBytes',\t'Loss',\t'pLoss',\t\n",
        "                'pSrcLoss',\t'pDstLoss',\t'Rate',\t'SrcMac',\t'DstMac',\t'SpO2',\t'SYS',\t'DIA',\t'Heart_rate',\t'Resp_Rate',\t'ST']\n",
        "df_ExtraTrees= df_dropped.drop(columns=drop_columns)\n",
        "df_ExtraTrees.info()"
      ],
      "metadata": {
        "colab": {
          "base_uri": "https://localhost:8080/"
        },
        "id": "Whmeq1jVouYL",
        "outputId": "bc2ba73d-f7ec-44ba-b507-48e3fe559e07"
      },
      "execution_count": null,
      "outputs": [
        {
          "output_type": "stream",
          "name": "stdout",
          "text": [
            "<class 'pandas.core.frame.DataFrame'>\n",
            "RangeIndex: 16318 entries, 0 to 16317\n",
            "Data columns (total 13 columns):\n",
            " #   Column      Non-Null Count  Dtype  \n",
            "---  ------      --------------  -----  \n",
            " 0   Sport       16318 non-null  object \n",
            " 1   SrcLoad     16318 non-null  float64\n",
            " 2   DstLoad     16318 non-null  float64\n",
            " 3   SIntPkt     16318 non-null  float64\n",
            " 4   DIntPkt     16318 non-null  float64\n",
            " 5   SrcJitter   16318 non-null  float64\n",
            " 6   DstJitter   16318 non-null  float64\n",
            " 7   Dur         16318 non-null  float64\n",
            " 8   Load        16318 non-null  float64\n",
            " 9   Packet_num  16318 non-null  int64  \n",
            " 10  Temp        16318 non-null  float64\n",
            " 11  Pulse_Rate  16318 non-null  int64  \n",
            " 12  Label       16318 non-null  int64  \n",
            "dtypes: float64(9), int64(3), object(1)\n",
            "memory usage: 1.6+ MB\n"
          ]
        }
      ]
    },
    {
      "cell_type": "code",
      "source": [
        "#df_ExtraTrees.loc[df_ExtraTrees['Sport'] == 'dircproxy']\n",
        "#df_ExtraTrees.loc[df_ExtraTrees['Sport'] == 'fido']\n",
        "#df_ExtraTrees.loc[df_ExtraTrees['Sport'] == 'tfido']\n",
        "#df1.loc[df1['Sport'] == 'fido']\n",
        "#df1 = df_new.drop([7923])"
      ],
      "metadata": {
        "colab": {
          "base_uri": "https://localhost:8080/",
          "height": 81
        },
        "id": "t2t6AwH6iKKn",
        "outputId": "985a129b-0500-46b7-d2e0-ff58528d3cbb"
      },
      "execution_count": null,
      "outputs": [
        {
          "output_type": "execute_result",
          "data": {
            "text/html": [
              "\n",
              "  <div id=\"df-a5ea360a-7606-4ecd-bd0d-3d7bed0a3996\">\n",
              "    <div class=\"colab-df-container\">\n",
              "      <div>\n",
              "<style scoped>\n",
              "    .dataframe tbody tr th:only-of-type {\n",
              "        vertical-align: middle;\n",
              "    }\n",
              "\n",
              "    .dataframe tbody tr th {\n",
              "        vertical-align: top;\n",
              "    }\n",
              "\n",
              "    .dataframe thead th {\n",
              "        text-align: right;\n",
              "    }\n",
              "</style>\n",
              "<table border=\"1\" class=\"dataframe\">\n",
              "  <thead>\n",
              "    <tr style=\"text-align: right;\">\n",
              "      <th></th>\n",
              "      <th>Sport</th>\n",
              "      <th>SrcLoad</th>\n",
              "      <th>DstLoad</th>\n",
              "      <th>SIntPkt</th>\n",
              "      <th>DIntPkt</th>\n",
              "      <th>SrcJitter</th>\n",
              "      <th>DstJitter</th>\n",
              "      <th>Dur</th>\n",
              "      <th>Load</th>\n",
              "      <th>Packet_num</th>\n",
              "      <th>Temp</th>\n",
              "      <th>Pulse_Rate</th>\n",
              "      <th>Label</th>\n",
              "    </tr>\n",
              "  </thead>\n",
              "  <tbody>\n",
              "    <tr>\n",
              "      <th>10633</th>\n",
              "      <td>tfido</td>\n",
              "      <td>276889.0</td>\n",
              "      <td>92296.0</td>\n",
              "      <td>3.582667</td>\n",
              "      <td>1.9175</td>\n",
              "      <td>2.859413</td>\n",
              "      <td>1.8485</td>\n",
              "      <td>0.010748</td>\n",
              "      <td>369185.0</td>\n",
              "      <td>10630</td>\n",
              "      <td>28.4</td>\n",
              "      <td>73</td>\n",
              "      <td>0</td>\n",
              "    </tr>\n",
              "  </tbody>\n",
              "</table>\n",
              "</div>\n",
              "      <button class=\"colab-df-convert\" onclick=\"convertToInteractive('df-a5ea360a-7606-4ecd-bd0d-3d7bed0a3996')\"\n",
              "              title=\"Convert this dataframe to an interactive table.\"\n",
              "              style=\"display:none;\">\n",
              "        \n",
              "  <svg xmlns=\"http://www.w3.org/2000/svg\" height=\"24px\"viewBox=\"0 0 24 24\"\n",
              "       width=\"24px\">\n",
              "    <path d=\"M0 0h24v24H0V0z\" fill=\"none\"/>\n",
              "    <path d=\"M18.56 5.44l.94 2.06.94-2.06 2.06-.94-2.06-.94-.94-2.06-.94 2.06-2.06.94zm-11 1L8.5 8.5l.94-2.06 2.06-.94-2.06-.94L8.5 2.5l-.94 2.06-2.06.94zm10 10l.94 2.06.94-2.06 2.06-.94-2.06-.94-.94-2.06-.94 2.06-2.06.94z\"/><path d=\"M17.41 7.96l-1.37-1.37c-.4-.4-.92-.59-1.43-.59-.52 0-1.04.2-1.43.59L10.3 9.45l-7.72 7.72c-.78.78-.78 2.05 0 2.83L4 21.41c.39.39.9.59 1.41.59.51 0 1.02-.2 1.41-.59l7.78-7.78 2.81-2.81c.8-.78.8-2.07 0-2.86zM5.41 20L4 18.59l7.72-7.72 1.47 1.35L5.41 20z\"/>\n",
              "  </svg>\n",
              "      </button>\n",
              "      \n",
              "  <style>\n",
              "    .colab-df-container {\n",
              "      display:flex;\n",
              "      flex-wrap:wrap;\n",
              "      gap: 12px;\n",
              "    }\n",
              "\n",
              "    .colab-df-convert {\n",
              "      background-color: #E8F0FE;\n",
              "      border: none;\n",
              "      border-radius: 50%;\n",
              "      cursor: pointer;\n",
              "      display: none;\n",
              "      fill: #1967D2;\n",
              "      height: 32px;\n",
              "      padding: 0 0 0 0;\n",
              "      width: 32px;\n",
              "    }\n",
              "\n",
              "    .colab-df-convert:hover {\n",
              "      background-color: #E2EBFA;\n",
              "      box-shadow: 0px 1px 2px rgba(60, 64, 67, 0.3), 0px 1px 3px 1px rgba(60, 64, 67, 0.15);\n",
              "      fill: #174EA6;\n",
              "    }\n",
              "\n",
              "    [theme=dark] .colab-df-convert {\n",
              "      background-color: #3B4455;\n",
              "      fill: #D2E3FC;\n",
              "    }\n",
              "\n",
              "    [theme=dark] .colab-df-convert:hover {\n",
              "      background-color: #434B5C;\n",
              "      box-shadow: 0px 1px 3px 1px rgba(0, 0, 0, 0.15);\n",
              "      filter: drop-shadow(0px 1px 2px rgba(0, 0, 0, 0.3));\n",
              "      fill: #FFFFFF;\n",
              "    }\n",
              "  </style>\n",
              "\n",
              "      <script>\n",
              "        const buttonEl =\n",
              "          document.querySelector('#df-a5ea360a-7606-4ecd-bd0d-3d7bed0a3996 button.colab-df-convert');\n",
              "        buttonEl.style.display =\n",
              "          google.colab.kernel.accessAllowed ? 'block' : 'none';\n",
              "\n",
              "        async function convertToInteractive(key) {\n",
              "          const element = document.querySelector('#df-a5ea360a-7606-4ecd-bd0d-3d7bed0a3996');\n",
              "          const dataTable =\n",
              "            await google.colab.kernel.invokeFunction('convertToInteractive',\n",
              "                                                     [key], {});\n",
              "          if (!dataTable) return;\n",
              "\n",
              "          const docLinkHtml = 'Like what you see? Visit the ' +\n",
              "            '<a target=\"_blank\" href=https://colab.research.google.com/notebooks/data_table.ipynb>data table notebook</a>'\n",
              "            + ' to learn more about interactive tables.';\n",
              "          element.innerHTML = '';\n",
              "          dataTable['output_type'] = 'display_data';\n",
              "          await google.colab.output.renderOutput(dataTable, element);\n",
              "          const docLink = document.createElement('div');\n",
              "          docLink.innerHTML = docLinkHtml;\n",
              "          element.appendChild(docLink);\n",
              "        }\n",
              "      </script>\n",
              "    </div>\n",
              "  </div>\n",
              "  "
            ],
            "text/plain": [
              "       Sport   SrcLoad  DstLoad   SIntPkt  ...  Packet_num  Temp  Pulse_Rate  Label\n",
              "10633  tfido  276889.0  92296.0  3.582667  ...       10630  28.4          73      0\n",
              "\n",
              "[1 rows x 13 columns]"
            ]
          },
          "metadata": {},
          "execution_count": 39
        }
      ]
    },
    {
      "cell_type": "code",
      "source": [
        "df_ExtraTrees = df_ExtraTrees.drop([10633])"
      ],
      "metadata": {
        "id": "lTZLhyNkiaaS"
      },
      "execution_count": null,
      "outputs": []
    },
    {
      "cell_type": "code",
      "source": [
        "df_ExtraTrees['Sport'] = df_ExtraTrees['Sport'].astype(float)\n",
        "df_ExtraTrees['Pulse_Rate'] = df_ExtraTrees['Pulse_Rate'].astype(float)\n",
        "df_ExtraTrees['Packet_num'] = df_ExtraTrees['Packet_num'].astype(float)\n",
        "df_ExtraTrees.info()"
      ],
      "metadata": {
        "colab": {
          "base_uri": "https://localhost:8080/"
        },
        "id": "Hibng1xFo9FB",
        "outputId": "bc7e34e6-eb85-4d71-b657-99c6375328c1"
      },
      "execution_count": null,
      "outputs": [
        {
          "output_type": "stream",
          "name": "stdout",
          "text": [
            "<class 'pandas.core.frame.DataFrame'>\n",
            "Int64Index: 16315 entries, 0 to 16317\n",
            "Data columns (total 13 columns):\n",
            " #   Column      Non-Null Count  Dtype  \n",
            "---  ------      --------------  -----  \n",
            " 0   Sport       16315 non-null  float64\n",
            " 1   SrcLoad     16315 non-null  float64\n",
            " 2   DstLoad     16315 non-null  float64\n",
            " 3   SIntPkt     16315 non-null  float64\n",
            " 4   DIntPkt     16315 non-null  float64\n",
            " 5   SrcJitter   16315 non-null  float64\n",
            " 6   DstJitter   16315 non-null  float64\n",
            " 7   Dur         16315 non-null  float64\n",
            " 8   Load        16315 non-null  float64\n",
            " 9   Packet_num  16315 non-null  float64\n",
            " 10  Temp        16315 non-null  float64\n",
            " 11  Pulse_Rate  16315 non-null  float64\n",
            " 12  Label       16315 non-null  int64  \n",
            "dtypes: float64(12), int64(1)\n",
            "memory usage: 1.7 MB\n"
          ]
        }
      ]
    },
    {
      "cell_type": "code",
      "source": [
        "X = df_ExtraTrees.drop('Label', axis = 1)\n",
        "y = df_ExtraTrees['Label']\n",
        "X.shape, y.shape"
      ],
      "metadata": {
        "colab": {
          "base_uri": "https://localhost:8080/"
        },
        "id": "yXP1SBQIppCN",
        "outputId": "d126b34b-ac46-4024-f0e2-282d0b5c1152"
      },
      "execution_count": null,
      "outputs": [
        {
          "output_type": "execute_result",
          "data": {
            "text/plain": [
              "((16315, 12), (16315,))"
            ]
          },
          "metadata": {},
          "execution_count": 42
        }
      ]
    },
    {
      "cell_type": "code",
      "source": [
        "X.head()"
      ],
      "metadata": {
        "colab": {
          "base_uri": "https://localhost:8080/",
          "height": 206
        },
        "id": "aINrnw0hp5h2",
        "outputId": "551a2042-c53a-4fe7-f281-0f9d2e33f8ab"
      },
      "execution_count": null,
      "outputs": [
        {
          "output_type": "execute_result",
          "data": {
            "text/html": [
              "\n",
              "  <div id=\"df-9b25b7f6-49e6-4f9b-b909-9c3a29700719\">\n",
              "    <div class=\"colab-df-container\">\n",
              "      <div>\n",
              "<style scoped>\n",
              "    .dataframe tbody tr th:only-of-type {\n",
              "        vertical-align: middle;\n",
              "    }\n",
              "\n",
              "    .dataframe tbody tr th {\n",
              "        vertical-align: top;\n",
              "    }\n",
              "\n",
              "    .dataframe thead th {\n",
              "        text-align: right;\n",
              "    }\n",
              "</style>\n",
              "<table border=\"1\" class=\"dataframe\">\n",
              "  <thead>\n",
              "    <tr style=\"text-align: right;\">\n",
              "      <th></th>\n",
              "      <th>Sport</th>\n",
              "      <th>SrcLoad</th>\n",
              "      <th>DstLoad</th>\n",
              "      <th>SIntPkt</th>\n",
              "      <th>DIntPkt</th>\n",
              "      <th>SrcJitter</th>\n",
              "      <th>DstJitter</th>\n",
              "      <th>Dur</th>\n",
              "      <th>Load</th>\n",
              "      <th>Packet_num</th>\n",
              "      <th>Temp</th>\n",
              "      <th>Pulse_Rate</th>\n",
              "    </tr>\n",
              "  </thead>\n",
              "  <tbody>\n",
              "    <tr>\n",
              "      <th>0</th>\n",
              "      <td>58059.0</td>\n",
              "      <td>276914.0</td>\n",
              "      <td>92305.0</td>\n",
              "      <td>3.582333</td>\n",
              "      <td>1.9015</td>\n",
              "      <td>2.946239</td>\n",
              "      <td>1.6235</td>\n",
              "      <td>0.010747</td>\n",
              "      <td>369219.0</td>\n",
              "      <td>1.0</td>\n",
              "      <td>28.9</td>\n",
              "      <td>0.0</td>\n",
              "    </tr>\n",
              "    <tr>\n",
              "      <th>1</th>\n",
              "      <td>58062.0</td>\n",
              "      <td>230984.0</td>\n",
              "      <td>76995.0</td>\n",
              "      <td>4.294667</td>\n",
              "      <td>2.9015</td>\n",
              "      <td>3.091654</td>\n",
              "      <td>2.8625</td>\n",
              "      <td>0.012884</td>\n",
              "      <td>307979.0</td>\n",
              "      <td>2.0</td>\n",
              "      <td>28.9</td>\n",
              "      <td>0.0</td>\n",
              "    </tr>\n",
              "    <tr>\n",
              "      <th>2</th>\n",
              "      <td>58065.0</td>\n",
              "      <td>218470.0</td>\n",
              "      <td>72823.0</td>\n",
              "      <td>4.540667</td>\n",
              "      <td>3.2945</td>\n",
              "      <td>2.849841</td>\n",
              "      <td>3.1655</td>\n",
              "      <td>0.013622</td>\n",
              "      <td>291293.0</td>\n",
              "      <td>3.0</td>\n",
              "      <td>28.9</td>\n",
              "      <td>104.0</td>\n",
              "    </tr>\n",
              "    <tr>\n",
              "      <th>3</th>\n",
              "      <td>58067.0</td>\n",
              "      <td>203376.0</td>\n",
              "      <td>67792.0</td>\n",
              "      <td>4.877667</td>\n",
              "      <td>3.3320</td>\n",
              "      <td>2.452252</td>\n",
              "      <td>3.2570</td>\n",
              "      <td>0.014633</td>\n",
              "      <td>271168.0</td>\n",
              "      <td>4.0</td>\n",
              "      <td>28.9</td>\n",
              "      <td>104.0</td>\n",
              "    </tr>\n",
              "    <tr>\n",
              "      <th>4</th>\n",
              "      <td>58069.0</td>\n",
              "      <td>235723.0</td>\n",
              "      <td>78574.0</td>\n",
              "      <td>4.208333</td>\n",
              "      <td>2.8635</td>\n",
              "      <td>3.021835</td>\n",
              "      <td>2.8225</td>\n",
              "      <td>0.012625</td>\n",
              "      <td>314297.0</td>\n",
              "      <td>5.0</td>\n",
              "      <td>28.9</td>\n",
              "      <td>101.0</td>\n",
              "    </tr>\n",
              "  </tbody>\n",
              "</table>\n",
              "</div>\n",
              "      <button class=\"colab-df-convert\" onclick=\"convertToInteractive('df-9b25b7f6-49e6-4f9b-b909-9c3a29700719')\"\n",
              "              title=\"Convert this dataframe to an interactive table.\"\n",
              "              style=\"display:none;\">\n",
              "        \n",
              "  <svg xmlns=\"http://www.w3.org/2000/svg\" height=\"24px\"viewBox=\"0 0 24 24\"\n",
              "       width=\"24px\">\n",
              "    <path d=\"M0 0h24v24H0V0z\" fill=\"none\"/>\n",
              "    <path d=\"M18.56 5.44l.94 2.06.94-2.06 2.06-.94-2.06-.94-.94-2.06-.94 2.06-2.06.94zm-11 1L8.5 8.5l.94-2.06 2.06-.94-2.06-.94L8.5 2.5l-.94 2.06-2.06.94zm10 10l.94 2.06.94-2.06 2.06-.94-2.06-.94-.94-2.06-.94 2.06-2.06.94z\"/><path d=\"M17.41 7.96l-1.37-1.37c-.4-.4-.92-.59-1.43-.59-.52 0-1.04.2-1.43.59L10.3 9.45l-7.72 7.72c-.78.78-.78 2.05 0 2.83L4 21.41c.39.39.9.59 1.41.59.51 0 1.02-.2 1.41-.59l7.78-7.78 2.81-2.81c.8-.78.8-2.07 0-2.86zM5.41 20L4 18.59l7.72-7.72 1.47 1.35L5.41 20z\"/>\n",
              "  </svg>\n",
              "      </button>\n",
              "      \n",
              "  <style>\n",
              "    .colab-df-container {\n",
              "      display:flex;\n",
              "      flex-wrap:wrap;\n",
              "      gap: 12px;\n",
              "    }\n",
              "\n",
              "    .colab-df-convert {\n",
              "      background-color: #E8F0FE;\n",
              "      border: none;\n",
              "      border-radius: 50%;\n",
              "      cursor: pointer;\n",
              "      display: none;\n",
              "      fill: #1967D2;\n",
              "      height: 32px;\n",
              "      padding: 0 0 0 0;\n",
              "      width: 32px;\n",
              "    }\n",
              "\n",
              "    .colab-df-convert:hover {\n",
              "      background-color: #E2EBFA;\n",
              "      box-shadow: 0px 1px 2px rgba(60, 64, 67, 0.3), 0px 1px 3px 1px rgba(60, 64, 67, 0.15);\n",
              "      fill: #174EA6;\n",
              "    }\n",
              "\n",
              "    [theme=dark] .colab-df-convert {\n",
              "      background-color: #3B4455;\n",
              "      fill: #D2E3FC;\n",
              "    }\n",
              "\n",
              "    [theme=dark] .colab-df-convert:hover {\n",
              "      background-color: #434B5C;\n",
              "      box-shadow: 0px 1px 3px 1px rgba(0, 0, 0, 0.15);\n",
              "      filter: drop-shadow(0px 1px 2px rgba(0, 0, 0, 0.3));\n",
              "      fill: #FFFFFF;\n",
              "    }\n",
              "  </style>\n",
              "\n",
              "      <script>\n",
              "        const buttonEl =\n",
              "          document.querySelector('#df-9b25b7f6-49e6-4f9b-b909-9c3a29700719 button.colab-df-convert');\n",
              "        buttonEl.style.display =\n",
              "          google.colab.kernel.accessAllowed ? 'block' : 'none';\n",
              "\n",
              "        async function convertToInteractive(key) {\n",
              "          const element = document.querySelector('#df-9b25b7f6-49e6-4f9b-b909-9c3a29700719');\n",
              "          const dataTable =\n",
              "            await google.colab.kernel.invokeFunction('convertToInteractive',\n",
              "                                                     [key], {});\n",
              "          if (!dataTable) return;\n",
              "\n",
              "          const docLinkHtml = 'Like what you see? Visit the ' +\n",
              "            '<a target=\"_blank\" href=https://colab.research.google.com/notebooks/data_table.ipynb>data table notebook</a>'\n",
              "            + ' to learn more about interactive tables.';\n",
              "          element.innerHTML = '';\n",
              "          dataTable['output_type'] = 'display_data';\n",
              "          await google.colab.output.renderOutput(dataTable, element);\n",
              "          const docLink = document.createElement('div');\n",
              "          docLink.innerHTML = docLinkHtml;\n",
              "          element.appendChild(docLink);\n",
              "        }\n",
              "      </script>\n",
              "    </div>\n",
              "  </div>\n",
              "  "
            ],
            "text/plain": [
              "     Sport   SrcLoad  DstLoad   SIntPkt  ...      Load  Packet_num  Temp  Pulse_Rate\n",
              "0  58059.0  276914.0  92305.0  3.582333  ...  369219.0         1.0  28.9         0.0\n",
              "1  58062.0  230984.0  76995.0  4.294667  ...  307979.0         2.0  28.9         0.0\n",
              "2  58065.0  218470.0  72823.0  4.540667  ...  291293.0         3.0  28.9       104.0\n",
              "3  58067.0  203376.0  67792.0  4.877667  ...  271168.0         4.0  28.9       104.0\n",
              "4  58069.0  235723.0  78574.0  4.208333  ...  314297.0         5.0  28.9       101.0\n",
              "\n",
              "[5 rows x 12 columns]"
            ]
          },
          "metadata": {},
          "execution_count": 43
        }
      ]
    },
    {
      "cell_type": "code",
      "source": [
        "from imblearn.over_sampling import SMOTE\n",
        "X_smote, y_smote = SMOTE().fit_resample(X, y)"
      ],
      "metadata": {
        "id": "W2vTqEfFM9Lh"
      },
      "execution_count": null,
      "outputs": []
    },
    {
      "cell_type": "code",
      "source": [
        "from sklearn.preprocessing import LabelEncoder\n",
        "encoder = LabelEncoder()\n",
        "y1 = encoder.fit_transform(y_smote)\n",
        "Y_smote= pd.get_dummies(y1).values"
      ],
      "metadata": {
        "id": "Nv2x0g-EqAKv"
      },
      "execution_count": null,
      "outputs": []
    },
    {
      "cell_type": "code",
      "source": [
        "Y_smote"
      ],
      "metadata": {
        "colab": {
          "base_uri": "https://localhost:8080/"
        },
        "id": "eCtgtKxmNQ0s",
        "outputId": "fa9c552c-64d3-4bfc-ebae-8fced0f1254c"
      },
      "execution_count": null,
      "outputs": [
        {
          "output_type": "execute_result",
          "data": {
            "text/plain": [
              "array([[1, 0],\n",
              "       [1, 0],\n",
              "       [1, 0],\n",
              "       ...,\n",
              "       [0, 1],\n",
              "       [0, 1],\n",
              "       [0, 1]], dtype=uint8)"
            ]
          },
          "metadata": {},
          "execution_count": 12
        }
      ]
    },
    {
      "cell_type": "code",
      "source": [
        "Y_smote.shape"
      ],
      "metadata": {
        "colab": {
          "base_uri": "https://localhost:8080/"
        },
        "id": "C8NHXlUCNlOI",
        "outputId": "83881891-4115-4f84-fffc-265626714ed8"
      },
      "execution_count": null,
      "outputs": [
        {
          "output_type": "execute_result",
          "data": {
            "text/plain": [
              "(28544, 2)"
            ]
          },
          "metadata": {},
          "execution_count": 14
        }
      ]
    },
    {
      "cell_type": "code",
      "source": [
        "from sklearn.metrics import accuracy_score, confusion_matrix, classification_report\n",
        "#from sklearn.model_selection import KFold, GridSearchCV\n",
        "from sklearn.model_selection import train_test_split\n",
        "X_train, X_test, y_train, y_test = train_test_split(X_smote, Y_smote, test_size=0.2, random_state = 42)"
      ],
      "metadata": {
        "id": "jYiTihnPqL_L"
      },
      "execution_count": null,
      "outputs": []
    },
    {
      "cell_type": "code",
      "source": [
        "from sklearn.preprocessing import StandardScaler\n",
        "scaling = StandardScaler()\n",
        "X_train = scaling.fit_transform(X_train)\n",
        "X_test = scaling.transform(X_test)"
      ],
      "metadata": {
        "id": "GnfbCq0jqazC"
      },
      "execution_count": null,
      "outputs": []
    },
    {
      "cell_type": "code",
      "source": [
        "X_train = np.reshape(X_train, (X_train.shape[0],X_train.shape[1],1))\n",
        "X_test = np.reshape(X_test, (X_test.shape[0],X_test.shape[1],1))"
      ],
      "metadata": {
        "id": "j72NBNaksH-7"
      },
      "execution_count": null,
      "outputs": []
    },
    {
      "cell_type": "markdown",
      "source": [
        "**Univariate selection:**"
      ],
      "metadata": {
        "id": "G9lMpoAekQhh"
      }
    },
    {
      "cell_type": "code",
      "source": [
        "drop_columns = ['SrcAddr',\t'DstAddr', 'Sport',\t'Dport', 'SrcMac',\t'DstMac',\t'Packet_num']\t\t\n",
        "df_uni= df_dropped.drop(columns=drop_columns)\n",
        "df_uni.info()"
      ],
      "metadata": {
        "colab": {
          "base_uri": "https://localhost:8080/"
        },
        "id": "JU7Gx_AnkWTv",
        "outputId": "364c9b2d-f5e4-40ca-df1d-7c0573cca0cf"
      },
      "execution_count": null,
      "outputs": [
        {
          "output_type": "stream",
          "name": "stdout",
          "text": [
            "<class 'pandas.core.frame.DataFrame'>\n",
            "RangeIndex: 16318 entries, 0 to 16317\n",
            "Data columns (total 35 columns):\n",
            " #   Column      Non-Null Count  Dtype  \n",
            "---  ------      --------------  -----  \n",
            " 0   SrcBytes    16318 non-null  float64\n",
            " 1   DstBytes    16318 non-null  float64\n",
            " 2   SrcLoad     16318 non-null  float64\n",
            " 3   DstLoad     16318 non-null  float64\n",
            " 4   SrcGap      16318 non-null  float64\n",
            " 5   DstGap      16318 non-null  float64\n",
            " 6   SIntPkt     16318 non-null  float64\n",
            " 7   DIntPkt     16318 non-null  float64\n",
            " 8   SIntPktAct  16318 non-null  float64\n",
            " 9   DIntPktAct  16318 non-null  float64\n",
            " 10  SrcJitter   16318 non-null  float64\n",
            " 11  DstJitter   16318 non-null  float64\n",
            " 12  sMaxPktSz   16318 non-null  int64  \n",
            " 13  dMaxPktSz   16318 non-null  int64  \n",
            " 14  sMinPktSz   16318 non-null  int64  \n",
            " 15  dMinPktSz   16318 non-null  int64  \n",
            " 16  Dur         16318 non-null  float64\n",
            " 17  Trans       16318 non-null  int64  \n",
            " 18  TotPkts     16318 non-null  float64\n",
            " 19  TotBytes    16318 non-null  float64\n",
            " 20  Load        16318 non-null  float64\n",
            " 21  Loss        16318 non-null  int64  \n",
            " 22  pLoss       16318 non-null  float64\n",
            " 23  pSrcLoss    16318 non-null  float64\n",
            " 24  pDstLoss    16318 non-null  float64\n",
            " 25  Rate        16318 non-null  float64\n",
            " 26  Temp        16318 non-null  float64\n",
            " 27  SpO2        16318 non-null  int64  \n",
            " 28  Pulse_Rate  16318 non-null  int64  \n",
            " 29  SYS         16318 non-null  int64  \n",
            " 30  DIA         16318 non-null  int64  \n",
            " 31  Heart_rate  16318 non-null  int64  \n",
            " 32  Resp_Rate   16318 non-null  int64  \n",
            " 33  ST          16318 non-null  float64\n",
            " 34  Label       16318 non-null  int64  \n",
            "dtypes: float64(22), int64(13)\n",
            "memory usage: 4.4 MB\n"
          ]
        }
      ]
    },
    {
      "cell_type": "code",
      "source": [
        "df_uni['sMaxPktSz'] = df_uni['sMaxPktSz'].astype(float)\n",
        "df_uni['dMaxPktSz'] = df_uni['dMaxPktSz'].astype(float)\n",
        "df_uni['sMinPktSz'] = df_uni['sMinPktSz'].astype(float)\n",
        "df_uni['dMinPktSz'] = df_uni['dMinPktSz'].astype(float)\n",
        "df_uni['Trans'] = df_uni['Trans'].astype(float)\n",
        "df_uni['Loss'] = df_uni['Loss'].astype(float)\n",
        "df_uni['SpO2'] = df_uni['SpO2'].astype(float)\n",
        "df_uni['Pulse_Rate'] = df_uni['Pulse_Rate'].astype(float)\n",
        "df_uni['SYS'] = df_uni['SYS'].astype(float)\n",
        "df_uni['DIA'] = df_uni['DIA'].astype(float)\n",
        "df_uni['Heart_rate'] = df_uni['Heart_rate'].astype(float)\n",
        "df_uni['Resp_Rate'] = df_uni['Resp_Rate'].astype(float)\n",
        "df_uni.info()"
      ],
      "metadata": {
        "colab": {
          "base_uri": "https://localhost:8080/"
        },
        "id": "1f9oxLVokp2K",
        "outputId": "3d173d0d-0879-42da-ed1d-35d3819ef96d"
      },
      "execution_count": null,
      "outputs": [
        {
          "output_type": "stream",
          "name": "stdout",
          "text": [
            "<class 'pandas.core.frame.DataFrame'>\n",
            "RangeIndex: 16318 entries, 0 to 16317\n",
            "Data columns (total 35 columns):\n",
            " #   Column      Non-Null Count  Dtype  \n",
            "---  ------      --------------  -----  \n",
            " 0   SrcBytes    16318 non-null  float64\n",
            " 1   DstBytes    16318 non-null  float64\n",
            " 2   SrcLoad     16318 non-null  float64\n",
            " 3   DstLoad     16318 non-null  float64\n",
            " 4   SrcGap      16318 non-null  float64\n",
            " 5   DstGap      16318 non-null  float64\n",
            " 6   SIntPkt     16318 non-null  float64\n",
            " 7   DIntPkt     16318 non-null  float64\n",
            " 8   SIntPktAct  16318 non-null  float64\n",
            " 9   DIntPktAct  16318 non-null  float64\n",
            " 10  SrcJitter   16318 non-null  float64\n",
            " 11  DstJitter   16318 non-null  float64\n",
            " 12  sMaxPktSz   16318 non-null  float64\n",
            " 13  dMaxPktSz   16318 non-null  float64\n",
            " 14  sMinPktSz   16318 non-null  float64\n",
            " 15  dMinPktSz   16318 non-null  float64\n",
            " 16  Dur         16318 non-null  float64\n",
            " 17  Trans       16318 non-null  float64\n",
            " 18  TotPkts     16318 non-null  float64\n",
            " 19  TotBytes    16318 non-null  float64\n",
            " 20  Load        16318 non-null  float64\n",
            " 21  Loss        16318 non-null  float64\n",
            " 22  pLoss       16318 non-null  float64\n",
            " 23  pSrcLoss    16318 non-null  float64\n",
            " 24  pDstLoss    16318 non-null  float64\n",
            " 25  Rate        16318 non-null  float64\n",
            " 26  Temp        16318 non-null  float64\n",
            " 27  SpO2        16318 non-null  float64\n",
            " 28  Pulse_Rate  16318 non-null  float64\n",
            " 29  SYS         16318 non-null  float64\n",
            " 30  DIA         16318 non-null  float64\n",
            " 31  Heart_rate  16318 non-null  float64\n",
            " 32  Resp_Rate   16318 non-null  float64\n",
            " 33  ST          16318 non-null  float64\n",
            " 34  Label       16318 non-null  int64  \n",
            "dtypes: float64(34), int64(1)\n",
            "memory usage: 4.4 MB\n"
          ]
        }
      ]
    },
    {
      "cell_type": "code",
      "source": [
        "X_uni = df_uni.drop('Label', axis = 1)\n",
        "y_uni = df_uni['Label']\n",
        "X_uni.shape, y_uni.shape"
      ],
      "metadata": {
        "colab": {
          "base_uri": "https://localhost:8080/"
        },
        "id": "D0amiBvRrh5j",
        "outputId": "d615915b-acc8-43be-820f-9be72bef4743"
      },
      "execution_count": null,
      "outputs": [
        {
          "output_type": "execute_result",
          "data": {
            "text/plain": [
              "((16318, 34), (16318,))"
            ]
          },
          "metadata": {},
          "execution_count": 6
        }
      ]
    },
    {
      "cell_type": "code",
      "source": [
        "X_uni.head()"
      ],
      "metadata": {
        "colab": {
          "base_uri": "https://localhost:8080/",
          "height": 270
        },
        "id": "p5vuQ5Egry1v",
        "outputId": "d2a90c85-cf87-4ffb-fec5-b607cb2137d2"
      },
      "execution_count": null,
      "outputs": [
        {
          "output_type": "execute_result",
          "data": {
            "text/html": [
              "\n",
              "  <div id=\"df-68f49620-bd94-4f2a-abc2-b1ef354a1fd2\">\n",
              "    <div class=\"colab-df-container\">\n",
              "      <div>\n",
              "<style scoped>\n",
              "    .dataframe tbody tr th:only-of-type {\n",
              "        vertical-align: middle;\n",
              "    }\n",
              "\n",
              "    .dataframe tbody tr th {\n",
              "        vertical-align: top;\n",
              "    }\n",
              "\n",
              "    .dataframe thead th {\n",
              "        text-align: right;\n",
              "    }\n",
              "</style>\n",
              "<table border=\"1\" class=\"dataframe\">\n",
              "  <thead>\n",
              "    <tr style=\"text-align: right;\">\n",
              "      <th></th>\n",
              "      <th>SrcBytes</th>\n",
              "      <th>DstBytes</th>\n",
              "      <th>SrcLoad</th>\n",
              "      <th>DstLoad</th>\n",
              "      <th>SrcGap</th>\n",
              "      <th>DstGap</th>\n",
              "      <th>SIntPkt</th>\n",
              "      <th>DIntPkt</th>\n",
              "      <th>SIntPktAct</th>\n",
              "      <th>DIntPktAct</th>\n",
              "      <th>SrcJitter</th>\n",
              "      <th>DstJitter</th>\n",
              "      <th>sMaxPktSz</th>\n",
              "      <th>dMaxPktSz</th>\n",
              "      <th>sMinPktSz</th>\n",
              "      <th>dMinPktSz</th>\n",
              "      <th>Dur</th>\n",
              "      <th>Trans</th>\n",
              "      <th>TotPkts</th>\n",
              "      <th>TotBytes</th>\n",
              "      <th>Load</th>\n",
              "      <th>Loss</th>\n",
              "      <th>pLoss</th>\n",
              "      <th>pSrcLoss</th>\n",
              "      <th>pDstLoss</th>\n",
              "      <th>Rate</th>\n",
              "      <th>Temp</th>\n",
              "      <th>SpO2</th>\n",
              "      <th>Pulse_Rate</th>\n",
              "      <th>SYS</th>\n",
              "      <th>DIA</th>\n",
              "      <th>Heart_rate</th>\n",
              "      <th>Resp_Rate</th>\n",
              "      <th>ST</th>\n",
              "    </tr>\n",
              "  </thead>\n",
              "  <tbody>\n",
              "    <tr>\n",
              "      <th>0</th>\n",
              "      <td>496.0</td>\n",
              "      <td>186.0</td>\n",
              "      <td>276914.0</td>\n",
              "      <td>92305.0</td>\n",
              "      <td>0.0</td>\n",
              "      <td>0.0</td>\n",
              "      <td>3.582333</td>\n",
              "      <td>1.9015</td>\n",
              "      <td>0.0</td>\n",
              "      <td>0.0</td>\n",
              "      <td>2.946239</td>\n",
              "      <td>1.6235</td>\n",
              "      <td>310.0</td>\n",
              "      <td>66.0</td>\n",
              "      <td>60.0</td>\n",
              "      <td>60.0</td>\n",
              "      <td>0.010747</td>\n",
              "      <td>1.0</td>\n",
              "      <td>7.0</td>\n",
              "      <td>682.0</td>\n",
              "      <td>369219.0</td>\n",
              "      <td>0.0</td>\n",
              "      <td>0.0</td>\n",
              "      <td>0.0</td>\n",
              "      <td>0.0</td>\n",
              "      <td>558.295</td>\n",
              "      <td>28.9</td>\n",
              "      <td>0.0</td>\n",
              "      <td>0.0</td>\n",
              "      <td>0.0</td>\n",
              "      <td>0.0</td>\n",
              "      <td>0.0</td>\n",
              "      <td>0.0</td>\n",
              "      <td>0.0</td>\n",
              "    </tr>\n",
              "    <tr>\n",
              "      <th>1</th>\n",
              "      <td>496.0</td>\n",
              "      <td>186.0</td>\n",
              "      <td>230984.0</td>\n",
              "      <td>76995.0</td>\n",
              "      <td>0.0</td>\n",
              "      <td>0.0</td>\n",
              "      <td>4.294667</td>\n",
              "      <td>2.9015</td>\n",
              "      <td>0.0</td>\n",
              "      <td>0.0</td>\n",
              "      <td>3.091654</td>\n",
              "      <td>2.8625</td>\n",
              "      <td>310.0</td>\n",
              "      <td>66.0</td>\n",
              "      <td>60.0</td>\n",
              "      <td>60.0</td>\n",
              "      <td>0.012884</td>\n",
              "      <td>1.0</td>\n",
              "      <td>7.0</td>\n",
              "      <td>682.0</td>\n",
              "      <td>307979.0</td>\n",
              "      <td>0.0</td>\n",
              "      <td>0.0</td>\n",
              "      <td>0.0</td>\n",
              "      <td>0.0</td>\n",
              "      <td>465.694</td>\n",
              "      <td>28.9</td>\n",
              "      <td>0.0</td>\n",
              "      <td>0.0</td>\n",
              "      <td>0.0</td>\n",
              "      <td>0.0</td>\n",
              "      <td>78.0</td>\n",
              "      <td>17.0</td>\n",
              "      <td>0.4</td>\n",
              "    </tr>\n",
              "    <tr>\n",
              "      <th>2</th>\n",
              "      <td>496.0</td>\n",
              "      <td>186.0</td>\n",
              "      <td>218470.0</td>\n",
              "      <td>72823.0</td>\n",
              "      <td>0.0</td>\n",
              "      <td>0.0</td>\n",
              "      <td>4.540667</td>\n",
              "      <td>3.2945</td>\n",
              "      <td>0.0</td>\n",
              "      <td>0.0</td>\n",
              "      <td>2.849841</td>\n",
              "      <td>3.1655</td>\n",
              "      <td>310.0</td>\n",
              "      <td>66.0</td>\n",
              "      <td>60.0</td>\n",
              "      <td>60.0</td>\n",
              "      <td>0.013622</td>\n",
              "      <td>1.0</td>\n",
              "      <td>7.0</td>\n",
              "      <td>682.0</td>\n",
              "      <td>291293.0</td>\n",
              "      <td>0.0</td>\n",
              "      <td>0.0</td>\n",
              "      <td>0.0</td>\n",
              "      <td>0.0</td>\n",
              "      <td>440.464</td>\n",
              "      <td>28.9</td>\n",
              "      <td>89.0</td>\n",
              "      <td>104.0</td>\n",
              "      <td>0.0</td>\n",
              "      <td>0.0</td>\n",
              "      <td>78.0</td>\n",
              "      <td>17.0</td>\n",
              "      <td>0.4</td>\n",
              "    </tr>\n",
              "    <tr>\n",
              "      <th>3</th>\n",
              "      <td>496.0</td>\n",
              "      <td>186.0</td>\n",
              "      <td>203376.0</td>\n",
              "      <td>67792.0</td>\n",
              "      <td>0.0</td>\n",
              "      <td>0.0</td>\n",
              "      <td>4.877667</td>\n",
              "      <td>3.3320</td>\n",
              "      <td>0.0</td>\n",
              "      <td>0.0</td>\n",
              "      <td>2.452252</td>\n",
              "      <td>3.2570</td>\n",
              "      <td>310.0</td>\n",
              "      <td>66.0</td>\n",
              "      <td>60.0</td>\n",
              "      <td>60.0</td>\n",
              "      <td>0.014633</td>\n",
              "      <td>1.0</td>\n",
              "      <td>7.0</td>\n",
              "      <td>682.0</td>\n",
              "      <td>271168.0</td>\n",
              "      <td>0.0</td>\n",
              "      <td>0.0</td>\n",
              "      <td>0.0</td>\n",
              "      <td>0.0</td>\n",
              "      <td>410.032</td>\n",
              "      <td>28.9</td>\n",
              "      <td>89.0</td>\n",
              "      <td>104.0</td>\n",
              "      <td>0.0</td>\n",
              "      <td>0.0</td>\n",
              "      <td>79.0</td>\n",
              "      <td>17.0</td>\n",
              "      <td>0.4</td>\n",
              "    </tr>\n",
              "    <tr>\n",
              "      <th>4</th>\n",
              "      <td>496.0</td>\n",
              "      <td>186.0</td>\n",
              "      <td>235723.0</td>\n",
              "      <td>78574.0</td>\n",
              "      <td>0.0</td>\n",
              "      <td>0.0</td>\n",
              "      <td>4.208333</td>\n",
              "      <td>2.8635</td>\n",
              "      <td>0.0</td>\n",
              "      <td>0.0</td>\n",
              "      <td>3.021835</td>\n",
              "      <td>2.8225</td>\n",
              "      <td>310.0</td>\n",
              "      <td>66.0</td>\n",
              "      <td>60.0</td>\n",
              "      <td>60.0</td>\n",
              "      <td>0.012625</td>\n",
              "      <td>1.0</td>\n",
              "      <td>7.0</td>\n",
              "      <td>682.0</td>\n",
              "      <td>314297.0</td>\n",
              "      <td>0.0</td>\n",
              "      <td>0.0</td>\n",
              "      <td>0.0</td>\n",
              "      <td>0.0</td>\n",
              "      <td>475.247</td>\n",
              "      <td>28.9</td>\n",
              "      <td>89.0</td>\n",
              "      <td>101.0</td>\n",
              "      <td>0.0</td>\n",
              "      <td>0.0</td>\n",
              "      <td>79.0</td>\n",
              "      <td>17.0</td>\n",
              "      <td>0.4</td>\n",
              "    </tr>\n",
              "  </tbody>\n",
              "</table>\n",
              "</div>\n",
              "      <button class=\"colab-df-convert\" onclick=\"convertToInteractive('df-68f49620-bd94-4f2a-abc2-b1ef354a1fd2')\"\n",
              "              title=\"Convert this dataframe to an interactive table.\"\n",
              "              style=\"display:none;\">\n",
              "        \n",
              "  <svg xmlns=\"http://www.w3.org/2000/svg\" height=\"24px\"viewBox=\"0 0 24 24\"\n",
              "       width=\"24px\">\n",
              "    <path d=\"M0 0h24v24H0V0z\" fill=\"none\"/>\n",
              "    <path d=\"M18.56 5.44l.94 2.06.94-2.06 2.06-.94-2.06-.94-.94-2.06-.94 2.06-2.06.94zm-11 1L8.5 8.5l.94-2.06 2.06-.94-2.06-.94L8.5 2.5l-.94 2.06-2.06.94zm10 10l.94 2.06.94-2.06 2.06-.94-2.06-.94-.94-2.06-.94 2.06-2.06.94z\"/><path d=\"M17.41 7.96l-1.37-1.37c-.4-.4-.92-.59-1.43-.59-.52 0-1.04.2-1.43.59L10.3 9.45l-7.72 7.72c-.78.78-.78 2.05 0 2.83L4 21.41c.39.39.9.59 1.41.59.51 0 1.02-.2 1.41-.59l7.78-7.78 2.81-2.81c.8-.78.8-2.07 0-2.86zM5.41 20L4 18.59l7.72-7.72 1.47 1.35L5.41 20z\"/>\n",
              "  </svg>\n",
              "      </button>\n",
              "      \n",
              "  <style>\n",
              "    .colab-df-container {\n",
              "      display:flex;\n",
              "      flex-wrap:wrap;\n",
              "      gap: 12px;\n",
              "    }\n",
              "\n",
              "    .colab-df-convert {\n",
              "      background-color: #E8F0FE;\n",
              "      border: none;\n",
              "      border-radius: 50%;\n",
              "      cursor: pointer;\n",
              "      display: none;\n",
              "      fill: #1967D2;\n",
              "      height: 32px;\n",
              "      padding: 0 0 0 0;\n",
              "      width: 32px;\n",
              "    }\n",
              "\n",
              "    .colab-df-convert:hover {\n",
              "      background-color: #E2EBFA;\n",
              "      box-shadow: 0px 1px 2px rgba(60, 64, 67, 0.3), 0px 1px 3px 1px rgba(60, 64, 67, 0.15);\n",
              "      fill: #174EA6;\n",
              "    }\n",
              "\n",
              "    [theme=dark] .colab-df-convert {\n",
              "      background-color: #3B4455;\n",
              "      fill: #D2E3FC;\n",
              "    }\n",
              "\n",
              "    [theme=dark] .colab-df-convert:hover {\n",
              "      background-color: #434B5C;\n",
              "      box-shadow: 0px 1px 3px 1px rgba(0, 0, 0, 0.15);\n",
              "      filter: drop-shadow(0px 1px 2px rgba(0, 0, 0, 0.3));\n",
              "      fill: #FFFFFF;\n",
              "    }\n",
              "  </style>\n",
              "\n",
              "      <script>\n",
              "        const buttonEl =\n",
              "          document.querySelector('#df-68f49620-bd94-4f2a-abc2-b1ef354a1fd2 button.colab-df-convert');\n",
              "        buttonEl.style.display =\n",
              "          google.colab.kernel.accessAllowed ? 'block' : 'none';\n",
              "\n",
              "        async function convertToInteractive(key) {\n",
              "          const element = document.querySelector('#df-68f49620-bd94-4f2a-abc2-b1ef354a1fd2');\n",
              "          const dataTable =\n",
              "            await google.colab.kernel.invokeFunction('convertToInteractive',\n",
              "                                                     [key], {});\n",
              "          if (!dataTable) return;\n",
              "\n",
              "          const docLinkHtml = 'Like what you see? Visit the ' +\n",
              "            '<a target=\"_blank\" href=https://colab.research.google.com/notebooks/data_table.ipynb>data table notebook</a>'\n",
              "            + ' to learn more about interactive tables.';\n",
              "          element.innerHTML = '';\n",
              "          dataTable['output_type'] = 'display_data';\n",
              "          await google.colab.output.renderOutput(dataTable, element);\n",
              "          const docLink = document.createElement('div');\n",
              "          docLink.innerHTML = docLinkHtml;\n",
              "          element.appendChild(docLink);\n",
              "        }\n",
              "      </script>\n",
              "    </div>\n",
              "  </div>\n",
              "  "
            ],
            "text/plain": [
              "   SrcBytes  DstBytes   SrcLoad  DstLoad  ...  DIA  Heart_rate  Resp_Rate   ST\n",
              "0     496.0     186.0  276914.0  92305.0  ...  0.0         0.0        0.0  0.0\n",
              "1     496.0     186.0  230984.0  76995.0  ...  0.0        78.0       17.0  0.4\n",
              "2     496.0     186.0  218470.0  72823.0  ...  0.0        78.0       17.0  0.4\n",
              "3     496.0     186.0  203376.0  67792.0  ...  0.0        79.0       17.0  0.4\n",
              "4     496.0     186.0  235723.0  78574.0  ...  0.0        79.0       17.0  0.4\n",
              "\n",
              "[5 rows x 34 columns]"
            ]
          },
          "metadata": {},
          "execution_count": 7
        }
      ]
    },
    {
      "cell_type": "code",
      "source": [
        "from imblearn.over_sampling import SMOTE\n",
        "X_uni_smote, y_uni_smote = SMOTE().fit_resample(X_uni, y_uni)"
      ],
      "metadata": {
        "id": "29AoepwHr6pu"
      },
      "execution_count": null,
      "outputs": []
    },
    {
      "cell_type": "code",
      "source": [
        "from sklearn.preprocessing import LabelEncoder\n",
        "encoder = LabelEncoder()\n",
        "y1_uni = encoder.fit_transform(y_uni_smote)\n",
        "Y_uni_smote= pd.get_dummies(y1_uni).values"
      ],
      "metadata": {
        "id": "veT4AeIqsHn-"
      },
      "execution_count": null,
      "outputs": []
    },
    {
      "cell_type": "code",
      "source": [
        "from sklearn.metrics import accuracy_score, confusion_matrix, classification_report\n",
        "#from sklearn.model_selection import KFold, GridSearchCV\n",
        "from sklearn.model_selection import train_test_split\n",
        "X_uni_train, X_uni_test, y_uni_train, y_uni_test = train_test_split(X_uni_smote, Y_uni_smote, test_size=0.2, random_state = 42)"
      ],
      "metadata": {
        "id": "hE0UqLxtsVAL"
      },
      "execution_count": null,
      "outputs": []
    },
    {
      "cell_type": "code",
      "source": [
        "from sklearn.preprocessing import StandardScaler\n",
        "scaling = StandardScaler()\n",
        "X_uni_train = scaling.fit_transform(X_uni_train)\n",
        "X_uni_test = scaling.transform(X_uni_test)"
      ],
      "metadata": {
        "id": "syQFtQLzsmhH"
      },
      "execution_count": null,
      "outputs": []
    },
    {
      "cell_type": "markdown",
      "source": [
        "# 6- Single Model Approach"
      ],
      "metadata": {
        "id": "8y75dt3ypxZO"
      }
    },
    {
      "cell_type": "code",
      "source": [
        "from keras.layers import LSTM, SimpleRNN, GRU\n",
        "from keras.layers import Dense, Dropout, Activation, Embedding\n",
        "import tensorflow as tf\n",
        "from tensorflow.keras.optimizers import Adam\n",
        "#from keras.optimizers import SGD\n",
        "#opt = SGD(lr=0.0001)\n",
        "#batch_size = 64\n",
        "\n",
        "# 1. define the network\n",
        "\n",
        "model = tf.keras.models.Sequential([\n",
        "        tf.keras.layers.InputLayer(input_shape=(12,)),\n",
        "        tf.keras.layers.Dense(32, activation='relu'),\n",
        "        tf.keras.layers.Dense(64, activation='relu'),\n",
        "        tf.keras.layers.Dense(32, activation='relu'),\n",
        "        tf.keras.layers.Dense(2, activation='sigmoid')\n",
        "])\n",
        "#model = Sequential()\n",
        "#model.add(LSTM(64,input_dim=X_train.shape[0]))  \n",
        "#model.add(Dropout(0.1))\n",
        "#model.add(Dense(1))\n",
        "\n",
        "\n",
        "#model.add(Dense(2, activation='softmax'))\n",
        " \n",
        "model.compile(loss='categorical_crossentropy',optimizer=Adam(lr=0.001),metrics=['accuracy'])\n",
        "   \n",
        "history = model.fit(X_train, y_train, epochs=100,batch_size=512, validation_data=(X_test, y_test), verbose=1)#, class_weight=class_weights)\n",
        "    \n",
        "print(model.evaluate(X_test, y_test))\n",
        "    \n",
        "y_preds_dnn = model.predict(X_test)\n",
        "y_test_class = np.argmax(y_test, axis=1)\n",
        "y_pred_class = np.argmax(y_preds_dnn, axis=1)\n",
        "    \n",
        "\n",
        "print(confusion_matrix(y_test_class, y_pred_class))\n",
        "\n",
        "print(\"Classification Report: \\n\", classification_report(y_test_class, y_pred_class))\n",
        "\n",
        "print('Summary of the results after each epoch')\n",
        "hist = pd.DataFrame(history.history)\n",
        "hist['epoch'] = history.epoch\n",
        "hist.tail()\n",
        "\n",
        "\n",
        "from matplotlib import pyplot as plt\n",
        "plt.plot(history.history['accuracy'])\n",
        "from matplotlib import pyplot as plt\n",
        "plt.plot(history.history['val_accuracy'])\n",
        "plt.title('model accuracy')\n",
        "plt.ylabel('accuracy')\n",
        "plt.xlabel('epoch')\n",
        "plt.legend(['Train', 'Cross-Validation'], loc='lower right')\n",
        "plt.show()\n",
        "\n",
        "\n",
        "plt.plot(history.history['loss'])\n",
        "from matplotlib import pyplot as plt\n",
        "plt.plot(history.history['val_loss'])\n",
        "plt.title('model Loss')\n",
        "plt.ylabel('Loss')\n",
        "plt.xlabel('epoch')\n",
        "plt.legend(['Train', 'Cross-Validation'], loc='upper right')\n",
        "plt.show()\n",
        "\n",
        "ax = plt.subplot()\n",
        "predict_results = model.predict(X_test)\n",
        "predict_results = predict_results.argmax(axis = 1)\n",
        "cm = confusion_matrix(y_test_class, predict_results)\n",
        "\n",
        "sns.heatmap(cm, annot = True, ax =ax, fmt='g'); # cmap= \"YlGnBu\"\n",
        "ax.set_xlabel('Predicted Labels'); ax.set_ylabel('True Labels');\n",
        "ax.set_title('Confusion Matrix');"
      ],
      "metadata": {
        "colab": {
          "base_uri": "https://localhost:8080/",
          "height": 1000
        },
        "id": "QXCjBMgLs58e",
        "outputId": "f4298a4a-1fc3-4bb2-b961-1017c9c953fe"
      },
      "execution_count": null,
      "outputs": [
        {
          "output_type": "stream",
          "name": "stderr",
          "text": [
            "/usr/local/lib/python3.7/dist-packages/keras/optimizer_v2/adam.py:105: UserWarning: The `lr` argument is deprecated, use `learning_rate` instead.\n",
            "  super(Adam, self).__init__(name, **kwargs)\n"
          ]
        },
        {
          "output_type": "stream",
          "name": "stdout",
          "text": [
            "Epoch 1/100\n",
            "45/45 [==============================] - 1s 8ms/step - loss: 0.6140 - accuracy: 0.6506 - val_loss: 0.5416 - val_accuracy: 0.7002\n",
            "Epoch 2/100\n",
            "45/45 [==============================] - 0s 4ms/step - loss: 0.5112 - accuracy: 0.7195 - val_loss: 0.4862 - val_accuracy: 0.7404\n",
            "Epoch 3/100\n",
            "45/45 [==============================] - 0s 4ms/step - loss: 0.4637 - accuracy: 0.7579 - val_loss: 0.4533 - val_accuracy: 0.7631\n",
            "Epoch 4/100\n",
            "45/45 [==============================] - 0s 4ms/step - loss: 0.4417 - accuracy: 0.7723 - val_loss: 0.4389 - val_accuracy: 0.7714\n",
            "Epoch 5/100\n",
            "45/45 [==============================] - 0s 4ms/step - loss: 0.4285 - accuracy: 0.7786 - val_loss: 0.4281 - val_accuracy: 0.7831\n",
            "Epoch 6/100\n",
            "45/45 [==============================] - 0s 5ms/step - loss: 0.4210 - accuracy: 0.7841 - val_loss: 0.4212 - val_accuracy: 0.7842\n",
            "Epoch 7/100\n",
            "45/45 [==============================] - 0s 4ms/step - loss: 0.4121 - accuracy: 0.7888 - val_loss: 0.4123 - val_accuracy: 0.7940\n",
            "Epoch 8/100\n",
            "45/45 [==============================] - 0s 4ms/step - loss: 0.4043 - accuracy: 0.7962 - val_loss: 0.4048 - val_accuracy: 0.7985\n",
            "Epoch 9/100\n",
            "45/45 [==============================] - 0s 4ms/step - loss: 0.3966 - accuracy: 0.7997 - val_loss: 0.3980 - val_accuracy: 0.7991\n",
            "Epoch 10/100\n",
            "45/45 [==============================] - 0s 4ms/step - loss: 0.3903 - accuracy: 0.8052 - val_loss: 0.3925 - val_accuracy: 0.8019\n",
            "Epoch 11/100\n",
            "45/45 [==============================] - 0s 5ms/step - loss: 0.3854 - accuracy: 0.8059 - val_loss: 0.3832 - val_accuracy: 0.8106\n",
            "Epoch 12/100\n",
            "45/45 [==============================] - 0s 4ms/step - loss: 0.3795 - accuracy: 0.8116 - val_loss: 0.3795 - val_accuracy: 0.8111\n",
            "Epoch 13/100\n",
            "45/45 [==============================] - 0s 4ms/step - loss: 0.3756 - accuracy: 0.8123 - val_loss: 0.3770 - val_accuracy: 0.8099\n",
            "Epoch 14/100\n",
            "45/45 [==============================] - 0s 4ms/step - loss: 0.3706 - accuracy: 0.8143 - val_loss: 0.3714 - val_accuracy: 0.8124\n",
            "Epoch 15/100\n",
            "45/45 [==============================] - 0s 4ms/step - loss: 0.3671 - accuracy: 0.8168 - val_loss: 0.3648 - val_accuracy: 0.8192\n",
            "Epoch 16/100\n",
            "45/45 [==============================] - 0s 4ms/step - loss: 0.3628 - accuracy: 0.8190 - val_loss: 0.3621 - val_accuracy: 0.8217\n",
            "Epoch 17/100\n",
            "45/45 [==============================] - 0s 5ms/step - loss: 0.3573 - accuracy: 0.8215 - val_loss: 0.3669 - val_accuracy: 0.8194\n",
            "Epoch 18/100\n",
            "45/45 [==============================] - 0s 4ms/step - loss: 0.3547 - accuracy: 0.8236 - val_loss: 0.3553 - val_accuracy: 0.8248\n",
            "Epoch 19/100\n",
            "45/45 [==============================] - 0s 4ms/step - loss: 0.3515 - accuracy: 0.8249 - val_loss: 0.3535 - val_accuracy: 0.8280\n",
            "Epoch 20/100\n",
            "45/45 [==============================] - 0s 4ms/step - loss: 0.3516 - accuracy: 0.8257 - val_loss: 0.3488 - val_accuracy: 0.8308\n",
            "Epoch 21/100\n",
            "45/45 [==============================] - 0s 4ms/step - loss: 0.3459 - accuracy: 0.8290 - val_loss: 0.3469 - val_accuracy: 0.8323\n",
            "Epoch 22/100\n",
            "45/45 [==============================] - 0s 5ms/step - loss: 0.3444 - accuracy: 0.8293 - val_loss: 0.3418 - val_accuracy: 0.8318\n",
            "Epoch 23/100\n",
            "45/45 [==============================] - 0s 4ms/step - loss: 0.3393 - accuracy: 0.8319 - val_loss: 0.3398 - val_accuracy: 0.8346\n",
            "Epoch 24/100\n",
            "45/45 [==============================] - 0s 4ms/step - loss: 0.3366 - accuracy: 0.8343 - val_loss: 0.3402 - val_accuracy: 0.8350\n",
            "Epoch 25/100\n",
            "45/45 [==============================] - 0s 4ms/step - loss: 0.3359 - accuracy: 0.8324 - val_loss: 0.3341 - val_accuracy: 0.8358\n",
            "Epoch 26/100\n",
            "45/45 [==============================] - 0s 4ms/step - loss: 0.3322 - accuracy: 0.8365 - val_loss: 0.3380 - val_accuracy: 0.8280\n",
            "Epoch 27/100\n",
            "45/45 [==============================] - 0s 4ms/step - loss: 0.3329 - accuracy: 0.8354 - val_loss: 0.3343 - val_accuracy: 0.8318\n",
            "Epoch 28/100\n",
            "45/45 [==============================] - 0s 4ms/step - loss: 0.3291 - accuracy: 0.8396 - val_loss: 0.3295 - val_accuracy: 0.8372\n",
            "Epoch 29/100\n",
            "45/45 [==============================] - 0s 4ms/step - loss: 0.3282 - accuracy: 0.8389 - val_loss: 0.3305 - val_accuracy: 0.8425\n",
            "Epoch 30/100\n",
            "45/45 [==============================] - 0s 4ms/step - loss: 0.3252 - accuracy: 0.8404 - val_loss: 0.3304 - val_accuracy: 0.8422\n",
            "Epoch 31/100\n",
            "45/45 [==============================] - 0s 5ms/step - loss: 0.3235 - accuracy: 0.8428 - val_loss: 0.3268 - val_accuracy: 0.8427\n",
            "Epoch 32/100\n",
            "45/45 [==============================] - 0s 4ms/step - loss: 0.3233 - accuracy: 0.8406 - val_loss: 0.3304 - val_accuracy: 0.8469\n",
            "Epoch 33/100\n",
            "45/45 [==============================] - 0s 4ms/step - loss: 0.3209 - accuracy: 0.8431 - val_loss: 0.3282 - val_accuracy: 0.8465\n",
            "Epoch 34/100\n",
            "45/45 [==============================] - 0s 4ms/step - loss: 0.3210 - accuracy: 0.8434 - val_loss: 0.3205 - val_accuracy: 0.8451\n",
            "Epoch 35/100\n",
            "45/45 [==============================] - 0s 4ms/step - loss: 0.3192 - accuracy: 0.8459 - val_loss: 0.3251 - val_accuracy: 0.8353\n",
            "Epoch 36/100\n",
            "45/45 [==============================] - 0s 4ms/step - loss: 0.3206 - accuracy: 0.8440 - val_loss: 0.3224 - val_accuracy: 0.8453\n",
            "Epoch 37/100\n",
            "45/45 [==============================] - 0s 4ms/step - loss: 0.3127 - accuracy: 0.8483 - val_loss: 0.3201 - val_accuracy: 0.8450\n",
            "Epoch 38/100\n",
            "45/45 [==============================] - 0s 4ms/step - loss: 0.3129 - accuracy: 0.8474 - val_loss: 0.3162 - val_accuracy: 0.8455\n",
            "Epoch 39/100\n",
            "45/45 [==============================] - 0s 6ms/step - loss: 0.3087 - accuracy: 0.8511 - val_loss: 0.3177 - val_accuracy: 0.8418\n",
            "Epoch 40/100\n",
            "45/45 [==============================] - 0s 4ms/step - loss: 0.3102 - accuracy: 0.8498 - val_loss: 0.3192 - val_accuracy: 0.8525\n",
            "Epoch 41/100\n",
            "45/45 [==============================] - 0s 4ms/step - loss: 0.3086 - accuracy: 0.8505 - val_loss: 0.3127 - val_accuracy: 0.8481\n",
            "Epoch 42/100\n",
            "45/45 [==============================] - 0s 4ms/step - loss: 0.3088 - accuracy: 0.8517 - val_loss: 0.3117 - val_accuracy: 0.8507\n",
            "Epoch 43/100\n",
            "45/45 [==============================] - 0s 5ms/step - loss: 0.3046 - accuracy: 0.8548 - val_loss: 0.3121 - val_accuracy: 0.8471\n",
            "Epoch 44/100\n",
            "45/45 [==============================] - 0s 4ms/step - loss: 0.3031 - accuracy: 0.8543 - val_loss: 0.3099 - val_accuracy: 0.8485\n",
            "Epoch 45/100\n",
            "45/45 [==============================] - 0s 4ms/step - loss: 0.3061 - accuracy: 0.8528 - val_loss: 0.3111 - val_accuracy: 0.8509\n",
            "Epoch 46/100\n",
            "45/45 [==============================] - 0s 4ms/step - loss: 0.3022 - accuracy: 0.8552 - val_loss: 0.3108 - val_accuracy: 0.8548\n",
            "Epoch 47/100\n",
            "45/45 [==============================] - 0s 4ms/step - loss: 0.3009 - accuracy: 0.8547 - val_loss: 0.3066 - val_accuracy: 0.8502\n",
            "Epoch 48/100\n",
            "45/45 [==============================] - 0s 5ms/step - loss: 0.3009 - accuracy: 0.8560 - val_loss: 0.3056 - val_accuracy: 0.8556\n",
            "Epoch 49/100\n",
            "45/45 [==============================] - 0s 5ms/step - loss: 0.3002 - accuracy: 0.8554 - val_loss: 0.3114 - val_accuracy: 0.8499\n",
            "Epoch 50/100\n",
            "45/45 [==============================] - 0s 4ms/step - loss: 0.3025 - accuracy: 0.8555 - val_loss: 0.3123 - val_accuracy: 0.8577\n",
            "Epoch 51/100\n",
            "45/45 [==============================] - 0s 4ms/step - loss: 0.3007 - accuracy: 0.8575 - val_loss: 0.3033 - val_accuracy: 0.8555\n",
            "Epoch 52/100\n",
            "45/45 [==============================] - 0s 4ms/step - loss: 0.2941 - accuracy: 0.8610 - val_loss: 0.3018 - val_accuracy: 0.8562\n",
            "Epoch 53/100\n",
            "45/45 [==============================] - 0s 4ms/step - loss: 0.2947 - accuracy: 0.8583 - val_loss: 0.3062 - val_accuracy: 0.8502\n",
            "Epoch 54/100\n",
            "45/45 [==============================] - 0s 5ms/step - loss: 0.2927 - accuracy: 0.8618 - val_loss: 0.3025 - val_accuracy: 0.8572\n",
            "Epoch 55/100\n",
            "45/45 [==============================] - 0s 4ms/step - loss: 0.2916 - accuracy: 0.8609 - val_loss: 0.3097 - val_accuracy: 0.8488\n",
            "Epoch 56/100\n",
            "45/45 [==============================] - 0s 4ms/step - loss: 0.2918 - accuracy: 0.8611 - val_loss: 0.2993 - val_accuracy: 0.8583\n",
            "Epoch 57/100\n",
            "45/45 [==============================] - 0s 4ms/step - loss: 0.2941 - accuracy: 0.8596 - val_loss: 0.3113 - val_accuracy: 0.8432\n",
            "Epoch 58/100\n",
            "45/45 [==============================] - 0s 5ms/step - loss: 0.2913 - accuracy: 0.8610 - val_loss: 0.2976 - val_accuracy: 0.8612\n",
            "Epoch 59/100\n",
            "45/45 [==============================] - 0s 4ms/step - loss: 0.2886 - accuracy: 0.8644 - val_loss: 0.3020 - val_accuracy: 0.8583\n",
            "Epoch 60/100\n",
            "45/45 [==============================] - 0s 4ms/step - loss: 0.2871 - accuracy: 0.8647 - val_loss: 0.2957 - val_accuracy: 0.8584\n",
            "Epoch 61/100\n",
            "45/45 [==============================] - 0s 4ms/step - loss: 0.2881 - accuracy: 0.8633 - val_loss: 0.2964 - val_accuracy: 0.8614\n",
            "Epoch 62/100\n",
            "45/45 [==============================] - 0s 4ms/step - loss: 0.2870 - accuracy: 0.8629 - val_loss: 0.2948 - val_accuracy: 0.8670\n",
            "Epoch 63/100\n",
            "45/45 [==============================] - 0s 4ms/step - loss: 0.2883 - accuracy: 0.8608 - val_loss: 0.2934 - val_accuracy: 0.8674\n",
            "Epoch 64/100\n",
            "45/45 [==============================] - 0s 4ms/step - loss: 0.2831 - accuracy: 0.8656 - val_loss: 0.2899 - val_accuracy: 0.8683\n",
            "Epoch 65/100\n",
            "45/45 [==============================] - 0s 4ms/step - loss: 0.2859 - accuracy: 0.8643 - val_loss: 0.2936 - val_accuracy: 0.8609\n",
            "Epoch 66/100\n",
            "45/45 [==============================] - 0s 4ms/step - loss: 0.2864 - accuracy: 0.8639 - val_loss: 0.2959 - val_accuracy: 0.8619\n",
            "Epoch 67/100\n",
            "45/45 [==============================] - 0s 5ms/step - loss: 0.2830 - accuracy: 0.8643 - val_loss: 0.2923 - val_accuracy: 0.8642\n",
            "Epoch 68/100\n",
            "45/45 [==============================] - 0s 4ms/step - loss: 0.2815 - accuracy: 0.8677 - val_loss: 0.2912 - val_accuracy: 0.8662\n",
            "Epoch 69/100\n",
            "45/45 [==============================] - 0s 4ms/step - loss: 0.2814 - accuracy: 0.8654 - val_loss: 0.3021 - val_accuracy: 0.8653\n",
            "Epoch 70/100\n",
            "45/45 [==============================] - 0s 4ms/step - loss: 0.2813 - accuracy: 0.8666 - val_loss: 0.2895 - val_accuracy: 0.8670\n",
            "Epoch 71/100\n",
            "45/45 [==============================] - 0s 4ms/step - loss: 0.2787 - accuracy: 0.8669 - val_loss: 0.2886 - val_accuracy: 0.8677\n",
            "Epoch 72/100\n",
            "45/45 [==============================] - 0s 4ms/step - loss: 0.2773 - accuracy: 0.8686 - val_loss: 0.2884 - val_accuracy: 0.8655\n",
            "Epoch 73/100\n",
            "45/45 [==============================] - 0s 4ms/step - loss: 0.2784 - accuracy: 0.8664 - val_loss: 0.2911 - val_accuracy: 0.8641\n",
            "Epoch 74/100\n",
            "45/45 [==============================] - 0s 5ms/step - loss: 0.2767 - accuracy: 0.8688 - val_loss: 0.2987 - val_accuracy: 0.8570\n",
            "Epoch 75/100\n",
            "45/45 [==============================] - 0s 4ms/step - loss: 0.2762 - accuracy: 0.8703 - val_loss: 0.2882 - val_accuracy: 0.8670\n",
            "Epoch 76/100\n",
            "45/45 [==============================] - 0s 4ms/step - loss: 0.2742 - accuracy: 0.8699 - val_loss: 0.2957 - val_accuracy: 0.8626\n",
            "Epoch 77/100\n",
            "45/45 [==============================] - 0s 4ms/step - loss: 0.2744 - accuracy: 0.8689 - val_loss: 0.2889 - val_accuracy: 0.8623\n",
            "Epoch 78/100\n",
            "45/45 [==============================] - 0s 4ms/step - loss: 0.2760 - accuracy: 0.8694 - val_loss: 0.2897 - val_accuracy: 0.8686\n",
            "Epoch 79/100\n",
            "45/45 [==============================] - 0s 5ms/step - loss: 0.2759 - accuracy: 0.8682 - val_loss: 0.2918 - val_accuracy: 0.8630\n",
            "Epoch 80/100\n",
            "45/45 [==============================] - 0s 4ms/step - loss: 0.2744 - accuracy: 0.8717 - val_loss: 0.2866 - val_accuracy: 0.8679\n",
            "Epoch 81/100\n",
            "45/45 [==============================] - 0s 4ms/step - loss: 0.2705 - accuracy: 0.8718 - val_loss: 0.2878 - val_accuracy: 0.8742\n",
            "Epoch 82/100\n",
            "45/45 [==============================] - 0s 5ms/step - loss: 0.2726 - accuracy: 0.8706 - val_loss: 0.2886 - val_accuracy: 0.8667\n",
            "Epoch 83/100\n",
            "45/45 [==============================] - 0s 4ms/step - loss: 0.2720 - accuracy: 0.8717 - val_loss: 0.2839 - val_accuracy: 0.8693\n",
            "Epoch 84/100\n",
            "45/45 [==============================] - 0s 5ms/step - loss: 0.2717 - accuracy: 0.8717 - val_loss: 0.2849 - val_accuracy: 0.8697\n",
            "Epoch 85/100\n",
            "45/45 [==============================] - 0s 4ms/step - loss: 0.2717 - accuracy: 0.8700 - val_loss: 0.2898 - val_accuracy: 0.8672\n",
            "Epoch 86/100\n",
            "45/45 [==============================] - 0s 4ms/step - loss: 0.2713 - accuracy: 0.8710 - val_loss: 0.2831 - val_accuracy: 0.8693\n",
            "Epoch 87/100\n",
            "45/45 [==============================] - 0s 4ms/step - loss: 0.2692 - accuracy: 0.8721 - val_loss: 0.2843 - val_accuracy: 0.8737\n",
            "Epoch 88/100\n",
            "45/45 [==============================] - 0s 4ms/step - loss: 0.2692 - accuracy: 0.8723 - val_loss: 0.2893 - val_accuracy: 0.8584\n",
            "Epoch 89/100\n",
            "45/45 [==============================] - 0s 4ms/step - loss: 0.2678 - accuracy: 0.8731 - val_loss: 0.2859 - val_accuracy: 0.8672\n",
            "Epoch 90/100\n",
            "45/45 [==============================] - 0s 4ms/step - loss: 0.2667 - accuracy: 0.8747 - val_loss: 0.2909 - val_accuracy: 0.8684\n",
            "Epoch 91/100\n",
            "45/45 [==============================] - 0s 5ms/step - loss: 0.2642 - accuracy: 0.8756 - val_loss: 0.2803 - val_accuracy: 0.8747\n",
            "Epoch 92/100\n",
            "45/45 [==============================] - 0s 4ms/step - loss: 0.2646 - accuracy: 0.8761 - val_loss: 0.2817 - val_accuracy: 0.8704\n",
            "Epoch 93/100\n",
            "45/45 [==============================] - 0s 4ms/step - loss: 0.2628 - accuracy: 0.8765 - val_loss: 0.2871 - val_accuracy: 0.8688\n",
            "Epoch 94/100\n",
            "45/45 [==============================] - 0s 6ms/step - loss: 0.2681 - accuracy: 0.8734 - val_loss: 0.2828 - val_accuracy: 0.8642\n",
            "Epoch 95/100\n",
            "45/45 [==============================] - 0s 5ms/step - loss: 0.2717 - accuracy: 0.8705 - val_loss: 0.2857 - val_accuracy: 0.8679\n",
            "Epoch 96/100\n",
            "45/45 [==============================] - 0s 4ms/step - loss: 0.2658 - accuracy: 0.8744 - val_loss: 0.2806 - val_accuracy: 0.8683\n",
            "Epoch 97/100\n",
            "45/45 [==============================] - 0s 4ms/step - loss: 0.2648 - accuracy: 0.8762 - val_loss: 0.2800 - val_accuracy: 0.8718\n",
            "Epoch 98/100\n",
            "45/45 [==============================] - 0s 4ms/step - loss: 0.2623 - accuracy: 0.8761 - val_loss: 0.2781 - val_accuracy: 0.8705\n",
            "Epoch 99/100\n",
            "45/45 [==============================] - 0s 5ms/step - loss: 0.2619 - accuracy: 0.8771 - val_loss: 0.2782 - val_accuracy: 0.8735\n",
            "Epoch 100/100\n",
            "45/45 [==============================] - 0s 4ms/step - loss: 0.2631 - accuracy: 0.8758 - val_loss: 0.2754 - val_accuracy: 0.8737\n",
            "179/179 [==============================] - 0s 2ms/step - loss: 0.2754 - accuracy: 0.8737\n",
            "[0.27536195516586304, 0.8736860752105713]\n",
            "[[2508  355]\n",
            " [ 366 2479]]\n",
            "Classification Report: \n",
            "               precision    recall  f1-score   support\n",
            "\n",
            "           0       0.87      0.88      0.87      2863\n",
            "           1       0.87      0.87      0.87      2845\n",
            "\n",
            "    accuracy                           0.87      5708\n",
            "   macro avg       0.87      0.87      0.87      5708\n",
            "weighted avg       0.87      0.87      0.87      5708\n",
            "\n",
            "Summary of the results after each epoch\n"
          ]
        },
        {
          "output_type": "display_data",
          "data": {
            "image/png": "[encoded data removed]",
            "text/plain": [
              "<Figure size 432x288 with 1 Axes>"
            ]
          },
          "metadata": {
            "needs_background": "light"
          }
        },
        {
          "output_type": "display_data",
          "data": {
            "image/png": "[encoded data removed]",
            "text/plain": [
              "<Figure size 432x288 with 1 Axes>"
            ]
          },
          "metadata": {
            "needs_background": "light"
          }
        },
        {
          "output_type": "display_data",
          "data": {
            "image/png": "[encoded data removed]",
            "text/plain": [
              "<Figure size 432x288 with 2 Axes>"
            ]
          },
          "metadata": {
            "needs_background": "light"
          }
        }
      ]
    },
    {
      "cell_type": "code",
      "source": [
        "from keras.layers import LSTM, SimpleRNN, GRU\n",
        "from keras.layers import Dense, Dropout, Activation, Embedding\n",
        "import tensorflow as tf\n",
        "from tensorflow.keras.optimizers import Adam\n",
        "#from keras.optimizers import SGD\n",
        "#opt = SGD(lr=0.0001)\n",
        "#batch_size = 64\n",
        "\n",
        "# 1. define the network\n",
        "\n",
        "model = tf.keras.models.Sequential([\n",
        "        tf.keras.layers.InputLayer(input_shape=(12,)),\n",
        "        tf.keras.layers.Dense(64, activation='relu'),\n",
        "        tf.keras.layers.Dense(32, activation='relu'),\n",
        "        tf.keras.layers.Dense(32, activation='relu'),\n",
        "        tf.keras.layers.Dense(32, activation='relu'),\n",
        "        tf.keras.layers.Dense(2, activation='softmax')\n",
        "])\n",
        "#model = Sequential()\n",
        "#model.add(LSTM(64,input_dim=X_train.shape[0]))  \n",
        "#model.add(Dropout(0.1))\n",
        "#model.add(Dense(1))\n",
        "\n",
        "\n",
        "#model.add(Dense(2, activation='softmax'))\n",
        " \n",
        "model.compile(loss='categorical_crossentropy',optimizer=Adam(lr=0.001),metrics=['accuracy'])\n",
        "   \n",
        "history = model.fit(X_train, y_train, epochs=100,batch_size=512, validation_data=(X_test, y_test), verbose=1)#, class_weight=class_weights)\n",
        "    \n",
        "print(model.evaluate(X_test, y_test))\n",
        "    \n",
        "y_preds_dnn = model.predict(X_test)\n",
        "y_test_class = np.argmax(y_test, axis=1)\n",
        "y_pred_class = np.argmax(y_preds_dnn, axis=1)\n",
        "    \n",
        "\n",
        "print(confusion_matrix(y_test_class, y_pred_class))\n",
        "\n",
        "print(\"Classification Report: \\n\", classification_report(y_test_class, y_pred_class))\n",
        "\n",
        "print('Summary of the results after each epoch')\n",
        "hist = pd.DataFrame(history.history)\n",
        "hist['epoch'] = history.epoch\n",
        "hist.tail()\n",
        "\n",
        "\n",
        "from matplotlib import pyplot as plt\n",
        "plt.plot(history.history['accuracy'])\n",
        "from matplotlib import pyplot as plt\n",
        "plt.plot(history.history['val_accuracy'])\n",
        "plt.title('model accuracy')\n",
        "plt.ylabel('accuracy')\n",
        "plt.xlabel('epoch')\n",
        "plt.legend(['Train', 'Cross-Validation'], loc='lower right')\n",
        "plt.show()\n",
        "\n",
        "\n",
        "plt.plot(history.history['loss'])\n",
        "from matplotlib import pyplot as plt\n",
        "plt.plot(history.history['val_loss'])\n",
        "plt.title('model Loss')\n",
        "plt.ylabel('Loss')\n",
        "plt.xlabel('epoch')\n",
        "plt.legend(['Train', 'Cross-Validation'], loc='upper right')\n",
        "plt.show()\n",
        "\n",
        "ax = plt.subplot()\n",
        "predict_results = model.predict(X_test)\n",
        "predict_results = predict_results.argmax(axis = 1)\n",
        "cm = confusion_matrix(y_test_class, predict_results)\n",
        "\n",
        "sns.heatmap(cm, annot = True, ax =ax, fmt='g'); # cmap= \"YlGnBu\"\n",
        "ax.set_xlabel('Predicted Labels'); ax.set_ylabel('True Labels');\n",
        "ax.set_title('Confusion Matrix');"
      ],
      "metadata": {
        "colab": {
          "base_uri": "https://localhost:8080/",
          "height": 1000
        },
        "id": "s7YO8ht0O5pX",
        "outputId": "77091827-ca7d-4a5b-f17e-14ed77c91a23"
      },
      "execution_count": null,
      "outputs": [
        {
          "output_type": "stream",
          "name": "stderr",
          "text": [
            "/usr/local/lib/python3.7/dist-packages/keras/optimizer_v2/adam.py:105: UserWarning: The `lr` argument is deprecated, use `learning_rate` instead.\n",
            "  super(Adam, self).__init__(name, **kwargs)\n"
          ]
        },
        {
          "output_type": "stream",
          "name": "stdout",
          "text": [
            "Epoch 1/100\n",
            "45/45 [==============================] - 4s 23ms/step - loss: 0.5965 - accuracy: 0.6442 - val_loss: 0.5278 - val_accuracy: 0.6990\n",
            "Epoch 2/100\n",
            "45/45 [==============================] - 1s 11ms/step - loss: 0.5019 - accuracy: 0.7335 - val_loss: 0.4858 - val_accuracy: 0.7453\n",
            "Epoch 3/100\n",
            "45/45 [==============================] - 0s 9ms/step - loss: 0.4683 - accuracy: 0.7536 - val_loss: 0.4592 - val_accuracy: 0.7577\n",
            "Epoch 4/100\n",
            "45/45 [==============================] - 0s 9ms/step - loss: 0.4441 - accuracy: 0.7668 - val_loss: 0.4391 - val_accuracy: 0.7721\n",
            "Epoch 5/100\n",
            "45/45 [==============================] - 0s 8ms/step - loss: 0.4273 - accuracy: 0.7777 - val_loss: 0.4255 - val_accuracy: 0.7793\n",
            "Epoch 6/100\n",
            "45/45 [==============================] - 0s 8ms/step - loss: 0.4131 - accuracy: 0.7871 - val_loss: 0.4113 - val_accuracy: 0.7910\n",
            "Epoch 7/100\n",
            "45/45 [==============================] - 0s 7ms/step - loss: 0.4009 - accuracy: 0.7979 - val_loss: 0.3996 - val_accuracy: 0.8006\n",
            "Epoch 8/100\n",
            "45/45 [==============================] - 0s 8ms/step - loss: 0.3899 - accuracy: 0.8028 - val_loss: 0.3855 - val_accuracy: 0.8120\n",
            "Epoch 9/100\n",
            "45/45 [==============================] - 0s 9ms/step - loss: 0.3815 - accuracy: 0.8080 - val_loss: 0.3802 - val_accuracy: 0.8117\n",
            "Epoch 10/100\n",
            "45/45 [==============================] - 0s 7ms/step - loss: 0.3727 - accuracy: 0.8145 - val_loss: 0.3709 - val_accuracy: 0.8187\n",
            "Epoch 11/100\n",
            "45/45 [==============================] - 0s 8ms/step - loss: 0.3633 - accuracy: 0.8205 - val_loss: 0.3619 - val_accuracy: 0.8222\n",
            "Epoch 12/100\n",
            "45/45 [==============================] - 0s 9ms/step - loss: 0.3595 - accuracy: 0.8233 - val_loss: 0.3572 - val_accuracy: 0.8246\n",
            "Epoch 13/100\n",
            "45/45 [==============================] - 0s 8ms/step - loss: 0.3539 - accuracy: 0.8237 - val_loss: 0.3545 - val_accuracy: 0.8273\n",
            "Epoch 14/100\n",
            "45/45 [==============================] - 0s 8ms/step - loss: 0.3466 - accuracy: 0.8296 - val_loss: 0.3452 - val_accuracy: 0.8295\n",
            "Epoch 15/100\n",
            "45/45 [==============================] - 0s 7ms/step - loss: 0.3424 - accuracy: 0.8322 - val_loss: 0.3418 - val_accuracy: 0.8383\n",
            "Epoch 16/100\n",
            "45/45 [==============================] - 0s 5ms/step - loss: 0.3373 - accuracy: 0.8336 - val_loss: 0.3370 - val_accuracy: 0.8365\n",
            "Epoch 17/100\n",
            "45/45 [==============================] - 0s 4ms/step - loss: 0.3334 - accuracy: 0.8371 - val_loss: 0.3359 - val_accuracy: 0.8308\n",
            "Epoch 18/100\n",
            "45/45 [==============================] - 0s 5ms/step - loss: 0.3318 - accuracy: 0.8370 - val_loss: 0.3424 - val_accuracy: 0.8355\n",
            "Epoch 19/100\n",
            "45/45 [==============================] - 0s 5ms/step - loss: 0.3271 - accuracy: 0.8396 - val_loss: 0.3286 - val_accuracy: 0.8371\n",
            "Epoch 20/100\n",
            "45/45 [==============================] - 0s 5ms/step - loss: 0.3258 - accuracy: 0.8440 - val_loss: 0.3263 - val_accuracy: 0.8420\n",
            "Epoch 21/100\n",
            "45/45 [==============================] - 0s 5ms/step - loss: 0.3257 - accuracy: 0.8406 - val_loss: 0.3252 - val_accuracy: 0.8434\n",
            "Epoch 22/100\n",
            "45/45 [==============================] - 0s 5ms/step - loss: 0.3190 - accuracy: 0.8451 - val_loss: 0.3195 - val_accuracy: 0.8479\n",
            "Epoch 23/100\n",
            "45/45 [==============================] - 0s 5ms/step - loss: 0.3163 - accuracy: 0.8462 - val_loss: 0.3203 - val_accuracy: 0.8439\n",
            "Epoch 24/100\n",
            "45/45 [==============================] - 0s 5ms/step - loss: 0.3130 - accuracy: 0.8495 - val_loss: 0.3182 - val_accuracy: 0.8506\n",
            "Epoch 25/100\n",
            "45/45 [==============================] - 0s 5ms/step - loss: 0.3077 - accuracy: 0.8524 - val_loss: 0.3178 - val_accuracy: 0.8497\n",
            "Epoch 26/100\n",
            "45/45 [==============================] - 0s 6ms/step - loss: 0.3072 - accuracy: 0.8514 - val_loss: 0.3293 - val_accuracy: 0.8358\n",
            "Epoch 27/100\n",
            "45/45 [==============================] - 0s 5ms/step - loss: 0.3086 - accuracy: 0.8515 - val_loss: 0.3218 - val_accuracy: 0.8437\n",
            "Epoch 28/100\n",
            "45/45 [==============================] - 0s 5ms/step - loss: 0.3037 - accuracy: 0.8539 - val_loss: 0.3127 - val_accuracy: 0.8478\n",
            "Epoch 29/100\n",
            "45/45 [==============================] - 0s 5ms/step - loss: 0.3049 - accuracy: 0.8535 - val_loss: 0.3112 - val_accuracy: 0.8511\n",
            "Epoch 30/100\n",
            "45/45 [==============================] - 0s 5ms/step - loss: 0.3024 - accuracy: 0.8558 - val_loss: 0.3209 - val_accuracy: 0.8404\n",
            "Epoch 31/100\n",
            "45/45 [==============================] - 0s 6ms/step - loss: 0.2992 - accuracy: 0.8560 - val_loss: 0.3071 - val_accuracy: 0.8465\n",
            "Epoch 32/100\n",
            "45/45 [==============================] - 0s 5ms/step - loss: 0.2964 - accuracy: 0.8598 - val_loss: 0.3102 - val_accuracy: 0.8437\n",
            "Epoch 33/100\n",
            "45/45 [==============================] - 0s 5ms/step - loss: 0.2955 - accuracy: 0.8592 - val_loss: 0.3018 - val_accuracy: 0.8562\n",
            "Epoch 34/100\n",
            "45/45 [==============================] - 0s 6ms/step - loss: 0.2945 - accuracy: 0.8594 - val_loss: 0.3136 - val_accuracy: 0.8588\n",
            "Epoch 35/100\n",
            "45/45 [==============================] - 0s 6ms/step - loss: 0.3026 - accuracy: 0.8544 - val_loss: 0.3154 - val_accuracy: 0.8525\n",
            "Epoch 36/100\n",
            "45/45 [==============================] - 0s 5ms/step - loss: 0.2918 - accuracy: 0.8608 - val_loss: 0.3036 - val_accuracy: 0.8541\n",
            "Epoch 37/100\n",
            "45/45 [==============================] - 0s 5ms/step - loss: 0.2890 - accuracy: 0.8640 - val_loss: 0.2979 - val_accuracy: 0.8584\n",
            "Epoch 38/100\n",
            "45/45 [==============================] - 0s 5ms/step - loss: 0.2873 - accuracy: 0.8637 - val_loss: 0.3053 - val_accuracy: 0.8542\n",
            "Epoch 39/100\n",
            "45/45 [==============================] - 0s 5ms/step - loss: 0.2879 - accuracy: 0.8624 - val_loss: 0.2991 - val_accuracy: 0.8590\n",
            "Epoch 40/100\n",
            "45/45 [==============================] - 0s 4ms/step - loss: 0.2847 - accuracy: 0.8653 - val_loss: 0.2962 - val_accuracy: 0.8581\n",
            "Epoch 41/100\n",
            "45/45 [==============================] - 0s 5ms/step - loss: 0.2832 - accuracy: 0.8652 - val_loss: 0.2924 - val_accuracy: 0.8626\n",
            "Epoch 42/100\n",
            "45/45 [==============================] - 0s 4ms/step - loss: 0.2820 - accuracy: 0.8650 - val_loss: 0.2961 - val_accuracy: 0.8662\n",
            "Epoch 43/100\n",
            "45/45 [==============================] - 0s 5ms/step - loss: 0.2852 - accuracy: 0.8646 - val_loss: 0.2964 - val_accuracy: 0.8569\n",
            "Epoch 44/100\n",
            "45/45 [==============================] - 0s 5ms/step - loss: 0.2815 - accuracy: 0.8652 - val_loss: 0.2920 - val_accuracy: 0.8623\n",
            "Epoch 45/100\n",
            "45/45 [==============================] - 0s 5ms/step - loss: 0.2822 - accuracy: 0.8637 - val_loss: 0.2927 - val_accuracy: 0.8618\n",
            "Epoch 46/100\n",
            "45/45 [==============================] - 0s 6ms/step - loss: 0.2766 - accuracy: 0.8686 - val_loss: 0.2932 - val_accuracy: 0.8551\n",
            "Epoch 47/100\n",
            "45/45 [==============================] - 0s 5ms/step - loss: 0.2812 - accuracy: 0.8667 - val_loss: 0.2862 - val_accuracy: 0.8709\n",
            "Epoch 48/100\n",
            "45/45 [==============================] - 0s 6ms/step - loss: 0.2798 - accuracy: 0.8654 - val_loss: 0.2945 - val_accuracy: 0.8577\n",
            "Epoch 49/100\n",
            "45/45 [==============================] - 0s 5ms/step - loss: 0.2788 - accuracy: 0.8676 - val_loss: 0.2941 - val_accuracy: 0.8600\n",
            "Epoch 50/100\n",
            "45/45 [==============================] - 0s 5ms/step - loss: 0.2768 - accuracy: 0.8678 - val_loss: 0.2888 - val_accuracy: 0.8623\n",
            "Epoch 51/100\n",
            "45/45 [==============================] - 0s 4ms/step - loss: 0.2735 - accuracy: 0.8709 - val_loss: 0.2961 - val_accuracy: 0.8546\n",
            "Epoch 52/100\n",
            "45/45 [==============================] - 0s 5ms/step - loss: 0.2776 - accuracy: 0.8651 - val_loss: 0.2953 - val_accuracy: 0.8635\n",
            "Epoch 53/100\n",
            "45/45 [==============================] - 0s 5ms/step - loss: 0.2743 - accuracy: 0.8690 - val_loss: 0.2921 - val_accuracy: 0.8614\n",
            "Epoch 54/100\n",
            "45/45 [==============================] - 0s 4ms/step - loss: 0.2698 - accuracy: 0.8710 - val_loss: 0.2831 - val_accuracy: 0.8697\n",
            "Epoch 55/100\n",
            "45/45 [==============================] - 0s 5ms/step - loss: 0.2701 - accuracy: 0.8701 - val_loss: 0.2816 - val_accuracy: 0.8677\n",
            "Epoch 56/100\n",
            "45/45 [==============================] - 0s 4ms/step - loss: 0.2755 - accuracy: 0.8651 - val_loss: 0.2966 - val_accuracy: 0.8560\n",
            "Epoch 57/100\n",
            "45/45 [==============================] - 0s 5ms/step - loss: 0.2678 - accuracy: 0.8729 - val_loss: 0.2814 - val_accuracy: 0.8700\n",
            "Epoch 58/100\n",
            "45/45 [==============================] - 0s 4ms/step - loss: 0.2685 - accuracy: 0.8704 - val_loss: 0.2791 - val_accuracy: 0.8695\n",
            "Epoch 59/100\n",
            "45/45 [==============================] - 0s 5ms/step - loss: 0.2672 - accuracy: 0.8721 - val_loss: 0.2848 - val_accuracy: 0.8630\n",
            "Epoch 60/100\n",
            "45/45 [==============================] - 0s 5ms/step - loss: 0.2716 - accuracy: 0.8687 - val_loss: 0.2800 - val_accuracy: 0.8709\n",
            "Epoch 61/100\n",
            "45/45 [==============================] - 0s 4ms/step - loss: 0.2667 - accuracy: 0.8722 - val_loss: 0.2830 - val_accuracy: 0.8665\n",
            "Epoch 62/100\n",
            "45/45 [==============================] - 0s 4ms/step - loss: 0.2652 - accuracy: 0.8742 - val_loss: 0.2927 - val_accuracy: 0.8579\n",
            "Epoch 63/100\n",
            "45/45 [==============================] - 0s 4ms/step - loss: 0.2674 - accuracy: 0.8724 - val_loss: 0.2777 - val_accuracy: 0.8707\n",
            "Epoch 64/100\n",
            "45/45 [==============================] - 0s 4ms/step - loss: 0.2646 - accuracy: 0.8747 - val_loss: 0.2916 - val_accuracy: 0.8639\n",
            "Epoch 65/100\n",
            "45/45 [==============================] - 0s 5ms/step - loss: 0.2663 - accuracy: 0.8705 - val_loss: 0.2883 - val_accuracy: 0.8633\n",
            "Epoch 66/100\n",
            "45/45 [==============================] - 0s 4ms/step - loss: 0.2642 - accuracy: 0.8725 - val_loss: 0.2839 - val_accuracy: 0.8648\n",
            "Epoch 67/100\n",
            "45/45 [==============================] - 0s 5ms/step - loss: 0.2620 - accuracy: 0.8723 - val_loss: 0.2783 - val_accuracy: 0.8730\n",
            "Epoch 68/100\n",
            "45/45 [==============================] - 0s 5ms/step - loss: 0.2615 - accuracy: 0.8763 - val_loss: 0.2808 - val_accuracy: 0.8648\n",
            "Epoch 69/100\n",
            "45/45 [==============================] - 0s 5ms/step - loss: 0.2628 - accuracy: 0.8735 - val_loss: 0.2838 - val_accuracy: 0.8679\n",
            "Epoch 70/100\n",
            "45/45 [==============================] - 0s 4ms/step - loss: 0.2619 - accuracy: 0.8752 - val_loss: 0.2787 - val_accuracy: 0.8754\n",
            "Epoch 71/100\n",
            "45/45 [==============================] - 0s 5ms/step - loss: 0.2640 - accuracy: 0.8738 - val_loss: 0.2741 - val_accuracy: 0.8735\n",
            "Epoch 72/100\n",
            "45/45 [==============================] - 0s 4ms/step - loss: 0.2605 - accuracy: 0.8743 - val_loss: 0.2803 - val_accuracy: 0.8695\n",
            "Epoch 73/100\n",
            "45/45 [==============================] - 0s 4ms/step - loss: 0.2621 - accuracy: 0.8763 - val_loss: 0.2757 - val_accuracy: 0.8681\n",
            "Epoch 74/100\n",
            "45/45 [==============================] - 0s 5ms/step - loss: 0.2576 - accuracy: 0.8775 - val_loss: 0.2802 - val_accuracy: 0.8691\n",
            "Epoch 75/100\n",
            "45/45 [==============================] - 0s 6ms/step - loss: 0.2587 - accuracy: 0.8753 - val_loss: 0.2829 - val_accuracy: 0.8674\n",
            "Epoch 76/100\n",
            "45/45 [==============================] - 0s 5ms/step - loss: 0.2608 - accuracy: 0.8774 - val_loss: 0.2819 - val_accuracy: 0.8670\n",
            "Epoch 77/100\n",
            "45/45 [==============================] - 0s 5ms/step - loss: 0.2570 - accuracy: 0.8782 - val_loss: 0.2770 - val_accuracy: 0.8707\n",
            "Epoch 78/100\n",
            "45/45 [==============================] - 0s 5ms/step - loss: 0.2552 - accuracy: 0.8785 - val_loss: 0.2891 - val_accuracy: 0.8605\n",
            "Epoch 79/100\n",
            "45/45 [==============================] - 0s 5ms/step - loss: 0.2557 - accuracy: 0.8789 - val_loss: 0.2745 - val_accuracy: 0.8737\n",
            "Epoch 80/100\n",
            "45/45 [==============================] - 0s 5ms/step - loss: 0.2560 - accuracy: 0.8770 - val_loss: 0.2843 - val_accuracy: 0.8658\n",
            "Epoch 81/100\n",
            "45/45 [==============================] - 0s 5ms/step - loss: 0.2577 - accuracy: 0.8757 - val_loss: 0.2845 - val_accuracy: 0.8642\n",
            "Epoch 82/100\n",
            "45/45 [==============================] - 0s 5ms/step - loss: 0.2552 - accuracy: 0.8776 - val_loss: 0.2673 - val_accuracy: 0.8758\n",
            "Epoch 83/100\n",
            "45/45 [==============================] - 0s 6ms/step - loss: 0.2541 - accuracy: 0.8790 - val_loss: 0.2776 - val_accuracy: 0.8690\n",
            "Epoch 84/100\n",
            "45/45 [==============================] - 0s 5ms/step - loss: 0.2527 - accuracy: 0.8795 - val_loss: 0.2661 - val_accuracy: 0.8754\n",
            "Epoch 85/100\n",
            "45/45 [==============================] - 0s 4ms/step - loss: 0.2521 - accuracy: 0.8793 - val_loss: 0.2736 - val_accuracy: 0.8754\n",
            "Epoch 86/100\n",
            "45/45 [==============================] - 0s 4ms/step - loss: 0.2551 - accuracy: 0.8792 - val_loss: 0.2715 - val_accuracy: 0.8746\n",
            "Epoch 87/100\n",
            "45/45 [==============================] - 0s 5ms/step - loss: 0.2503 - accuracy: 0.8830 - val_loss: 0.2787 - val_accuracy: 0.8742\n",
            "Epoch 88/100\n",
            "45/45 [==============================] - 0s 5ms/step - loss: 0.2517 - accuracy: 0.8820 - val_loss: 0.2691 - val_accuracy: 0.8730\n",
            "Epoch 89/100\n",
            "45/45 [==============================] - 0s 4ms/step - loss: 0.2526 - accuracy: 0.8802 - val_loss: 0.2689 - val_accuracy: 0.8795\n",
            "Epoch 90/100\n",
            "45/45 [==============================] - 0s 5ms/step - loss: 0.2516 - accuracy: 0.8809 - val_loss: 0.2725 - val_accuracy: 0.8747\n",
            "Epoch 91/100\n",
            "45/45 [==============================] - 0s 4ms/step - loss: 0.2521 - accuracy: 0.8793 - val_loss: 0.2652 - val_accuracy: 0.8770\n",
            "Epoch 92/100\n",
            "45/45 [==============================] - 0s 5ms/step - loss: 0.2490 - accuracy: 0.8809 - val_loss: 0.2673 - val_accuracy: 0.8775\n",
            "Epoch 93/100\n",
            "45/45 [==============================] - 0s 5ms/step - loss: 0.2502 - accuracy: 0.8826 - val_loss: 0.2702 - val_accuracy: 0.8740\n",
            "Epoch 94/100\n",
            "45/45 [==============================] - 0s 5ms/step - loss: 0.2491 - accuracy: 0.8834 - val_loss: 0.2884 - val_accuracy: 0.8714\n",
            "Epoch 95/100\n",
            "45/45 [==============================] - 0s 5ms/step - loss: 0.2480 - accuracy: 0.8829 - val_loss: 0.2674 - val_accuracy: 0.8744\n",
            "Epoch 96/100\n",
            "45/45 [==============================] - 0s 6ms/step - loss: 0.2471 - accuracy: 0.8839 - val_loss: 0.2701 - val_accuracy: 0.8733\n",
            "Epoch 97/100\n",
            "45/45 [==============================] - 0s 5ms/step - loss: 0.2477 - accuracy: 0.8852 - val_loss: 0.2685 - val_accuracy: 0.8737\n",
            "Epoch 98/100\n",
            "45/45 [==============================] - 0s 6ms/step - loss: 0.2464 - accuracy: 0.8835 - val_loss: 0.2695 - val_accuracy: 0.8767\n",
            "Epoch 99/100\n",
            "45/45 [==============================] - 0s 6ms/step - loss: 0.2473 - accuracy: 0.8843 - val_loss: 0.2653 - val_accuracy: 0.8781\n",
            "Epoch 100/100\n",
            "45/45 [==============================] - 0s 4ms/step - loss: 0.2422 - accuracy: 0.8862 - val_loss: 0.2669 - val_accuracy: 0.8732\n",
            "179/179 [==============================] - 0s 2ms/step - loss: 0.2669 - accuracy: 0.8732\n",
            "[0.26686859130859375, 0.8731604814529419]\n",
            "[[2533  330]\n",
            " [ 394 2451]]\n",
            "Classification Report: \n",
            "               precision    recall  f1-score   support\n",
            "\n",
            "           0       0.87      0.88      0.87      2863\n",
            "           1       0.88      0.86      0.87      2845\n",
            "\n",
            "    accuracy                           0.87      5708\n",
            "   macro avg       0.87      0.87      0.87      5708\n",
            "weighted avg       0.87      0.87      0.87      5708\n",
            "\n",
            "Summary of the results after each epoch\n"
          ]
        },
        {
          "output_type": "display_data",
          "data": {
            "image/png": "[encoded data removed]",
            "text/plain": [
              "<Figure size 432x288 with 1 Axes>"
            ]
          },
          "metadata": {
            "needs_background": "light"
          }
        },
        {
          "output_type": "display_data",
          "data": {
            "image/png": "[encoded data removed]",
            "text/plain": [
              "<Figure size 432x288 with 1 Axes>"
            ]
          },
          "metadata": {
            "needs_background": "light"
          }
        },
        {
          "output_type": "display_data",
          "data": {
            "image/png": "[encoded data removed]",
            "text/plain": [
              "<Figure size 432x288 with 2 Axes>"
            ]
          },
          "metadata": {
            "needs_background": "light"
          }
        }
      ]
    },
    {
      "cell_type": "markdown",
      "source": [
        "**Univarint**"
      ],
      "metadata": {
        "id": "qrYB0safs1Tt"
      }
    },
    {
      "cell_type": "code",
      "source": [
        "from keras.layers import LSTM, SimpleRNN, GRU\n",
        "from keras.layers import Dense, Dropout, Activation, Embedding\n",
        "import tensorflow as tf\n",
        "from tensorflow.keras.optimizers import Adam\n",
        "#from keras.optimizers import SGD\n",
        "#opt = SGD(lr=0.0001)\n",
        "#batch_size = 64\n",
        "\n",
        "# 1. define the network\n",
        "\n",
        "model = tf.keras.models.Sequential([\n",
        "        tf.keras.layers.InputLayer(input_shape=(34,)),\n",
        "        tf.keras.layers.Dense(32, activation='relu'),\n",
        "        tf.keras.layers.Dense(64, activation='relu'),\n",
        "        tf.keras.layers.Dense(32, activation='relu'),\n",
        "        tf.keras.layers.Dense(2, activation='sigmoid')\n",
        "])\n",
        "#model = Sequential()\n",
        "#model.add(LSTM(64,input_dim=X_train.shape[0]))  \n",
        "#model.add(Dropout(0.1))\n",
        "#model.add(Dense(1))\n",
        "\n",
        "\n",
        "#model.add(Dense(2, activation='softmax'))\n",
        " \n",
        "model.compile(loss='categorical_crossentropy',optimizer=Adam(lr=0.001),metrics=['accuracy'])\n",
        "   \n",
        "history = model.fit(X_uni_train, y_uni_train, epochs=100,batch_size=512, validation_data=(X_uni_test, y_uni_test), verbose=1)#, class_weight=class_weights)\n",
        "    \n",
        "print(model.evaluate(X_uni_test, y_uni_test))\n",
        "    \n",
        "y_preds_dnn = model.predict(X_uni_test)\n",
        "y_test_class = np.argmax(y_uni_test, axis=1)\n",
        "y_pred_class = np.argmax(y_preds_dnn, axis=1)\n",
        "    \n",
        "\n",
        "print(confusion_matrix(y_test_class, y_pred_class))\n",
        "\n",
        "print(\"Classification Report: \\n\", classification_report(y_test_class, y_pred_class))\n",
        "\n",
        "print('Summary of the results after each epoch')\n",
        "hist = pd.DataFrame(history.history)\n",
        "hist['epoch'] = history.epoch\n",
        "hist.tail()\n",
        "\n",
        "\n",
        "from matplotlib import pyplot as plt\n",
        "plt.plot(history.history['accuracy'])\n",
        "from matplotlib import pyplot as plt\n",
        "plt.plot(history.history['val_accuracy'])\n",
        "plt.title('model accuracy')\n",
        "plt.ylabel('accuracy')\n",
        "plt.xlabel('epoch')\n",
        "plt.legend(['Train', 'Cross-Validation'], loc='lower right')\n",
        "plt.show()\n",
        "\n",
        "\n",
        "plt.plot(history.history['loss'])\n",
        "from matplotlib import pyplot as plt\n",
        "plt.plot(history.history['val_loss'])\n",
        "plt.title('model Loss')\n",
        "plt.ylabel('Loss')\n",
        "plt.xlabel('epoch')\n",
        "plt.legend(['Train', 'Cross-Validation'], loc='upper right')\n",
        "plt.show()\n",
        "\n",
        "ax = plt.subplot()\n",
        "predict_results = model.predict(X_uni_test)\n",
        "predict_results = predict_results.argmax(axis = 1)\n",
        "cm = confusion_matrix(y_test_class, predict_results)\n",
        "\n",
        "sns.heatmap(cm, annot = True, ax =ax, fmt='g'); # cmap= \"YlGnBu\"\n",
        "ax.set_xlabel('Predicted Labels'); ax.set_ylabel('True Labels');\n",
        "ax.set_title('Confusion Matrix');"
      ],
      "metadata": {
        "colab": {
          "base_uri": "https://localhost:8080/",
          "height": 1000
        },
        "id": "sF6RWrbItsZ-",
        "outputId": "d3ae030f-42bc-46ef-d91e-ab9832b5407d"
      },
      "execution_count": null,
      "outputs": [
        {
          "output_type": "stream",
          "name": "stderr",
          "text": [
            "/usr/local/lib/python3.7/dist-packages/keras/optimizer_v2/adam.py:105: UserWarning: The `lr` argument is deprecated, use `learning_rate` instead.\n",
            "  super(Adam, self).__init__(name, **kwargs)\n"
          ]
        },
        {
          "output_type": "stream",
          "name": "stdout",
          "text": [
            "Epoch 1/100\n",
            "45/45 [==============================] - 2s 17ms/step - loss: 0.5738 - accuracy: 0.6803 - val_loss: 0.5243 - val_accuracy: 0.7050\n",
            "Epoch 2/100\n",
            "45/45 [==============================] - 0s 7ms/step - loss: 0.5004 - accuracy: 0.7228 - val_loss: 0.4751 - val_accuracy: 0.7495\n",
            "Epoch 3/100\n",
            "45/45 [==============================] - 0s 8ms/step - loss: 0.4512 - accuracy: 0.7668 - val_loss: 0.4292 - val_accuracy: 0.7756\n",
            "Epoch 4/100\n",
            "45/45 [==============================] - 0s 8ms/step - loss: 0.4114 - accuracy: 0.7918 - val_loss: 0.3973 - val_accuracy: 0.8010\n",
            "Epoch 5/100\n",
            "45/45 [==============================] - 0s 7ms/step - loss: 0.3879 - accuracy: 0.8102 - val_loss: 0.3789 - val_accuracy: 0.8103\n",
            "Epoch 6/100\n",
            "45/45 [==============================] - 0s 8ms/step - loss: 0.3731 - accuracy: 0.8214 - val_loss: 0.3653 - val_accuracy: 0.8234\n",
            "Epoch 7/100\n",
            "45/45 [==============================] - 0s 8ms/step - loss: 0.3591 - accuracy: 0.8320 - val_loss: 0.3497 - val_accuracy: 0.8336\n",
            "Epoch 8/100\n",
            "45/45 [==============================] - 0s 7ms/step - loss: 0.3486 - accuracy: 0.8401 - val_loss: 0.3384 - val_accuracy: 0.8434\n",
            "Epoch 9/100\n",
            "45/45 [==============================] - 0s 8ms/step - loss: 0.3361 - accuracy: 0.8474 - val_loss: 0.3311 - val_accuracy: 0.8455\n",
            "Epoch 10/100\n",
            "45/45 [==============================] - 0s 7ms/step - loss: 0.3274 - accuracy: 0.8525 - val_loss: 0.3214 - val_accuracy: 0.8555\n",
            "Epoch 11/100\n",
            "45/45 [==============================] - 0s 7ms/step - loss: 0.3166 - accuracy: 0.8587 - val_loss: 0.3130 - val_accuracy: 0.8588\n",
            "Epoch 12/100\n",
            "45/45 [==============================] - 0s 8ms/step - loss: 0.3074 - accuracy: 0.8649 - val_loss: 0.3033 - val_accuracy: 0.8644\n",
            "Epoch 13/100\n",
            "45/45 [==============================] - 0s 7ms/step - loss: 0.3001 - accuracy: 0.8676 - val_loss: 0.3005 - val_accuracy: 0.8660\n",
            "Epoch 14/100\n",
            "45/45 [==============================] - 0s 6ms/step - loss: 0.2971 - accuracy: 0.8680 - val_loss: 0.2916 - val_accuracy: 0.8707\n",
            "Epoch 15/100\n",
            "45/45 [==============================] - 0s 4ms/step - loss: 0.2870 - accuracy: 0.8760 - val_loss: 0.2859 - val_accuracy: 0.8756\n",
            "Epoch 16/100\n",
            "45/45 [==============================] - 0s 5ms/step - loss: 0.2797 - accuracy: 0.8805 - val_loss: 0.2807 - val_accuracy: 0.8788\n",
            "Epoch 17/100\n",
            "45/45 [==============================] - 0s 4ms/step - loss: 0.2768 - accuracy: 0.8818 - val_loss: 0.2756 - val_accuracy: 0.8800\n",
            "Epoch 18/100\n",
            "45/45 [==============================] - 0s 4ms/step - loss: 0.2731 - accuracy: 0.8839 - val_loss: 0.2765 - val_accuracy: 0.8807\n",
            "Epoch 19/100\n",
            "45/45 [==============================] - 0s 5ms/step - loss: 0.2663 - accuracy: 0.8875 - val_loss: 0.2713 - val_accuracy: 0.8863\n",
            "Epoch 20/100\n",
            "45/45 [==============================] - 0s 4ms/step - loss: 0.2633 - accuracy: 0.8875 - val_loss: 0.2656 - val_accuracy: 0.8868\n",
            "Epoch 21/100\n",
            "45/45 [==============================] - 0s 5ms/step - loss: 0.2575 - accuracy: 0.8905 - val_loss: 0.2594 - val_accuracy: 0.8863\n",
            "Epoch 22/100\n",
            "45/45 [==============================] - 0s 4ms/step - loss: 0.2546 - accuracy: 0.8915 - val_loss: 0.2570 - val_accuracy: 0.8884\n",
            "Epoch 23/100\n",
            "45/45 [==============================] - 0s 4ms/step - loss: 0.2505 - accuracy: 0.8921 - val_loss: 0.2591 - val_accuracy: 0.8828\n",
            "Epoch 24/100\n",
            "45/45 [==============================] - 0s 4ms/step - loss: 0.2482 - accuracy: 0.8950 - val_loss: 0.2546 - val_accuracy: 0.8884\n",
            "Epoch 25/100\n",
            "45/45 [==============================] - 0s 4ms/step - loss: 0.2446 - accuracy: 0.8963 - val_loss: 0.2545 - val_accuracy: 0.8881\n",
            "Epoch 26/100\n",
            "45/45 [==============================] - 0s 4ms/step - loss: 0.2428 - accuracy: 0.8960 - val_loss: 0.2474 - val_accuracy: 0.8926\n",
            "Epoch 27/100\n",
            "45/45 [==============================] - 0s 4ms/step - loss: 0.2398 - accuracy: 0.8978 - val_loss: 0.2458 - val_accuracy: 0.8928\n",
            "Epoch 28/100\n",
            "45/45 [==============================] - 0s 4ms/step - loss: 0.2364 - accuracy: 0.8991 - val_loss: 0.2481 - val_accuracy: 0.8932\n",
            "Epoch 29/100\n",
            "45/45 [==============================] - 0s 4ms/step - loss: 0.2339 - accuracy: 0.9013 - val_loss: 0.2448 - val_accuracy: 0.8933\n",
            "Epoch 30/100\n",
            "45/45 [==============================] - 0s 4ms/step - loss: 0.2349 - accuracy: 0.8987 - val_loss: 0.2412 - val_accuracy: 0.8965\n",
            "Epoch 31/100\n",
            "45/45 [==============================] - 0s 4ms/step - loss: 0.2325 - accuracy: 0.8995 - val_loss: 0.2374 - val_accuracy: 0.9016\n",
            "Epoch 32/100\n",
            "45/45 [==============================] - 0s 5ms/step - loss: 0.2265 - accuracy: 0.9032 - val_loss: 0.2391 - val_accuracy: 0.8958\n",
            "Epoch 33/100\n",
            "45/45 [==============================] - 0s 4ms/step - loss: 0.2260 - accuracy: 0.9039 - val_loss: 0.2407 - val_accuracy: 0.8970\n",
            "Epoch 34/100\n",
            "45/45 [==============================] - 0s 4ms/step - loss: 0.2303 - accuracy: 0.9012 - val_loss: 0.2353 - val_accuracy: 0.8975\n",
            "Epoch 35/100\n",
            "45/45 [==============================] - 0s 4ms/step - loss: 0.2255 - accuracy: 0.9048 - val_loss: 0.2355 - val_accuracy: 0.8977\n",
            "Epoch 36/100\n",
            "45/45 [==============================] - 0s 4ms/step - loss: 0.2202 - accuracy: 0.9054 - val_loss: 0.2347 - val_accuracy: 0.9030\n",
            "Epoch 37/100\n",
            "45/45 [==============================] - 0s 5ms/step - loss: 0.2207 - accuracy: 0.9056 - val_loss: 0.2409 - val_accuracy: 0.8956\n",
            "Epoch 38/100\n",
            "45/45 [==============================] - 0s 4ms/step - loss: 0.2192 - accuracy: 0.9067 - val_loss: 0.2325 - val_accuracy: 0.9014\n",
            "Epoch 39/100\n",
            "45/45 [==============================] - 0s 4ms/step - loss: 0.2178 - accuracy: 0.9059 - val_loss: 0.2267 - val_accuracy: 0.9033\n",
            "Epoch 40/100\n",
            "45/45 [==============================] - 0s 4ms/step - loss: 0.2181 - accuracy: 0.9070 - val_loss: 0.2330 - val_accuracy: 0.9024\n",
            "Epoch 41/100\n",
            "45/45 [==============================] - 0s 4ms/step - loss: 0.2169 - accuracy: 0.9067 - val_loss: 0.2273 - val_accuracy: 0.9042\n",
            "Epoch 42/100\n",
            "45/45 [==============================] - 0s 5ms/step - loss: 0.2123 - accuracy: 0.9102 - val_loss: 0.2283 - val_accuracy: 0.9042\n",
            "Epoch 43/100\n",
            "45/45 [==============================] - 0s 4ms/step - loss: 0.2096 - accuracy: 0.9111 - val_loss: 0.2293 - val_accuracy: 0.9003\n",
            "Epoch 44/100\n",
            "45/45 [==============================] - 0s 4ms/step - loss: 0.2134 - accuracy: 0.9086 - val_loss: 0.2210 - val_accuracy: 0.9075\n",
            "Epoch 45/100\n",
            "45/45 [==============================] - 0s 4ms/step - loss: 0.2136 - accuracy: 0.9093 - val_loss: 0.2214 - val_accuracy: 0.9075\n",
            "Epoch 46/100\n",
            "45/45 [==============================] - 0s 5ms/step - loss: 0.2081 - accuracy: 0.9124 - val_loss: 0.2234 - val_accuracy: 0.9047\n",
            "Epoch 47/100\n",
            "45/45 [==============================] - 0s 5ms/step - loss: 0.2049 - accuracy: 0.9131 - val_loss: 0.2289 - val_accuracy: 0.9019\n",
            "Epoch 48/100\n",
            "45/45 [==============================] - 0s 4ms/step - loss: 0.2080 - accuracy: 0.9103 - val_loss: 0.2176 - val_accuracy: 0.9047\n",
            "Epoch 49/100\n",
            "45/45 [==============================] - 0s 4ms/step - loss: 0.2079 - accuracy: 0.9114 - val_loss: 0.2201 - val_accuracy: 0.9065\n",
            "Epoch 50/100\n",
            "45/45 [==============================] - 0s 4ms/step - loss: 0.2037 - accuracy: 0.9153 - val_loss: 0.2151 - val_accuracy: 0.9077\n",
            "Epoch 51/100\n",
            "45/45 [==============================] - 0s 4ms/step - loss: 0.2021 - accuracy: 0.9156 - val_loss: 0.2171 - val_accuracy: 0.9061\n",
            "Epoch 52/100\n",
            "45/45 [==============================] - 0s 5ms/step - loss: 0.2046 - accuracy: 0.9134 - val_loss: 0.2164 - val_accuracy: 0.9087\n",
            "Epoch 53/100\n",
            "45/45 [==============================] - 0s 4ms/step - loss: 0.2045 - accuracy: 0.9134 - val_loss: 0.2184 - val_accuracy: 0.9091\n",
            "Epoch 54/100\n",
            "45/45 [==============================] - 0s 4ms/step - loss: 0.1989 - accuracy: 0.9160 - val_loss: 0.2176 - val_accuracy: 0.9052\n",
            "Epoch 55/100\n",
            "45/45 [==============================] - 0s 4ms/step - loss: 0.2024 - accuracy: 0.9136 - val_loss: 0.2119 - val_accuracy: 0.9070\n",
            "Epoch 56/100\n",
            "45/45 [==============================] - 0s 4ms/step - loss: 0.1964 - accuracy: 0.9168 - val_loss: 0.2154 - val_accuracy: 0.9096\n",
            "Epoch 57/100\n",
            "45/45 [==============================] - 0s 5ms/step - loss: 0.1970 - accuracy: 0.9174 - val_loss: 0.2210 - val_accuracy: 0.9047\n",
            "Epoch 58/100\n",
            "45/45 [==============================] - 0s 4ms/step - loss: 0.2047 - accuracy: 0.9130 - val_loss: 0.2110 - val_accuracy: 0.9110\n",
            "Epoch 59/100\n",
            "45/45 [==============================] - 0s 4ms/step - loss: 0.2003 - accuracy: 0.9146 - val_loss: 0.2260 - val_accuracy: 0.9023\n",
            "Epoch 60/100\n",
            "45/45 [==============================] - 0s 4ms/step - loss: 0.2008 - accuracy: 0.9144 - val_loss: 0.2105 - val_accuracy: 0.9117\n",
            "Epoch 61/100\n",
            "45/45 [==============================] - 0s 4ms/step - loss: 0.1919 - accuracy: 0.9186 - val_loss: 0.2140 - val_accuracy: 0.9072\n",
            "Epoch 62/100\n",
            "45/45 [==============================] - 0s 5ms/step - loss: 0.1938 - accuracy: 0.9180 - val_loss: 0.2103 - val_accuracy: 0.9098\n",
            "Epoch 63/100\n",
            "45/45 [==============================] - 0s 4ms/step - loss: 0.1935 - accuracy: 0.9170 - val_loss: 0.2093 - val_accuracy: 0.9098\n",
            "Epoch 64/100\n",
            "45/45 [==============================] - 0s 4ms/step - loss: 0.1928 - accuracy: 0.9192 - val_loss: 0.2036 - val_accuracy: 0.9129\n",
            "Epoch 65/100\n",
            "45/45 [==============================] - 0s 4ms/step - loss: 0.1890 - accuracy: 0.9193 - val_loss: 0.2094 - val_accuracy: 0.9101\n",
            "Epoch 66/100\n",
            "45/45 [==============================] - 0s 4ms/step - loss: 0.1911 - accuracy: 0.9195 - val_loss: 0.2070 - val_accuracy: 0.9124\n",
            "Epoch 67/100\n",
            "45/45 [==============================] - 0s 4ms/step - loss: 0.1904 - accuracy: 0.9196 - val_loss: 0.2052 - val_accuracy: 0.9147\n",
            "Epoch 68/100\n",
            "45/45 [==============================] - 0s 5ms/step - loss: 0.1859 - accuracy: 0.9208 - val_loss: 0.2085 - val_accuracy: 0.9108\n",
            "Epoch 69/100\n",
            "45/45 [==============================] - 0s 4ms/step - loss: 0.1856 - accuracy: 0.9202 - val_loss: 0.2082 - val_accuracy: 0.9112\n",
            "Epoch 70/100\n",
            "45/45 [==============================] - 0s 5ms/step - loss: 0.1863 - accuracy: 0.9219 - val_loss: 0.2069 - val_accuracy: 0.9110\n",
            "Epoch 71/100\n",
            "45/45 [==============================] - 0s 4ms/step - loss: 0.1859 - accuracy: 0.9210 - val_loss: 0.2041 - val_accuracy: 0.9145\n",
            "Epoch 72/100\n",
            "45/45 [==============================] - 0s 4ms/step - loss: 0.1831 - accuracy: 0.9208 - val_loss: 0.2011 - val_accuracy: 0.9156\n",
            "Epoch 73/100\n",
            "45/45 [==============================] - 0s 5ms/step - loss: 0.1850 - accuracy: 0.9214 - val_loss: 0.1985 - val_accuracy: 0.9147\n",
            "Epoch 74/100\n",
            "45/45 [==============================] - 0s 4ms/step - loss: 0.1831 - accuracy: 0.9214 - val_loss: 0.2072 - val_accuracy: 0.9114\n",
            "Epoch 75/100\n",
            "45/45 [==============================] - 0s 4ms/step - loss: 0.1870 - accuracy: 0.9204 - val_loss: 0.2021 - val_accuracy: 0.9126\n",
            "Epoch 76/100\n",
            "45/45 [==============================] - 0s 4ms/step - loss: 0.1837 - accuracy: 0.9228 - val_loss: 0.2082 - val_accuracy: 0.9150\n",
            "Epoch 77/100\n",
            "45/45 [==============================] - 0s 4ms/step - loss: 0.1891 - accuracy: 0.9188 - val_loss: 0.2169 - val_accuracy: 0.9019\n",
            "Epoch 78/100\n",
            "45/45 [==============================] - 0s 5ms/step - loss: 0.1855 - accuracy: 0.9218 - val_loss: 0.2026 - val_accuracy: 0.9140\n",
            "Epoch 79/100\n",
            "45/45 [==============================] - 0s 5ms/step - loss: 0.1818 - accuracy: 0.9235 - val_loss: 0.2028 - val_accuracy: 0.9136\n",
            "Epoch 80/100\n",
            "45/45 [==============================] - 0s 4ms/step - loss: 0.1835 - accuracy: 0.9223 - val_loss: 0.2013 - val_accuracy: 0.9108\n",
            "Epoch 81/100\n",
            "45/45 [==============================] - 0s 5ms/step - loss: 0.1798 - accuracy: 0.9240 - val_loss: 0.2053 - val_accuracy: 0.9145\n",
            "Epoch 82/100\n",
            "45/45 [==============================] - 0s 5ms/step - loss: 0.1802 - accuracy: 0.9230 - val_loss: 0.2011 - val_accuracy: 0.9133\n",
            "Epoch 83/100\n",
            "45/45 [==============================] - 0s 5ms/step - loss: 0.1814 - accuracy: 0.9223 - val_loss: 0.2036 - val_accuracy: 0.9136\n",
            "Epoch 84/100\n",
            "45/45 [==============================] - 0s 4ms/step - loss: 0.1835 - accuracy: 0.9225 - val_loss: 0.1994 - val_accuracy: 0.9149\n",
            "Epoch 85/100\n",
            "45/45 [==============================] - 0s 5ms/step - loss: 0.1783 - accuracy: 0.9231 - val_loss: 0.1970 - val_accuracy: 0.9173\n",
            "Epoch 86/100\n",
            "45/45 [==============================] - 0s 5ms/step - loss: 0.1776 - accuracy: 0.9246 - val_loss: 0.1955 - val_accuracy: 0.9178\n",
            "Epoch 87/100\n",
            "45/45 [==============================] - 0s 4ms/step - loss: 0.1768 - accuracy: 0.9242 - val_loss: 0.1969 - val_accuracy: 0.9161\n",
            "Epoch 88/100\n",
            "45/45 [==============================] - 0s 5ms/step - loss: 0.1758 - accuracy: 0.9259 - val_loss: 0.1977 - val_accuracy: 0.9177\n",
            "Epoch 89/100\n",
            "45/45 [==============================] - 0s 5ms/step - loss: 0.1759 - accuracy: 0.9241 - val_loss: 0.1945 - val_accuracy: 0.9182\n",
            "Epoch 90/100\n",
            "45/45 [==============================] - 0s 4ms/step - loss: 0.1772 - accuracy: 0.9241 - val_loss: 0.2078 - val_accuracy: 0.9122\n",
            "Epoch 91/100\n",
            "45/45 [==============================] - 0s 4ms/step - loss: 0.1822 - accuracy: 0.9220 - val_loss: 0.1995 - val_accuracy: 0.9164\n",
            "Epoch 92/100\n",
            "45/45 [==============================] - 0s 4ms/step - loss: 0.1757 - accuracy: 0.9258 - val_loss: 0.1998 - val_accuracy: 0.9126\n",
            "Epoch 93/100\n",
            "45/45 [==============================] - 0s 5ms/step - loss: 0.1740 - accuracy: 0.9253 - val_loss: 0.1977 - val_accuracy: 0.9161\n",
            "Epoch 94/100\n",
            "45/45 [==============================] - 0s 5ms/step - loss: 0.1744 - accuracy: 0.9265 - val_loss: 0.1985 - val_accuracy: 0.9142\n",
            "Epoch 95/100\n",
            "45/45 [==============================] - 0s 5ms/step - loss: 0.1752 - accuracy: 0.9263 - val_loss: 0.1934 - val_accuracy: 0.9185\n",
            "Epoch 96/100\n",
            "45/45 [==============================] - 0s 5ms/step - loss: 0.1735 - accuracy: 0.9280 - val_loss: 0.1987 - val_accuracy: 0.9142\n",
            "Epoch 97/100\n",
            "45/45 [==============================] - 0s 4ms/step - loss: 0.1723 - accuracy: 0.9275 - val_loss: 0.1971 - val_accuracy: 0.9173\n",
            "Epoch 98/100\n",
            "45/45 [==============================] - 0s 5ms/step - loss: 0.1714 - accuracy: 0.9270 - val_loss: 0.1954 - val_accuracy: 0.9173\n",
            "Epoch 99/100\n",
            "45/45 [==============================] - 0s 5ms/step - loss: 0.1706 - accuracy: 0.9275 - val_loss: 0.1940 - val_accuracy: 0.9185\n",
            "Epoch 100/100\n",
            "45/45 [==============================] - 0s 4ms/step - loss: 0.1739 - accuracy: 0.9263 - val_loss: 0.1897 - val_accuracy: 0.9187\n",
            "179/179 [==============================] - 0s 2ms/step - loss: 0.1897 - accuracy: 0.9187\n",
            "[0.18968892097473145, 0.9187248349189758]\n",
            "[[2659  160]\n",
            " [ 304 2586]]\n",
            "Classification Report: \n",
            "               precision    recall  f1-score   support\n",
            "\n",
            "           0       0.90      0.94      0.92      2819\n",
            "           1       0.94      0.89      0.92      2890\n",
            "\n",
            "    accuracy                           0.92      5709\n",
            "   macro avg       0.92      0.92      0.92      5709\n",
            "weighted avg       0.92      0.92      0.92      5709\n",
            "\n",
            "Summary of the results after each epoch\n"
          ]
        },
        {
          "output_type": "display_data",
          "data": {
            "image/png": "[encoded data removed]",
            "text/plain": [
              "<Figure size 432x288 with 1 Axes>"
            ]
          },
          "metadata": {
            "needs_background": "light"
          }
        },
        {
          "output_type": "display_data",
          "data": {
            "image/png": "[encoded data removed]",
            "text/plain": [
              "<Figure size 432x288 with 1 Axes>"
            ]
          },
          "metadata": {
            "needs_background": "light"
          }
        },
        {
          "output_type": "display_data",
          "data": {
            "image/png": "[encoded data removed]",
            "text/plain": [
              "<Figure size 432x288 with 2 Axes>"
            ]
          },
          "metadata": {
            "needs_background": "light"
          }
        }
      ]
    },
    {
      "cell_type": "markdown",
      "source": [
        "# 7- Federated Learning Approach"
      ],
      "metadata": {
        "id": "RiJwr8Ixp3es"
      }
    },
    {
      "cell_type": "code",
      "source": [
        "!pip list -v | grep tensorflow"
      ],
      "metadata": {
        "id": "PcWfShkzLAcu",
        "outputId": "080d079f-9583-43bf-d4f7-df7a46c4a96a",
        "colab": {
          "base_uri": "https://localhost:8080/"
        }
      },
      "execution_count": null,
      "outputs": [
        {
          "output_type": "stream",
          "name": "stdout",
          "text": [
            "tensorflow                    2.7.0          /usr/local/lib/python3.7/dist-packages pip\n",
            "tensorflow-datasets           4.0.1          /usr/local/lib/python3.7/dist-packages pip\n",
            "tensorflow-estimator          2.7.0          /usr/local/lib/python3.7/dist-packages pip\n",
            "tensorflow-gcs-config         2.7.0          /usr/local/lib/python3.7/dist-packages pip\n",
            "tensorflow-hub                0.12.0         /usr/local/lib/python3.7/dist-packages pip\n",
            "tensorflow-io-gcs-filesystem  0.23.1         /usr/local/lib/python3.7/dist-packages pip\n",
            "tensorflow-metadata           1.5.0          /usr/local/lib/python3.7/dist-packages pip\n",
            "tensorflow-probability        0.15.0         /usr/local/lib/python3.7/dist-packages pip\n"
          ]
        }
      ]
    },
    {
      "cell_type": "code",
      "source": [
        "%%shell\n",
        "pip install sklearn\n",
        "pip install pandas\n",
        "pip install matplotlib\n",
        "pip install tensorflow\n",
        "\n",
        "pip uninstall --yes tensorboard tb-nightly\n",
        "\n",
        "pip install --quiet --upgrade tensorflow-federated\n",
        "pip install --quiet --upgrade nest-asyncio\n",
        "pip install --quiet --upgrade tensorboard"
      ],
      "metadata": {
        "colab": {
          "base_uri": "https://localhost:8080/"
        },
        "id": "otqMJR-WQeY1",
        "outputId": "15b8d817-d2ea-41e6-ed6d-1c791ba3e969"
      },
      "execution_count": null,
      "outputs": [
        {
          "output_type": "stream",
          "name": "stdout",
          "text": [
            "Requirement already satisfied: sklearn in /usr/local/lib/python3.7/dist-packages (0.0)\n",
            "Requirement already satisfied: scikit-learn in /usr/local/lib/python3.7/dist-packages (from sklearn) (1.0.2)\n",
            "Requirement already satisfied: joblib>=0.11 in /usr/local/lib/python3.7/dist-packages (from scikit-learn->sklearn) (1.1.0)\n",
            "Requirement already satisfied: threadpoolctl>=2.0.0 in /usr/local/lib/python3.7/dist-packages (from scikit-learn->sklearn) (3.0.0)\n",
            "Requirement already satisfied: scipy>=1.1.0 in /usr/local/lib/python3.7/dist-packages (from scikit-learn->sklearn) (1.4.1)\n",
            "Requirement already satisfied: numpy>=1.14.6 in /usr/local/lib/python3.7/dist-packages (from scikit-learn->sklearn) (1.19.5)\n",
            "Requirement already satisfied: pandas in /usr/local/lib/python3.7/dist-packages (1.1.5)\n",
            "Requirement already satisfied: pytz>=2017.2 in /usr/local/lib/python3.7/dist-packages (from pandas) (2018.9)\n",
            "Requirement already satisfied: python-dateutil>=2.7.3 in /usr/local/lib/python3.7/dist-packages (from pandas) (2.8.2)\n",
            "Requirement already satisfied: numpy>=1.15.4 in /usr/local/lib/python3.7/dist-packages (from pandas) (1.19.5)\n",
            "Requirement already satisfied: six>=1.5 in /usr/local/lib/python3.7/dist-packages (from python-dateutil>=2.7.3->pandas) (1.15.0)\n",
            "Requirement already satisfied: matplotlib in /usr/local/lib/python3.7/dist-packages (3.2.2)\n",
            "Requirement already satisfied: python-dateutil>=2.1 in /usr/local/lib/python3.7/dist-packages (from matplotlib) (2.8.2)\n",
            "Requirement already satisfied: kiwisolver>=1.0.1 in /usr/local/lib/python3.7/dist-packages (from matplotlib) (1.3.2)\n",
            "Requirement already satisfied: pyparsing!=2.0.4,!=2.1.2,!=2.1.6,>=2.0.1 in /usr/local/lib/python3.7/dist-packages (from matplotlib) (3.0.6)\n",
            "Requirement already satisfied: cycler>=0.10 in /usr/local/lib/python3.7/dist-packages (from matplotlib) (0.11.0)\n",
            "Requirement already satisfied: numpy>=1.11 in /usr/local/lib/python3.7/dist-packages (from matplotlib) (1.19.5)\n",
            "Requirement already satisfied: six>=1.5 in /usr/local/lib/python3.7/dist-packages (from python-dateutil>=2.1->matplotlib) (1.15.0)\n",
            "Requirement already satisfied: tensorflow in /usr/local/lib/python3.7/dist-packages (2.7.0)\n",
            "Requirement already satisfied: h5py>=2.9.0 in /usr/local/lib/python3.7/dist-packages (from tensorflow) (3.1.0)\n",
            "Requirement already satisfied: opt-einsum>=2.3.2 in /usr/local/lib/python3.7/dist-packages (from tensorflow) (3.3.0)\n",
            "Requirement already satisfied: termcolor>=1.1.0 in /usr/local/lib/python3.7/dist-packages (from tensorflow) (1.1.0)\n",
            "Requirement already satisfied: tensorflow-io-gcs-filesystem>=0.21.0 in /usr/local/lib/python3.7/dist-packages (from tensorflow) (0.23.1)\n",
            "Requirement already satisfied: wheel<1.0,>=0.32.0 in /usr/local/lib/python3.7/dist-packages (from tensorflow) (0.37.1)\n",
            "Requirement already satisfied: numpy>=1.14.5 in /usr/local/lib/python3.7/dist-packages (from tensorflow) (1.19.5)\n",
            "Requirement already satisfied: google-pasta>=0.1.1 in /usr/local/lib/python3.7/dist-packages (from tensorflow) (0.2.0)\n",
            "Requirement already satisfied: wrapt>=1.11.0 in /usr/local/lib/python3.7/dist-packages (from tensorflow) (1.13.3)\n",
            "Requirement already satisfied: grpcio<2.0,>=1.24.3 in /usr/local/lib/python3.7/dist-packages (from tensorflow) (1.43.0)\n",
            "Requirement already satisfied: six>=1.12.0 in /usr/local/lib/python3.7/dist-packages (from tensorflow) (1.15.0)\n",
            "Requirement already satisfied: tensorboard~=2.6 in /usr/local/lib/python3.7/dist-packages (from tensorflow) (2.7.0)\n",
            "Requirement already satisfied: flatbuffers<3.0,>=1.12 in /usr/local/lib/python3.7/dist-packages (from tensorflow) (2.0)\n",
            "Requirement already satisfied: libclang>=9.0.1 in /usr/local/lib/python3.7/dist-packages (from tensorflow) (12.0.0)\n",
            "Requirement already satisfied: absl-py>=0.4.0 in /usr/local/lib/python3.7/dist-packages (from tensorflow) (0.12.0)\n",
            "Requirement already satisfied: astunparse>=1.6.0 in /usr/local/lib/python3.7/dist-packages (from tensorflow) (1.6.3)\n",
            "Requirement already satisfied: protobuf>=3.9.2 in /usr/local/lib/python3.7/dist-packages (from tensorflow) (3.17.3)\n",
            "Requirement already satisfied: keras<2.8,>=2.7.0rc0 in /usr/local/lib/python3.7/dist-packages (from tensorflow) (2.7.0)\n",
            "Requirement already satisfied: keras-preprocessing>=1.1.1 in /usr/local/lib/python3.7/dist-packages (from tensorflow) (1.1.2)\n",
            "Requirement already satisfied: typing-extensions>=3.6.6 in /usr/local/lib/python3.7/dist-packages (from tensorflow) (3.10.0.2)\n",
            "Requirement already satisfied: tensorflow-estimator<2.8,~=2.7.0rc0 in /usr/local/lib/python3.7/dist-packages (from tensorflow) (2.7.0)\n",
            "Requirement already satisfied: gast<0.5.0,>=0.2.1 in /usr/local/lib/python3.7/dist-packages (from tensorflow) (0.4.0)\n",
            "Requirement already satisfied: cached-property in /usr/local/lib/python3.7/dist-packages (from h5py>=2.9.0->tensorflow) (1.5.2)\n",
            "Requirement already satisfied: tensorboard-plugin-wit>=1.6.0 in /usr/local/lib/python3.7/dist-packages (from tensorboard~=2.6->tensorflow) (1.8.1)\n",
            "Requirement already satisfied: setuptools>=41.0.0 in /usr/local/lib/python3.7/dist-packages (from tensorboard~=2.6->tensorflow) (57.4.0)\n",
            "Requirement already satisfied: tensorboard-data-server<0.7.0,>=0.6.0 in /usr/local/lib/python3.7/dist-packages (from tensorboard~=2.6->tensorflow) (0.6.1)\n",
            "Requirement already satisfied: werkzeug>=0.11.15 in /usr/local/lib/python3.7/dist-packages (from tensorboard~=2.6->tensorflow) (1.0.1)\n",
            "Requirement already satisfied: google-auth<3,>=1.6.3 in /usr/local/lib/python3.7/dist-packages (from tensorboard~=2.6->tensorflow) (1.35.0)\n",
            "Requirement already satisfied: google-auth-oauthlib<0.5,>=0.4.1 in /usr/local/lib/python3.7/dist-packages (from tensorboard~=2.6->tensorflow) (0.4.6)\n",
            "Requirement already satisfied: markdown>=2.6.8 in /usr/local/lib/python3.7/dist-packages (from tensorboard~=2.6->tensorflow) (3.3.6)\n",
            "Requirement already satisfied: requests<3,>=2.21.0 in /usr/local/lib/python3.7/dist-packages (from tensorboard~=2.6->tensorflow) (2.23.0)\n",
            "Requirement already satisfied: rsa<5,>=3.1.4 in /usr/local/lib/python3.7/dist-packages (from google-auth<3,>=1.6.3->tensorboard~=2.6->tensorflow) (4.8)\n",
            "Requirement already satisfied: cachetools<5.0,>=2.0.0 in /usr/local/lib/python3.7/dist-packages (from google-auth<3,>=1.6.3->tensorboard~=2.6->tensorflow) (4.2.4)\n",
            "Requirement already satisfied: pyasn1-modules>=0.2.1 in /usr/local/lib/python3.7/dist-packages (from google-auth<3,>=1.6.3->tensorboard~=2.6->tensorflow) (0.2.8)\n",
            "Requirement already satisfied: requests-oauthlib>=0.7.0 in /usr/local/lib/python3.7/dist-packages (from google-auth-oauthlib<0.5,>=0.4.1->tensorboard~=2.6->tensorflow) (1.3.0)\n",
            "Requirement already satisfied: importlib-metadata>=4.4 in /usr/local/lib/python3.7/dist-packages (from markdown>=2.6.8->tensorboard~=2.6->tensorflow) (4.10.0)\n",
            "Requirement already satisfied: zipp>=0.5 in /usr/local/lib/python3.7/dist-packages (from importlib-metadata>=4.4->markdown>=2.6.8->tensorboard~=2.6->tensorflow) (3.7.0)\n",
            "Requirement already satisfied: pyasn1<0.5.0,>=0.4.6 in /usr/local/lib/python3.7/dist-packages (from pyasn1-modules>=0.2.1->google-auth<3,>=1.6.3->tensorboard~=2.6->tensorflow) (0.4.8)\n",
            "Requirement already satisfied: chardet<4,>=3.0.2 in /usr/local/lib/python3.7/dist-packages (from requests<3,>=2.21.0->tensorboard~=2.6->tensorflow) (3.0.4)\n",
            "Requirement already satisfied: idna<3,>=2.5 in /usr/local/lib/python3.7/dist-packages (from requests<3,>=2.21.0->tensorboard~=2.6->tensorflow) (2.10)\n",
            "Requirement already satisfied: urllib3!=1.25.0,!=1.25.1,<1.26,>=1.21.1 in /usr/local/lib/python3.7/dist-packages (from requests<3,>=2.21.0->tensorboard~=2.6->tensorflow) (1.24.3)\n",
            "Requirement already satisfied: certifi>=2017.4.17 in /usr/local/lib/python3.7/dist-packages (from requests<3,>=2.21.0->tensorboard~=2.6->tensorflow) (2021.10.8)\n",
            "Requirement already satisfied: oauthlib>=3.0.0 in /usr/local/lib/python3.7/dist-packages (from requests-oauthlib>=0.7.0->google-auth-oauthlib<0.5,>=0.4.1->tensorboard~=2.6->tensorflow) (3.1.1)\n",
            "Found existing installation: tensorboard 2.7.0\n",
            "Uninstalling tensorboard-2.7.0:\n",
            "  Successfully uninstalled tensorboard-2.7.0\n",
            "\u001b[33mWARNING: Skipping tb-nightly as it is not installed.\u001b[0m\n",
            "\u001b[K     |████████████████████████████████| 602 kB 5.4 MB/s \n",
            "\u001b[K     |████████████████████████████████| 45 kB 2.8 MB/s \n",
            "\u001b[K     |████████████████████████████████| 4.0 MB 54.1 MB/s \n",
            "\u001b[K     |████████████████████████████████| 192 kB 47.9 MB/s \n",
            "\u001b[K     |████████████████████████████████| 172 kB 45.6 MB/s \n",
            "\u001b[K     |████████████████████████████████| 454.4 MB 23 kB/s \n",
            "\u001b[K     |████████████████████████████████| 462 kB 61.2 MB/s \n",
            "\u001b[K     |████████████████████████████████| 1.2 MB 61.8 MB/s \n",
            "\u001b[K     |████████████████████████████████| 5.8 MB 45.1 MB/s \n",
            "\u001b[?25h  Building wheel for wrapt (setup.py) ... \u001b[?25l\u001b[?25hdone\n",
            "\u001b[31mERROR: pip's dependency resolver does not currently take into account all the packages that are installed. This behaviour is the source of the following dependency conflicts.\n",
            "spacy 2.2.4 requires tqdm<5.0.0,>=4.38.0, but you have tqdm 4.28.1 which is incompatible.\n",
            "pymc3 3.11.4 requires cachetools>=4.2.1, but you have cachetools 3.1.1 which is incompatible.\n",
            "panel 0.12.1 requires tqdm>=4.48.0, but you have tqdm 4.28.1 which is incompatible.\n",
            "fbprophet 0.7.1 requires tqdm>=4.36.1, but you have tqdm 4.28.1 which is incompatible.\n",
            "datascience 0.10.6 requires folium==0.2.1, but you have folium 0.8.3 which is incompatible.\u001b[0m\n"
          ]
        },
        {
          "output_type": "execute_result",
          "data": {
            "text/plain": [
              ""
            ]
          },
          "metadata": {},
          "execution_count": 4
        }
      ]
    },
    {
      "cell_type": "code",
      "source": [
        "import tensorflow as tf\n",
        "print(\"TensorFlow version:\", tf.__version__)"
      ],
      "metadata": {
        "colab": {
          "base_uri": "https://localhost:8080/"
        },
        "id": "1OZa9Okfqe1c",
        "outputId": "75a0d3d9-d173-4514-9509-9be61744ff0d"
      },
      "execution_count": null,
      "outputs": [
        {
          "output_type": "stream",
          "name": "stdout",
          "text": [
            "TensorFlow version: 2.5.3\n"
          ]
        }
      ]
    },
    {
      "cell_type": "code",
      "source": [
        "!pip install --upgrade tensorflow-federated"
      ],
      "metadata": {
        "colab": {
          "base_uri": "https://localhost:8080/",
          "height": 1000
        },
        "id": "Nn8p6LmTqiCl",
        "outputId": "8bc594ed-6927-4794-abcd-b4d3cdb8fffb"
      },
      "execution_count": null,
      "outputs": [
        {
          "output_type": "stream",
          "name": "stdout",
          "text": [
            "Collecting tensorflow-federated\n",
            "  Downloading tensorflow_federated-0.19.0-py2.py3-none-any.whl (602 kB)\n",
            "\u001b[?25l\r\u001b[K     |▌                               | 10 kB 26.6 MB/s eta 0:00:01\r\u001b[K     |█                               | 20 kB 14.4 MB/s eta 0:00:01\r\u001b[K     |█▋                              | 30 kB 10.4 MB/s eta 0:00:01\r\u001b[K     |██▏                             | 40 kB 9.4 MB/s eta 0:00:01\r\u001b[K     |██▊                             | 51 kB 5.2 MB/s eta 0:00:01\r\u001b[K     |███▎                            | 61 kB 5.7 MB/s eta 0:00:01\r\u001b[K     |███▉                            | 71 kB 5.6 MB/s eta 0:00:01\r\u001b[K     |████▍                           | 81 kB 6.3 MB/s eta 0:00:01\r\u001b[K     |█████                           | 92 kB 4.8 MB/s eta 0:00:01\r\u001b[K     |█████▍                          | 102 kB 5.3 MB/s eta 0:00:01\r\u001b[K     |██████                          | 112 kB 5.3 MB/s eta 0:00:01\r\u001b[K     |██████▌                         | 122 kB 5.3 MB/s eta 0:00:01\r\u001b[K     |███████                         | 133 kB 5.3 MB/s eta 0:00:01\r\u001b[K     |███████▋                        | 143 kB 5.3 MB/s eta 0:00:01\r\u001b[K     |████████▏                       | 153 kB 5.3 MB/s eta 0:00:01\r\u001b[K     |████████▊                       | 163 kB 5.3 MB/s eta 0:00:01\r\u001b[K     |█████████▎                      | 174 kB 5.3 MB/s eta 0:00:01\r\u001b[K     |█████████▉                      | 184 kB 5.3 MB/s eta 0:00:01\r\u001b[K     |██████████▍                     | 194 kB 5.3 MB/s eta 0:00:01\r\u001b[K     |██████████▉                     | 204 kB 5.3 MB/s eta 0:00:01\r\u001b[K     |███████████▍                    | 215 kB 5.3 MB/s eta 0:00:01\r\u001b[K     |████████████                    | 225 kB 5.3 MB/s eta 0:00:01\r\u001b[K     |████████████▌                   | 235 kB 5.3 MB/s eta 0:00:01\r\u001b[K     |█████████████                   | 245 kB 5.3 MB/s eta 0:00:01\r\u001b[K     |█████████████▋                  | 256 kB 5.3 MB/s eta 0:00:01\r\u001b[K     |██████████████▏                 | 266 kB 5.3 MB/s eta 0:00:01\r\u001b[K     |██████████████▊                 | 276 kB 5.3 MB/s eta 0:00:01\r\u001b[K     |███████████████▎                | 286 kB 5.3 MB/s eta 0:00:01\r\u001b[K     |███████████████▊                | 296 kB 5.3 MB/s eta 0:00:01\r\u001b[K     |████████████████▎               | 307 kB 5.3 MB/s eta 0:00:01\r\u001b[K     |████████████████▉               | 317 kB 5.3 MB/s eta 0:00:01\r\u001b[K     |█████████████████▍              | 327 kB 5.3 MB/s eta 0:00:01\r\u001b[K     |██████████████████              | 337 kB 5.3 MB/s eta 0:00:01\r\u001b[K     |██████████████████▌             | 348 kB 5.3 MB/s eta 0:00:01\r\u001b[K     |███████████████████             | 358 kB 5.3 MB/s eta 0:00:01\r\u001b[K     |███████████████████▋            | 368 kB 5.3 MB/s eta 0:00:01\r\u001b[K     |████████████████████▏           | 378 kB 5.3 MB/s eta 0:00:01\r\u001b[K     |████████████████████▊           | 389 kB 5.3 MB/s eta 0:00:01\r\u001b[K     |█████████████████████▏          | 399 kB 5.3 MB/s eta 0:00:01\r\u001b[K     |█████████████████████▊          | 409 kB 5.3 MB/s eta 0:00:01\r\u001b[K     |██████████████████████▎         | 419 kB 5.3 MB/s eta 0:00:01\r\u001b[K     |██████████████████████▉         | 430 kB 5.3 MB/s eta 0:00:01\r\u001b[K     |███████████████████████▍        | 440 kB 5.3 MB/s eta 0:00:01\r\u001b[K     |████████████████████████        | 450 kB 5.3 MB/s eta 0:00:01\r\u001b[K     |████████████████████████▌       | 460 kB 5.3 MB/s eta 0:00:01\r\u001b[K     |█████████████████████████       | 471 kB 5.3 MB/s eta 0:00:01\r\u001b[K     |█████████████████████████▋      | 481 kB 5.3 MB/s eta 0:00:01\r\u001b[K     |██████████████████████████▏     | 491 kB 5.3 MB/s eta 0:00:01\r\u001b[K     |██████████████████████████▋     | 501 kB 5.3 MB/s eta 0:00:01\r\u001b[K     |███████████████████████████▏    | 512 kB 5.3 MB/s eta 0:00:01\r\u001b[K     |███████████████████████████▊    | 522 kB 5.3 MB/s eta 0:00:01\r\u001b[K     |████████████████████████████▎   | 532 kB 5.3 MB/s eta 0:00:01\r\u001b[K     |████████████████████████████▉   | 542 kB 5.3 MB/s eta 0:00:01\r\u001b[K     |█████████████████████████████▍  | 552 kB 5.3 MB/s eta 0:00:01\r\u001b[K     |██████████████████████████████  | 563 kB 5.3 MB/s eta 0:00:01\r\u001b[K     |██████████████████████████████▌ | 573 kB 5.3 MB/s eta 0:00:01\r\u001b[K     |███████████████████████████████ | 583 kB 5.3 MB/s eta 0:00:01\r\u001b[K     |███████████████████████████████▌| 593 kB 5.3 MB/s eta 0:00:01\r\u001b[K     |████████████████████████████████| 602 kB 5.3 MB/s \n",
            "\u001b[?25hRequirement already satisfied: portpicker~=1.3.1 in /usr/local/lib/python3.7/dist-packages (from tensorflow-federated) (1.3.9)\n",
            "Collecting tqdm~=4.28.1\n",
            "  Downloading tqdm-4.28.1-py2.py3-none-any.whl (45 kB)\n",
            "\u001b[K     |████████████████████████████████| 45 kB 3.4 MB/s \n",
            "\u001b[?25hRequirement already satisfied: jaxlib~=0.1.55 in /usr/local/lib/python3.7/dist-packages (from tensorflow-federated) (0.1.71+cuda111)\n",
            "Collecting semantic-version~=2.8.5\n",
            "  Downloading semantic_version-2.8.5-py2.py3-none-any.whl (15 kB)\n",
            "Collecting tensorflow-privacy~=0.5.0\n",
            "  Downloading tensorflow_privacy-0.5.2-py3-none-any.whl (192 kB)\n",
            "\u001b[K     |████████████████████████████████| 192 kB 46.8 MB/s \n",
            "\u001b[?25hCollecting tensorflow~=2.5.0\n",
            "  Downloading tensorflow-2.5.3-cp37-cp37m-manylinux2010_x86_64.whl (460.3 MB)\n",
            "\u001b[K     |████████████████████████████████| 460.3 MB 7.4 kB/s \n",
            "\u001b[?25hCollecting retrying~=1.3.3\n",
            "  Downloading retrying-1.3.3.tar.gz (10 kB)\n",
            "Collecting absl-py~=0.10\n",
            "  Downloading absl_py-0.15.0-py3-none-any.whl (132 kB)\n",
            "\u001b[K     |████████████████████████████████| 132 kB 63.5 MB/s \n",
            "\u001b[?25hCollecting cachetools~=3.1.1\n",
            "  Downloading cachetools-3.1.1-py2.py3-none-any.whl (11 kB)\n",
            "Requirement already satisfied: numpy~=1.19.2 in /usr/local/lib/python3.7/dist-packages (from tensorflow-federated) (1.19.5)\n",
            "Collecting attrs~=19.3.0\n",
            "  Downloading attrs-19.3.0-py2.py3-none-any.whl (39 kB)\n",
            "Requirement already satisfied: jax~=0.2.8 in /usr/local/lib/python3.7/dist-packages (from tensorflow-federated) (0.2.25)\n",
            "Collecting tensorflow-model-optimization~=0.5.0\n",
            "  Downloading tensorflow_model_optimization-0.5.0-py2.py3-none-any.whl (172 kB)\n",
            "\u001b[K     |████████████████████████████████| 172 kB 75.5 MB/s \n",
            "\u001b[?25hRequirement already satisfied: dm-tree~=0.1.1 in /usr/local/lib/python3.7/dist-packages (from tensorflow-federated) (0.1.6)\n",
            "Collecting grpcio~=1.34.0\n",
            "  Downloading grpcio-1.34.1-cp37-cp37m-manylinux2014_x86_64.whl (4.0 MB)\n",
            "\u001b[K     |████████████████████████████████| 4.0 MB 51.9 MB/s \n",
            "\u001b[?25hRequirement already satisfied: six in /usr/local/lib/python3.7/dist-packages (from absl-py~=0.10->tensorflow-federated) (1.15.0)\n",
            "Requirement already satisfied: opt-einsum in /usr/local/lib/python3.7/dist-packages (from jax~=0.2.8->tensorflow-federated) (3.3.0)\n",
            "Requirement already satisfied: typing-extensions in /usr/local/lib/python3.7/dist-packages (from jax~=0.2.8->tensorflow-federated) (3.10.0.2)\n",
            "Requirement already satisfied: scipy>=1.2.1 in /usr/local/lib/python3.7/dist-packages (from jax~=0.2.8->tensorflow-federated) (1.4.1)\n",
            "Requirement already satisfied: flatbuffers<3.0,>=1.12 in /usr/local/lib/python3.7/dist-packages (from jaxlib~=0.1.55->tensorflow-federated) (2.0)\n",
            "Requirement already satisfied: google-pasta~=0.2 in /usr/local/lib/python3.7/dist-packages (from tensorflow~=2.5.0->tensorflow-federated) (0.2.0)\n",
            "Collecting wrapt~=1.12.1\n",
            "  Downloading wrapt-1.12.1.tar.gz (27 kB)\n",
            "Requirement already satisfied: protobuf>=3.9.2 in /usr/local/lib/python3.7/dist-packages (from tensorflow~=2.5.0->tensorflow-federated) (3.17.3)\n",
            "Collecting typing-extensions\n",
            "  Downloading typing_extensions-3.7.4.3-py3-none-any.whl (22 kB)\n",
            "Requirement already satisfied: tensorboard~=2.5 in /usr/local/lib/python3.7/dist-packages (from tensorflow~=2.5.0->tensorflow-federated) (2.7.0)\n",
            "Requirement already satisfied: wheel~=0.35 in /usr/local/lib/python3.7/dist-packages (from tensorflow~=2.5.0->tensorflow-federated) (0.37.1)\n",
            "Requirement already satisfied: termcolor~=1.1.0 in /usr/local/lib/python3.7/dist-packages (from tensorflow~=2.5.0->tensorflow-federated) (1.1.0)\n",
            "Collecting keras-nightly~=2.5.0.dev\n",
            "  Downloading keras_nightly-2.5.0.dev2021032900-py2.py3-none-any.whl (1.2 MB)\n",
            "\u001b[K     |████████████████████████████████| 1.2 MB 57.8 MB/s \n",
            "\u001b[?25hRequirement already satisfied: astunparse~=1.6.3 in /usr/local/lib/python3.7/dist-packages (from tensorflow~=2.5.0->tensorflow-federated) (1.6.3)\n",
            "Requirement already satisfied: keras-preprocessing~=1.1.2 in /usr/local/lib/python3.7/dist-packages (from tensorflow~=2.5.0->tensorflow-federated) (1.1.2)\n",
            "Requirement already satisfied: h5py~=3.1.0 in /usr/local/lib/python3.7/dist-packages (from tensorflow~=2.5.0->tensorflow-federated) (3.1.0)\n",
            "Requirement already satisfied: gast==0.4.0 in /usr/local/lib/python3.7/dist-packages (from tensorflow~=2.5.0->tensorflow-federated) (0.4.0)\n",
            "Collecting tensorflow-estimator<2.6.0,>=2.5.0\n",
            "  Downloading tensorflow_estimator-2.5.0-py2.py3-none-any.whl (462 kB)\n",
            "\u001b[K     |████████████████████████████████| 462 kB 53.6 MB/s \n",
            "\u001b[?25hCollecting flatbuffers<3.0,>=1.12\n",
            "  Downloading flatbuffers-1.12-py2.py3-none-any.whl (15 kB)\n",
            "Requirement already satisfied: cached-property in /usr/local/lib/python3.7/dist-packages (from h5py~=3.1.0->tensorflow~=2.5.0->tensorflow-federated) (1.5.2)\n",
            "Requirement already satisfied: tensorboard-data-server<0.7.0,>=0.6.0 in /usr/local/lib/python3.7/dist-packages (from tensorboard~=2.5->tensorflow~=2.5.0->tensorflow-federated) (0.6.1)\n",
            "Requirement already satisfied: werkzeug>=0.11.15 in /usr/local/lib/python3.7/dist-packages (from tensorboard~=2.5->tensorflow~=2.5.0->tensorflow-federated) (1.0.1)\n",
            "Requirement already satisfied: tensorboard-plugin-wit>=1.6.0 in /usr/local/lib/python3.7/dist-packages (from tensorboard~=2.5->tensorflow~=2.5.0->tensorflow-federated) (1.8.1)\n",
            "Requirement already satisfied: google-auth-oauthlib<0.5,>=0.4.1 in /usr/local/lib/python3.7/dist-packages (from tensorboard~=2.5->tensorflow~=2.5.0->tensorflow-federated) (0.4.6)\n",
            "Requirement already satisfied: google-auth<3,>=1.6.3 in /usr/local/lib/python3.7/dist-packages (from tensorboard~=2.5->tensorflow~=2.5.0->tensorflow-federated) (1.35.0)\n",
            "Requirement already satisfied: setuptools>=41.0.0 in /usr/local/lib/python3.7/dist-packages (from tensorboard~=2.5->tensorflow~=2.5.0->tensorflow-federated) (57.4.0)\n",
            "Requirement already satisfied: markdown>=2.6.8 in /usr/local/lib/python3.7/dist-packages (from tensorboard~=2.5->tensorflow~=2.5.0->tensorflow-federated) (3.3.6)\n",
            "Requirement already satisfied: requests<3,>=2.21.0 in /usr/local/lib/python3.7/dist-packages (from tensorboard~=2.5->tensorflow~=2.5.0->tensorflow-federated) (2.23.0)\n",
            "Requirement already satisfied: rsa<5,>=3.1.4 in /usr/local/lib/python3.7/dist-packages (from google-auth<3,>=1.6.3->tensorboard~=2.5->tensorflow~=2.5.0->tensorflow-federated) (4.8)\n",
            "Requirement already satisfied: pyasn1-modules>=0.2.1 in /usr/local/lib/python3.7/dist-packages (from google-auth<3,>=1.6.3->tensorboard~=2.5->tensorflow~=2.5.0->tensorflow-federated) (0.2.8)\n",
            "Requirement already satisfied: requests-oauthlib>=0.7.0 in /usr/local/lib/python3.7/dist-packages (from google-auth-oauthlib<0.5,>=0.4.1->tensorboard~=2.5->tensorflow~=2.5.0->tensorflow-federated) (1.3.1)\n",
            "Requirement already satisfied: importlib-metadata>=4.4 in /usr/local/lib/python3.7/dist-packages (from markdown>=2.6.8->tensorboard~=2.5->tensorflow~=2.5.0->tensorflow-federated) (4.10.1)\n",
            "Requirement already satisfied: zipp>=0.5 in /usr/local/lib/python3.7/dist-packages (from importlib-metadata>=4.4->markdown>=2.6.8->tensorboard~=2.5->tensorflow~=2.5.0->tensorflow-federated) (3.7.0)\n",
            "Requirement already satisfied: pyasn1<0.5.0,>=0.4.6 in /usr/local/lib/python3.7/dist-packages (from pyasn1-modules>=0.2.1->google-auth<3,>=1.6.3->tensorboard~=2.5->tensorflow~=2.5.0->tensorflow-federated) (0.4.8)\n",
            "Requirement already satisfied: chardet<4,>=3.0.2 in /usr/local/lib/python3.7/dist-packages (from requests<3,>=2.21.0->tensorboard~=2.5->tensorflow~=2.5.0->tensorflow-federated) (3.0.4)\n",
            "Requirement already satisfied: urllib3!=1.25.0,!=1.25.1,<1.26,>=1.21.1 in /usr/local/lib/python3.7/dist-packages (from requests<3,>=2.21.0->tensorboard~=2.5->tensorflow~=2.5.0->tensorflow-federated) (1.24.3)\n",
            "Requirement already satisfied: certifi>=2017.4.17 in /usr/local/lib/python3.7/dist-packages (from requests<3,>=2.21.0->tensorboard~=2.5->tensorflow~=2.5.0->tensorflow-federated) (2021.10.8)\n",
            "Requirement already satisfied: idna<3,>=2.5 in /usr/local/lib/python3.7/dist-packages (from requests<3,>=2.21.0->tensorboard~=2.5->tensorflow~=2.5.0->tensorflow-federated) (2.10)\n",
            "Requirement already satisfied: oauthlib>=3.0.0 in /usr/local/lib/python3.7/dist-packages (from requests-oauthlib>=0.7.0->google-auth-oauthlib<0.5,>=0.4.1->tensorboard~=2.5->tensorflow~=2.5.0->tensorflow-federated) (3.2.0)\n",
            "Requirement already satisfied: mpmath in /usr/local/lib/python3.7/dist-packages (from tensorflow-privacy~=0.5.0->tensorflow-federated) (1.2.1)\n",
            "Building wheels for collected packages: retrying, wrapt\n",
            "  Building wheel for retrying (setup.py) ... \u001b[?25l\u001b[?25hdone\n",
            "  Created wheel for retrying: filename=retrying-1.3.3-py3-none-any.whl size=11447 sha256=187756614aeb92cb3a536229bcd5a6e2e658c23bd79121cc53749795e14a3269\n",
            "  Stored in directory: /root/.cache/pip/wheels/f9/8d/8d/f6af3f7f9eea3553bc2fe6d53e4b287dad18b06a861ac56ddf\n",
            "  Building wheel for wrapt (setup.py) ... \u001b[?25l\u001b[?25hdone\n",
            "  Created wheel for wrapt: filename=wrapt-1.12.1-cp37-cp37m-linux_x86_64.whl size=68713 sha256=8c184406b4fe11ef494a6a7f138d4272223f9af26dde31b80f5f3a47a7b3cdec\n",
            "  Stored in directory: /root/.cache/pip/wheels/62/76/4c/aa25851149f3f6d9785f6c869387ad82b3fd37582fa8147ac6\n",
            "Successfully built retrying wrapt\n",
            "Installing collected packages: typing-extensions, cachetools, grpcio, absl-py, wrapt, tensorflow-estimator, keras-nightly, flatbuffers, tqdm, tensorflow-privacy, tensorflow-model-optimization, tensorflow, semantic-version, retrying, attrs, tensorflow-federated\n",
            "  Attempting uninstall: typing-extensions\n",
            "    Found existing installation: typing-extensions 3.10.0.2\n",
            "    Uninstalling typing-extensions-3.10.0.2:\n",
            "      Successfully uninstalled typing-extensions-3.10.0.2\n",
            "  Attempting uninstall: cachetools\n",
            "    Found existing installation: cachetools 4.2.4\n",
            "    Uninstalling cachetools-4.2.4:\n",
            "      Successfully uninstalled cachetools-4.2.4\n",
            "  Attempting uninstall: grpcio\n",
            "    Found existing installation: grpcio 1.43.0\n",
            "    Uninstalling grpcio-1.43.0:\n",
            "      Successfully uninstalled grpcio-1.43.0\n",
            "  Attempting uninstall: absl-py\n",
            "    Found existing installation: absl-py 1.0.0\n",
            "    Uninstalling absl-py-1.0.0:\n",
            "      Successfully uninstalled absl-py-1.0.0\n",
            "  Attempting uninstall: wrapt\n",
            "    Found existing installation: wrapt 1.13.3\n",
            "    Uninstalling wrapt-1.13.3:\n",
            "      Successfully uninstalled wrapt-1.13.3\n",
            "  Attempting uninstall: tensorflow-estimator\n",
            "    Found existing installation: tensorflow-estimator 2.7.0\n",
            "    Uninstalling tensorflow-estimator-2.7.0:\n",
            "      Successfully uninstalled tensorflow-estimator-2.7.0\n",
            "  Attempting uninstall: flatbuffers\n",
            "    Found existing installation: flatbuffers 2.0\n",
            "    Uninstalling flatbuffers-2.0:\n",
            "      Successfully uninstalled flatbuffers-2.0\n",
            "  Attempting uninstall: tqdm\n",
            "    Found existing installation: tqdm 4.62.3\n",
            "    Uninstalling tqdm-4.62.3:\n",
            "      Successfully uninstalled tqdm-4.62.3\n",
            "  Attempting uninstall: tensorflow\n",
            "    Found existing installation: tensorflow 2.7.0\n",
            "    Uninstalling tensorflow-2.7.0:\n",
            "      Successfully uninstalled tensorflow-2.7.0\n",
            "  Attempting uninstall: attrs\n",
            "    Found existing installation: attrs 21.4.0\n",
            "    Uninstalling attrs-21.4.0:\n",
            "      Successfully uninstalled attrs-21.4.0\n",
            "\u001b[31mERROR: pip's dependency resolver does not currently take into account all the packages that are installed. This behaviour is the source of the following dependency conflicts.\n",
            "spacy 2.2.4 requires tqdm<5.0.0,>=4.38.0, but you have tqdm 4.28.1 which is incompatible.\n",
            "pymc3 3.11.4 requires cachetools>=4.2.1, but you have cachetools 3.1.1 which is incompatible.\n",
            "panel 0.12.1 requires tqdm>=4.48.0, but you have tqdm 4.28.1 which is incompatible.\n",
            "fbprophet 0.7.1 requires tqdm>=4.36.1, but you have tqdm 4.28.1 which is incompatible.\n",
            "datascience 0.10.6 requires folium==0.2.1, but you have folium 0.8.3 which is incompatible.\u001b[0m\n",
            "Successfully installed absl-py-0.15.0 attrs-19.3.0 cachetools-3.1.1 flatbuffers-1.12 grpcio-1.34.1 keras-nightly-2.5.0.dev2021032900 retrying-1.3.3 semantic-version-2.8.5 tensorflow-2.5.3 tensorflow-estimator-2.5.0 tensorflow-federated-0.19.0 tensorflow-model-optimization-0.5.0 tensorflow-privacy-0.5.2 tqdm-4.28.1 typing-extensions-3.7.4.3 wrapt-1.12.1\n"
          ]
        },
        {
          "output_type": "display_data",
          "data": {
            "application/vnd.colab-display-data+json": {
              "pip_warning": {
                "packages": [
                  "absl",
                  "flatbuffers",
                  "keras",
                  "tensorflow",
                  "typing_extensions",
                  "wrapt"
                ]
              }
            }
          },
          "metadata": {}
        }
      ]
    },
    {
      "cell_type": "code",
      "source": [
        "import tensorflow_federated as tff \n",
        "print(tff.federated_computation(lambda: 'Hello World'))"
      ],
      "metadata": {
        "colab": {
          "base_uri": "https://localhost:8080/"
        },
        "id": "i3Lqy6F2q66n",
        "outputId": "abfa2d0d-6053-4b3d-f971-48279a4f469f"
      },
      "execution_count": null,
      "outputs": [
        {
          "output_type": "stream",
          "name": "stdout",
          "text": [
            "<tensorflow_federated.python.core.impl.computation.computation_impl.ComputationImpl object at 0x7f3bbfcc6c50>\n"
          ]
        }
      ]
    },
    {
      "cell_type": "code",
      "execution_count": null,
      "metadata": {
        "id": "dnhJt8pECzuA"
      },
      "outputs": [],
      "source": [
        "import matplotlib.pyplot as plt\n",
        "%matplotlib notebook\n",
        "%matplotlib inline\n",
        "\n",
        "import nest_asyncio\n",
        "nest_asyncio.apply()\n",
        "\n",
        "import pandas as pd\n",
        "import random\n",
        "from sklearn.model_selection import train_test_split\n",
        "from sklearn.preprocessing import MinMaxScaler\n",
        "import tensorflow as tf\n",
        "#from tensorflow.keras.layers import BatchNormalization\n",
        "#from keras.layers.normalization import LayerNormalization\n",
        "#import tensorflow_federated as tff\n",
        "from tensorflow.keras.metrics import BinaryAccuracy, Precision, Recall\n",
        "\n",
        "SEED = 1337\n",
        "tf.random.set_seed(SEED)"
      ]
    },
    {
      "cell_type": "code",
      "source": [
        "for col in  df_dropped.columns[:]:\n",
        "    df_dropped[col] = pd.to_numeric(df_dropped[col], errors='coerce')#, downcast='int')"
      ],
      "metadata": {
        "id": "kTmFhSQB2Bka"
      },
      "execution_count": null,
      "outputs": []
    },
    {
      "cell_type": "code",
      "source": [
        "df_dropped.info()"
      ],
      "metadata": {
        "colab": {
          "base_uri": "https://localhost:8080/"
        },
        "id": "MxicHFRw2EgE",
        "outputId": "fde06ba7-049d-4eb8-e8d3-bcb604b0d568"
      },
      "execution_count": null,
      "outputs": [
        {
          "output_type": "stream",
          "name": "stdout",
          "text": [
            "<class 'pandas.core.frame.DataFrame'>\n",
            "RangeIndex: 16318 entries, 0 to 16317\n",
            "Data columns (total 42 columns):\n",
            " #   Column      Non-Null Count  Dtype  \n",
            "---  ------      --------------  -----  \n",
            " 0   SrcAddr     0 non-null      float64\n",
            " 1   DstAddr     0 non-null      float64\n",
            " 2   Sport       16315 non-null  float64\n",
            " 3   Dport       16318 non-null  int64  \n",
            " 4   SrcBytes    16318 non-null  float64\n",
            " 5   DstBytes    16318 non-null  float64\n",
            " 6   SrcLoad     16318 non-null  float64\n",
            " 7   DstLoad     16318 non-null  float64\n",
            " 8   SrcGap      16318 non-null  float64\n",
            " 9   DstGap      16318 non-null  float64\n",
            " 10  SIntPkt     16318 non-null  float64\n",
            " 11  DIntPkt     16318 non-null  float64\n",
            " 12  SIntPktAct  16318 non-null  float64\n",
            " 13  DIntPktAct  16318 non-null  float64\n",
            " 14  SrcJitter   16318 non-null  float64\n",
            " 15  DstJitter   16318 non-null  float64\n",
            " 16  sMaxPktSz   16318 non-null  int64  \n",
            " 17  dMaxPktSz   16318 non-null  int64  \n",
            " 18  sMinPktSz   16318 non-null  int64  \n",
            " 19  dMinPktSz   16318 non-null  int64  \n",
            " 20  Dur         16318 non-null  float64\n",
            " 21  Trans       16318 non-null  int64  \n",
            " 22  TotPkts     16318 non-null  float64\n",
            " 23  TotBytes    16318 non-null  float64\n",
            " 24  Load        16318 non-null  float64\n",
            " 25  Loss        16318 non-null  int64  \n",
            " 26  pLoss       16318 non-null  float64\n",
            " 27  pSrcLoss    16318 non-null  float64\n",
            " 28  pDstLoss    16318 non-null  float64\n",
            " 29  Rate        16318 non-null  float64\n",
            " 30  SrcMac      0 non-null      float64\n",
            " 31  DstMac      0 non-null      float64\n",
            " 32  Packet_num  16318 non-null  int64  \n",
            " 33  Temp        16318 non-null  float64\n",
            " 34  SpO2        16318 non-null  int64  \n",
            " 35  Pulse_Rate  16318 non-null  int64  \n",
            " 36  SYS         16318 non-null  int64  \n",
            " 37  DIA         16318 non-null  int64  \n",
            " 38  Heart_rate  16318 non-null  int64  \n",
            " 39  Resp_Rate   16318 non-null  int64  \n",
            " 40  ST          16318 non-null  float64\n",
            " 41  Label       16318 non-null  int64  \n",
            "dtypes: float64(27), int64(15)\n",
            "memory usage: 5.2 MB\n"
          ]
        }
      ]
    },
    {
      "cell_type": "code",
      "source": [
        "#df_dropped['Pulse_Rate'] = df_dropped['Pulse_Rate'].astype(float)\n",
        "#df_dropped['Packet_num'] = df_dropped['Packet_num'].astype(float)\n",
        "#df_dropped.info()"
      ],
      "metadata": {
        "colab": {
          "base_uri": "https://localhost:8080/"
        },
        "id": "bOPoJinCmoff",
        "outputId": "59dd45ce-6781-4f3e-f70a-544e7ed24b3b"
      },
      "execution_count": null,
      "outputs": [
        {
          "output_type": "stream",
          "name": "stdout",
          "text": [
            "<class 'pandas.core.frame.DataFrame'>\n",
            "RangeIndex: 16318 entries, 0 to 16317\n",
            "Data columns (total 42 columns):\n",
            " #   Column      Non-Null Count  Dtype  \n",
            "---  ------      --------------  -----  \n",
            " 0   SrcAddr     0 non-null      float64\n",
            " 1   DstAddr     0 non-null      float64\n",
            " 2   Sport       16315 non-null  float64\n",
            " 3   Dport       16318 non-null  int64  \n",
            " 4   SrcBytes    16318 non-null  float64\n",
            " 5   DstBytes    16318 non-null  float64\n",
            " 6   SrcLoad     16318 non-null  float64\n",
            " 7   DstLoad     16318 non-null  float64\n",
            " 8   SrcGap      16318 non-null  float64\n",
            " 9   DstGap      16318 non-null  float64\n",
            " 10  SIntPkt     16318 non-null  float64\n",
            " 11  DIntPkt     16318 non-null  float64\n",
            " 12  SIntPktAct  16318 non-null  float64\n",
            " 13  DIntPktAct  16318 non-null  float64\n",
            " 14  SrcJitter   16318 non-null  float64\n",
            " 15  DstJitter   16318 non-null  float64\n",
            " 16  sMaxPktSz   16318 non-null  int64  \n",
            " 17  dMaxPktSz   16318 non-null  int64  \n",
            " 18  sMinPktSz   16318 non-null  int64  \n",
            " 19  dMinPktSz   16318 non-null  int64  \n",
            " 20  Dur         16318 non-null  float64\n",
            " 21  Trans       16318 non-null  int64  \n",
            " 22  TotPkts     16318 non-null  float64\n",
            " 23  TotBytes    16318 non-null  float64\n",
            " 24  Load        16318 non-null  float64\n",
            " 25  Loss        16318 non-null  int64  \n",
            " 26  pLoss       16318 non-null  float64\n",
            " 27  pSrcLoss    16318 non-null  float64\n",
            " 28  pDstLoss    16318 non-null  float64\n",
            " 29  Rate        16318 non-null  float64\n",
            " 30  SrcMac      0 non-null      float64\n",
            " 31  DstMac      0 non-null      float64\n",
            " 32  Packet_num  16318 non-null  float64\n",
            " 33  Temp        16318 non-null  float64\n",
            " 34  SpO2        16318 non-null  int64  \n",
            " 35  Pulse_Rate  16318 non-null  float64\n",
            " 36  SYS         16318 non-null  int64  \n",
            " 37  DIA         16318 non-null  int64  \n",
            " 38  Heart_rate  16318 non-null  int64  \n",
            " 39  Resp_Rate   16318 non-null  int64  \n",
            " 40  ST          16318 non-null  float64\n",
            " 41  Label       16318 non-null  int64  \n",
            "dtypes: float64(29), int64(13)\n",
            "memory usage: 5.2 MB\n"
          ]
        }
      ]
    },
    {
      "cell_type": "code",
      "source": [
        "drop_columns = ['Sport', 'SrcAddr',\t'DstAddr', 'Dport',\t'SrcBytes',\t'DstBytes',\t'SrcGap',\t'DstGap',\t'SIntPktAct',\t'DIntPktAct', \n",
        "                'sMaxPktSz',\t'dMaxPktSz',\t'sMinPktSz',\t'dMinPktSz', 'Trans',\t'TotPkts',\t'TotBytes',\t'Loss',\t'pLoss',\t\n",
        "                'pSrcLoss',\t'pDstLoss',\t'Rate',\t'SrcMac',\t'DstMac',\t'SpO2',\t'SYS',\t'DIA',\t'Heart_rate',\t'Resp_Rate',\t'ST']\n",
        "df_new= df_dropped.drop(columns=drop_columns)\n",
        "df_new.info()"
      ],
      "metadata": {
        "colab": {
          "base_uri": "https://localhost:8080/"
        },
        "id": "tgesjhzDcWUA",
        "outputId": "cf1bacb7-29f2-49fd-81e6-a2248888da7e"
      },
      "execution_count": null,
      "outputs": [
        {
          "output_type": "stream",
          "name": "stdout",
          "text": [
            "<class 'pandas.core.frame.DataFrame'>\n",
            "RangeIndex: 16318 entries, 0 to 16317\n",
            "Data columns (total 12 columns):\n",
            " #   Column      Non-Null Count  Dtype  \n",
            "---  ------      --------------  -----  \n",
            " 0   SrcLoad     16318 non-null  float64\n",
            " 1   DstLoad     16318 non-null  float64\n",
            " 2   SIntPkt     16318 non-null  float64\n",
            " 3   DIntPkt     16318 non-null  float64\n",
            " 4   SrcJitter   16318 non-null  float64\n",
            " 5   DstJitter   16318 non-null  float64\n",
            " 6   Dur         16318 non-null  float64\n",
            " 7   Load        16318 non-null  float64\n",
            " 8   Packet_num  16318 non-null  float64\n",
            " 9   Temp        16318 non-null  float64\n",
            " 10  Pulse_Rate  16318 non-null  float64\n",
            " 11  Label       16318 non-null  int64  \n",
            "dtypes: float64(11), int64(1)\n",
            "memory usage: 1.5 MB\n"
          ]
        }
      ]
    },
    {
      "cell_type": "code",
      "source": [
        "df_new['Pulse_Rate'] = df_new['Pulse_Rate'].astype(float)\n",
        "df_new['Packet_num'] = df_new['Packet_num'].astype(float)\n",
        "df_new.info()"
      ],
      "metadata": {
        "colab": {
          "base_uri": "https://localhost:8080/"
        },
        "id": "dnmPRpdMeSJp",
        "outputId": "21240007-53d5-41fe-f4ed-cc0f6f2c0282"
      },
      "execution_count": null,
      "outputs": [
        {
          "output_type": "stream",
          "name": "stdout",
          "text": [
            "<class 'pandas.core.frame.DataFrame'>\n",
            "RangeIndex: 16318 entries, 0 to 16317\n",
            "Data columns (total 12 columns):\n",
            " #   Column      Non-Null Count  Dtype  \n",
            "---  ------      --------------  -----  \n",
            " 0   SrcLoad     16318 non-null  float64\n",
            " 1   DstLoad     16318 non-null  float64\n",
            " 2   SIntPkt     16318 non-null  float64\n",
            " 3   DIntPkt     16318 non-null  float64\n",
            " 4   SrcJitter   16318 non-null  float64\n",
            " 5   DstJitter   16318 non-null  float64\n",
            " 6   Dur         16318 non-null  float64\n",
            " 7   Load        16318 non-null  float64\n",
            " 8   Packet_num  16318 non-null  float64\n",
            " 9   Temp        16318 non-null  float64\n",
            " 10  Pulse_Rate  16318 non-null  float64\n",
            " 11  Label       16318 non-null  int64  \n",
            "dtypes: float64(11), int64(1)\n",
            "memory usage: 1.5 MB\n"
          ]
        }
      ]
    },
    {
      "cell_type": "code",
      "source": [
        "df_new.head()"
      ],
      "metadata": {
        "colab": {
          "base_uri": "https://localhost:8080/",
          "height": 206
        },
        "id": "iAx4_Jb0d4JN",
        "outputId": "4311e100-9d8d-4795-cb4d-234115955ebf"
      },
      "execution_count": null,
      "outputs": [
        {
          "output_type": "execute_result",
          "data": {
            "text/html": [
              "\n",
              "  <div id=\"df-aff5abf5-794f-4783-9f10-6a3bd55529fe\">\n",
              "    <div class=\"colab-df-container\">\n",
              "      <div>\n",
              "<style scoped>\n",
              "    .dataframe tbody tr th:only-of-type {\n",
              "        vertical-align: middle;\n",
              "    }\n",
              "\n",
              "    .dataframe tbody tr th {\n",
              "        vertical-align: top;\n",
              "    }\n",
              "\n",
              "    .dataframe thead th {\n",
              "        text-align: right;\n",
              "    }\n",
              "</style>\n",
              "<table border=\"1\" class=\"dataframe\">\n",
              "  <thead>\n",
              "    <tr style=\"text-align: right;\">\n",
              "      <th></th>\n",
              "      <th>SrcLoad</th>\n",
              "      <th>DstLoad</th>\n",
              "      <th>SIntPkt</th>\n",
              "      <th>DIntPkt</th>\n",
              "      <th>SrcJitter</th>\n",
              "      <th>DstJitter</th>\n",
              "      <th>Dur</th>\n",
              "      <th>Load</th>\n",
              "      <th>Packet_num</th>\n",
              "      <th>Temp</th>\n",
              "      <th>Pulse_Rate</th>\n",
              "      <th>Label</th>\n",
              "    </tr>\n",
              "  </thead>\n",
              "  <tbody>\n",
              "    <tr>\n",
              "      <th>0</th>\n",
              "      <td>276914.0</td>\n",
              "      <td>92305.0</td>\n",
              "      <td>3.582333</td>\n",
              "      <td>1.9015</td>\n",
              "      <td>2.946239</td>\n",
              "      <td>1.6235</td>\n",
              "      <td>0.010747</td>\n",
              "      <td>369219.0</td>\n",
              "      <td>1.0</td>\n",
              "      <td>28.9</td>\n",
              "      <td>0.0</td>\n",
              "      <td>0</td>\n",
              "    </tr>\n",
              "    <tr>\n",
              "      <th>1</th>\n",
              "      <td>230984.0</td>\n",
              "      <td>76995.0</td>\n",
              "      <td>4.294667</td>\n",
              "      <td>2.9015</td>\n",
              "      <td>3.091654</td>\n",
              "      <td>2.8625</td>\n",
              "      <td>0.012884</td>\n",
              "      <td>307979.0</td>\n",
              "      <td>2.0</td>\n",
              "      <td>28.9</td>\n",
              "      <td>0.0</td>\n",
              "      <td>0</td>\n",
              "    </tr>\n",
              "    <tr>\n",
              "      <th>2</th>\n",
              "      <td>218470.0</td>\n",
              "      <td>72823.0</td>\n",
              "      <td>4.540667</td>\n",
              "      <td>3.2945</td>\n",
              "      <td>2.849841</td>\n",
              "      <td>3.1655</td>\n",
              "      <td>0.013622</td>\n",
              "      <td>291293.0</td>\n",
              "      <td>3.0</td>\n",
              "      <td>28.9</td>\n",
              "      <td>104.0</td>\n",
              "      <td>0</td>\n",
              "    </tr>\n",
              "    <tr>\n",
              "      <th>3</th>\n",
              "      <td>203376.0</td>\n",
              "      <td>67792.0</td>\n",
              "      <td>4.877667</td>\n",
              "      <td>3.3320</td>\n",
              "      <td>2.452252</td>\n",
              "      <td>3.2570</td>\n",
              "      <td>0.014633</td>\n",
              "      <td>271168.0</td>\n",
              "      <td>4.0</td>\n",
              "      <td>28.9</td>\n",
              "      <td>104.0</td>\n",
              "      <td>0</td>\n",
              "    </tr>\n",
              "    <tr>\n",
              "      <th>4</th>\n",
              "      <td>235723.0</td>\n",
              "      <td>78574.0</td>\n",
              "      <td>4.208333</td>\n",
              "      <td>2.8635</td>\n",
              "      <td>3.021835</td>\n",
              "      <td>2.8225</td>\n",
              "      <td>0.012625</td>\n",
              "      <td>314297.0</td>\n",
              "      <td>5.0</td>\n",
              "      <td>28.9</td>\n",
              "      <td>101.0</td>\n",
              "      <td>0</td>\n",
              "    </tr>\n",
              "  </tbody>\n",
              "</table>\n",
              "</div>\n",
              "      <button class=\"colab-df-convert\" onclick=\"convertToInteractive('df-aff5abf5-794f-4783-9f10-6a3bd55529fe')\"\n",
              "              title=\"Convert this dataframe to an interactive table.\"\n",
              "              style=\"display:none;\">\n",
              "        \n",
              "  <svg xmlns=\"http://www.w3.org/2000/svg\" height=\"24px\"viewBox=\"0 0 24 24\"\n",
              "       width=\"24px\">\n",
              "    <path d=\"M0 0h24v24H0V0z\" fill=\"none\"/>\n",
              "    <path d=\"M18.56 5.44l.94 2.06.94-2.06 2.06-.94-2.06-.94-.94-2.06-.94 2.06-2.06.94zm-11 1L8.5 8.5l.94-2.06 2.06-.94-2.06-.94L8.5 2.5l-.94 2.06-2.06.94zm10 10l.94 2.06.94-2.06 2.06-.94-2.06-.94-.94-2.06-.94 2.06-2.06.94z\"/><path d=\"M17.41 7.96l-1.37-1.37c-.4-.4-.92-.59-1.43-.59-.52 0-1.04.2-1.43.59L10.3 9.45l-7.72 7.72c-.78.78-.78 2.05 0 2.83L4 21.41c.39.39.9.59 1.41.59.51 0 1.02-.2 1.41-.59l7.78-7.78 2.81-2.81c.8-.78.8-2.07 0-2.86zM5.41 20L4 18.59l7.72-7.72 1.47 1.35L5.41 20z\"/>\n",
              "  </svg>\n",
              "      </button>\n",
              "      \n",
              "  <style>\n",
              "    .colab-df-container {\n",
              "      display:flex;\n",
              "      flex-wrap:wrap;\n",
              "      gap: 12px;\n",
              "    }\n",
              "\n",
              "    .colab-df-convert {\n",
              "      background-color: #E8F0FE;\n",
              "      border: none;\n",
              "      border-radius: 50%;\n",
              "      cursor: pointer;\n",
              "      display: none;\n",
              "      fill: #1967D2;\n",
              "      height: 32px;\n",
              "      padding: 0 0 0 0;\n",
              "      width: 32px;\n",
              "    }\n",
              "\n",
              "    .colab-df-convert:hover {\n",
              "      background-color: #E2EBFA;\n",
              "      box-shadow: 0px 1px 2px rgba(60, 64, 67, 0.3), 0px 1px 3px 1px rgba(60, 64, 67, 0.15);\n",
              "      fill: #174EA6;\n",
              "    }\n",
              "\n",
              "    [theme=dark] .colab-df-convert {\n",
              "      background-color: #3B4455;\n",
              "      fill: #D2E3FC;\n",
              "    }\n",
              "\n",
              "    [theme=dark] .colab-df-convert:hover {\n",
              "      background-color: #434B5C;\n",
              "      box-shadow: 0px 1px 3px 1px rgba(0, 0, 0, 0.15);\n",
              "      filter: drop-shadow(0px 1px 2px rgba(0, 0, 0, 0.3));\n",
              "      fill: #FFFFFF;\n",
              "    }\n",
              "  </style>\n",
              "\n",
              "      <script>\n",
              "        const buttonEl =\n",
              "          document.querySelector('#df-aff5abf5-794f-4783-9f10-6a3bd55529fe button.colab-df-convert');\n",
              "        buttonEl.style.display =\n",
              "          google.colab.kernel.accessAllowed ? 'block' : 'none';\n",
              "\n",
              "        async function convertToInteractive(key) {\n",
              "          const element = document.querySelector('#df-aff5abf5-794f-4783-9f10-6a3bd55529fe');\n",
              "          const dataTable =\n",
              "            await google.colab.kernel.invokeFunction('convertToInteractive',\n",
              "                                                     [key], {});\n",
              "          if (!dataTable) return;\n",
              "\n",
              "          const docLinkHtml = 'Like what you see? Visit the ' +\n",
              "            '<a target=\"_blank\" href=https://colab.research.google.com/notebooks/data_table.ipynb>data table notebook</a>'\n",
              "            + ' to learn more about interactive tables.';\n",
              "          element.innerHTML = '';\n",
              "          dataTable['output_type'] = 'display_data';\n",
              "          await google.colab.output.renderOutput(dataTable, element);\n",
              "          const docLink = document.createElement('div');\n",
              "          docLink.innerHTML = docLinkHtml;\n",
              "          element.appendChild(docLink);\n",
              "        }\n",
              "      </script>\n",
              "    </div>\n",
              "  </div>\n",
              "  "
            ],
            "text/plain": [
              "    SrcLoad  DstLoad   SIntPkt  DIntPkt  ...  Packet_num  Temp  Pulse_Rate  Label\n",
              "0  276914.0  92305.0  3.582333   1.9015  ...         1.0  28.9         0.0      0\n",
              "1  230984.0  76995.0  4.294667   2.9015  ...         2.0  28.9         0.0      0\n",
              "2  218470.0  72823.0  4.540667   3.2945  ...         3.0  28.9       104.0      0\n",
              "3  203376.0  67792.0  4.877667   3.3320  ...         4.0  28.9       104.0      0\n",
              "4  235723.0  78574.0  4.208333   2.8635  ...         5.0  28.9       101.0      0\n",
              "\n",
              "[5 rows x 12 columns]"
            ]
          },
          "metadata": {},
          "execution_count": 24
        }
      ]
    },
    {
      "cell_type": "code",
      "source": [
        ""
      ],
      "metadata": {
        "id": "-SSZARkn4705"
      },
      "execution_count": null,
      "outputs": []
    },
    {
      "cell_type": "code",
      "source": [
        ""
      ],
      "metadata": {
        "id": "_vEC6BId5Bkj"
      },
      "execution_count": null,
      "outputs": []
    },
    {
      "cell_type": "code",
      "source": [
        "df_new.shape"
      ],
      "metadata": {
        "colab": {
          "base_uri": "https://localhost:8080/"
        },
        "id": "UBvBIKqLn79s",
        "outputId": "a95440c0-e4e5-47a3-e224-b1d3aba6d27c"
      },
      "execution_count": null,
      "outputs": [
        {
          "output_type": "execute_result",
          "data": {
            "text/plain": [
              "(16318, 12)"
            ]
          },
          "metadata": {},
          "execution_count": 17
        }
      ]
    },
    {
      "cell_type": "code",
      "source": [
        "#df_new.loc[df_new['Sport'] == 'dircproxy']\n",
        "df1.loc[df1['Sport'] == 'fido']\n",
        "df1 = df_new.drop([7923])"
      ],
      "metadata": {
        "id": "tPzyG45RhLll"
      },
      "execution_count": null,
      "outputs": []
    },
    {
      "cell_type": "code",
      "source": [
        "df1 = df_new.drop([7923])"
      ],
      "metadata": {
        "id": "5Wul6TrKmmVM"
      },
      "execution_count": null,
      "outputs": []
    },
    {
      "cell_type": "code",
      "source": [
        "df1.loc[df1['Sport'] == 'fido']"
      ],
      "metadata": {
        "id": "cgGIEjrYhVWg"
      },
      "execution_count": null,
      "outputs": []
    },
    {
      "cell_type": "code",
      "source": [
        "df_new['Pulse_Rate'].value_counts()"
      ],
      "metadata": {
        "colab": {
          "base_uri": "https://localhost:8080/"
        },
        "id": "Xm9Dn0IJgM5V",
        "outputId": "d300379f-321a-41b7-a430-60d40c12d2ae"
      },
      "execution_count": null,
      "outputs": [
        {
          "output_type": "execute_result",
          "data": {
            "text/plain": [
              "73     5582\n",
              "72     2566\n",
              "76      674\n",
              "75      663\n",
              "79      595\n",
              "       ... \n",
              "124       2\n",
              "175       1\n",
              "64        1\n",
              "155       1\n",
              "122       1\n",
              "Name: Pulse_Rate, Length: 78, dtype: int64"
            ]
          },
          "metadata": {},
          "execution_count": 9
        }
      ]
    },
    {
      "cell_type": "code",
      "source": [
        "#Creating Client1 and Client2 spilits:\n",
        "client_df1 =  df1[:len(df1.index)//2]\n",
        "client_df2 =  df1[len(df1.index)//2:]"
      ],
      "metadata": {
        "id": "AZoPbkFwILUZ"
      },
      "execution_count": null,
      "outputs": []
    },
    {
      "cell_type": "code",
      "source": [
        "#Creating Client1 and Client2 spilits:\n",
        "#client_df1 =  df_dropped[:len(df_dropped.index)//2]\n",
        "#client_df2 =  df_dropped[len(df_dropped.index)//2:]"
      ],
      "metadata": {
        "id": "JvJCErN6nO25"
      },
      "execution_count": null,
      "outputs": []
    },
    {
      "cell_type": "code",
      "source": [
        ""
      ],
      "metadata": {
        "id": "Dtm8_xhDi-jz"
      },
      "execution_count": null,
      "outputs": []
    },
    {
      "cell_type": "code",
      "source": [
        "client_df1.head()"
      ],
      "metadata": {
        "colab": {
          "base_uri": "https://localhost:8080/",
          "height": 206
        },
        "id": "2mYoq2UYIyi1",
        "outputId": "23d2b447-4936-440a-e45b-81f820be3648"
      },
      "execution_count": null,
      "outputs": [
        {
          "output_type": "execute_result",
          "data": {
            "text/html": [
              "\n",
              "  <div id=\"df-5491545f-6119-4b62-a305-910a7ea6f280\">\n",
              "    <div class=\"colab-df-container\">\n",
              "      <div>\n",
              "<style scoped>\n",
              "    .dataframe tbody tr th:only-of-type {\n",
              "        vertical-align: middle;\n",
              "    }\n",
              "\n",
              "    .dataframe tbody tr th {\n",
              "        vertical-align: top;\n",
              "    }\n",
              "\n",
              "    .dataframe thead th {\n",
              "        text-align: right;\n",
              "    }\n",
              "</style>\n",
              "<table border=\"1\" class=\"dataframe\">\n",
              "  <thead>\n",
              "    <tr style=\"text-align: right;\">\n",
              "      <th></th>\n",
              "      <th>SrcLoad</th>\n",
              "      <th>DstLoad</th>\n",
              "      <th>SIntPkt</th>\n",
              "      <th>DIntPkt</th>\n",
              "      <th>SrcJitter</th>\n",
              "      <th>DstJitter</th>\n",
              "      <th>Dur</th>\n",
              "      <th>Load</th>\n",
              "      <th>Packet_num</th>\n",
              "      <th>Temp</th>\n",
              "      <th>Pulse_Rate</th>\n",
              "      <th>Label</th>\n",
              "    </tr>\n",
              "  </thead>\n",
              "  <tbody>\n",
              "    <tr>\n",
              "      <th>0</th>\n",
              "      <td>276914.0</td>\n",
              "      <td>92305.0</td>\n",
              "      <td>3.582333</td>\n",
              "      <td>1.9015</td>\n",
              "      <td>2.946239</td>\n",
              "      <td>1.6235</td>\n",
              "      <td>0.010747</td>\n",
              "      <td>369219.0</td>\n",
              "      <td>1.0</td>\n",
              "      <td>28.9</td>\n",
              "      <td>0.0</td>\n",
              "      <td>0</td>\n",
              "    </tr>\n",
              "    <tr>\n",
              "      <th>1</th>\n",
              "      <td>230984.0</td>\n",
              "      <td>76995.0</td>\n",
              "      <td>4.294667</td>\n",
              "      <td>2.9015</td>\n",
              "      <td>3.091654</td>\n",
              "      <td>2.8625</td>\n",
              "      <td>0.012884</td>\n",
              "      <td>307979.0</td>\n",
              "      <td>2.0</td>\n",
              "      <td>28.9</td>\n",
              "      <td>0.0</td>\n",
              "      <td>0</td>\n",
              "    </tr>\n",
              "    <tr>\n",
              "      <th>2</th>\n",
              "      <td>218470.0</td>\n",
              "      <td>72823.0</td>\n",
              "      <td>4.540667</td>\n",
              "      <td>3.2945</td>\n",
              "      <td>2.849841</td>\n",
              "      <td>3.1655</td>\n",
              "      <td>0.013622</td>\n",
              "      <td>291293.0</td>\n",
              "      <td>3.0</td>\n",
              "      <td>28.9</td>\n",
              "      <td>104.0</td>\n",
              "      <td>0</td>\n",
              "    </tr>\n",
              "    <tr>\n",
              "      <th>3</th>\n",
              "      <td>203376.0</td>\n",
              "      <td>67792.0</td>\n",
              "      <td>4.877667</td>\n",
              "      <td>3.3320</td>\n",
              "      <td>2.452252</td>\n",
              "      <td>3.2570</td>\n",
              "      <td>0.014633</td>\n",
              "      <td>271168.0</td>\n",
              "      <td>4.0</td>\n",
              "      <td>28.9</td>\n",
              "      <td>104.0</td>\n",
              "      <td>0</td>\n",
              "    </tr>\n",
              "    <tr>\n",
              "      <th>4</th>\n",
              "      <td>235723.0</td>\n",
              "      <td>78574.0</td>\n",
              "      <td>4.208333</td>\n",
              "      <td>2.8635</td>\n",
              "      <td>3.021835</td>\n",
              "      <td>2.8225</td>\n",
              "      <td>0.012625</td>\n",
              "      <td>314297.0</td>\n",
              "      <td>5.0</td>\n",
              "      <td>28.9</td>\n",
              "      <td>101.0</td>\n",
              "      <td>0</td>\n",
              "    </tr>\n",
              "  </tbody>\n",
              "</table>\n",
              "</div>\n",
              "      <button class=\"colab-df-convert\" onclick=\"convertToInteractive('df-5491545f-6119-4b62-a305-910a7ea6f280')\"\n",
              "              title=\"Convert this dataframe to an interactive table.\"\n",
              "              style=\"display:none;\">\n",
              "        \n",
              "  <svg xmlns=\"http://www.w3.org/2000/svg\" height=\"24px\"viewBox=\"0 0 24 24\"\n",
              "       width=\"24px\">\n",
              "    <path d=\"M0 0h24v24H0V0z\" fill=\"none\"/>\n",
              "    <path d=\"M18.56 5.44l.94 2.06.94-2.06 2.06-.94-2.06-.94-.94-2.06-.94 2.06-2.06.94zm-11 1L8.5 8.5l.94-2.06 2.06-.94-2.06-.94L8.5 2.5l-.94 2.06-2.06.94zm10 10l.94 2.06.94-2.06 2.06-.94-2.06-.94-.94-2.06-.94 2.06-2.06.94z\"/><path d=\"M17.41 7.96l-1.37-1.37c-.4-.4-.92-.59-1.43-.59-.52 0-1.04.2-1.43.59L10.3 9.45l-7.72 7.72c-.78.78-.78 2.05 0 2.83L4 21.41c.39.39.9.59 1.41.59.51 0 1.02-.2 1.41-.59l7.78-7.78 2.81-2.81c.8-.78.8-2.07 0-2.86zM5.41 20L4 18.59l7.72-7.72 1.47 1.35L5.41 20z\"/>\n",
              "  </svg>\n",
              "      </button>\n",
              "      \n",
              "  <style>\n",
              "    .colab-df-container {\n",
              "      display:flex;\n",
              "      flex-wrap:wrap;\n",
              "      gap: 12px;\n",
              "    }\n",
              "\n",
              "    .colab-df-convert {\n",
              "      background-color: #E8F0FE;\n",
              "      border: none;\n",
              "      border-radius: 50%;\n",
              "      cursor: pointer;\n",
              "      display: none;\n",
              "      fill: #1967D2;\n",
              "      height: 32px;\n",
              "      padding: 0 0 0 0;\n",
              "      width: 32px;\n",
              "    }\n",
              "\n",
              "    .colab-df-convert:hover {\n",
              "      background-color: #E2EBFA;\n",
              "      box-shadow: 0px 1px 2px rgba(60, 64, 67, 0.3), 0px 1px 3px 1px rgba(60, 64, 67, 0.15);\n",
              "      fill: #174EA6;\n",
              "    }\n",
              "\n",
              "    [theme=dark] .colab-df-convert {\n",
              "      background-color: #3B4455;\n",
              "      fill: #D2E3FC;\n",
              "    }\n",
              "\n",
              "    [theme=dark] .colab-df-convert:hover {\n",
              "      background-color: #434B5C;\n",
              "      box-shadow: 0px 1px 3px 1px rgba(0, 0, 0, 0.15);\n",
              "      filter: drop-shadow(0px 1px 2px rgba(0, 0, 0, 0.3));\n",
              "      fill: #FFFFFF;\n",
              "    }\n",
              "  </style>\n",
              "\n",
              "      <script>\n",
              "        const buttonEl =\n",
              "          document.querySelector('#df-5491545f-6119-4b62-a305-910a7ea6f280 button.colab-df-convert');\n",
              "        buttonEl.style.display =\n",
              "          google.colab.kernel.accessAllowed ? 'block' : 'none';\n",
              "\n",
              "        async function convertToInteractive(key) {\n",
              "          const element = document.querySelector('#df-5491545f-6119-4b62-a305-910a7ea6f280');\n",
              "          const dataTable =\n",
              "            await google.colab.kernel.invokeFunction('convertToInteractive',\n",
              "                                                     [key], {});\n",
              "          if (!dataTable) return;\n",
              "\n",
              "          const docLinkHtml = 'Like what you see? Visit the ' +\n",
              "            '<a target=\"_blank\" href=https://colab.research.google.com/notebooks/data_table.ipynb>data table notebook</a>'\n",
              "            + ' to learn more about interactive tables.';\n",
              "          element.innerHTML = '';\n",
              "          dataTable['output_type'] = 'display_data';\n",
              "          await google.colab.output.renderOutput(dataTable, element);\n",
              "          const docLink = document.createElement('div');\n",
              "          docLink.innerHTML = docLinkHtml;\n",
              "          element.appendChild(docLink);\n",
              "        }\n",
              "      </script>\n",
              "    </div>\n",
              "  </div>\n",
              "  "
            ],
            "text/plain": [
              "    SrcLoad  DstLoad   SIntPkt  DIntPkt  ...  Packet_num  Temp  Pulse_Rate  Label\n",
              "0  276914.0  92305.0  3.582333   1.9015  ...         1.0  28.9         0.0      0\n",
              "1  230984.0  76995.0  4.294667   2.9015  ...         2.0  28.9         0.0      0\n",
              "2  218470.0  72823.0  4.540667   3.2945  ...         3.0  28.9       104.0      0\n",
              "3  203376.0  67792.0  4.877667   3.3320  ...         4.0  28.9       104.0      0\n",
              "4  235723.0  78574.0  4.208333   2.8635  ...         5.0  28.9       101.0      0\n",
              "\n",
              "[5 rows x 12 columns]"
            ]
          },
          "metadata": {},
          "execution_count": 22
        }
      ]
    },
    {
      "cell_type": "code",
      "source": [
        "client_df1['Label'].value_counts()"
      ],
      "metadata": {
        "colab": {
          "base_uri": "https://localhost:8080/"
        },
        "id": "f7HTsVS4ScJL",
        "outputId": "df6214ed-9a5e-4f54-b508-ca553c654538"
      },
      "execution_count": null,
      "outputs": [
        {
          "output_type": "execute_result",
          "data": {
            "text/plain": [
              "0    7046\n",
              "1    1113\n",
              "Name: Label, dtype: int64"
            ]
          },
          "metadata": {},
          "execution_count": 40
        }
      ]
    },
    {
      "cell_type": "code",
      "source": [
        "client_df2['Label'].value_counts()"
      ],
      "metadata": {
        "colab": {
          "base_uri": "https://localhost:8080/"
        },
        "id": "nlWJ3SUZJGlE",
        "outputId": "fa9bb2db-951e-43c0-c97a-37362e359673"
      },
      "execution_count": null,
      "outputs": [
        {
          "output_type": "execute_result",
          "data": {
            "text/plain": [
              "0    7225\n",
              "1     933\n",
              "Name: Label, dtype: int64"
            ]
          },
          "metadata": {},
          "execution_count": 41
        }
      ]
    },
    {
      "cell_type": "code",
      "source": [
        "EPOCHS = 100\n",
        "BATCH_SIZE = 64"
      ],
      "metadata": {
        "id": "4133du8PTVT8"
      },
      "execution_count": null,
      "outputs": []
    },
    {
      "cell_type": "markdown",
      "source": [
        "Dir\tFlgs\t['SrcAddr',\t'DstAddr', 'Dport',\t'SrcBytes',\t'DstBytes',\t'SrcGap',\t'DstGap',\t'SIntPkt',\t'DIntPkt', 'sMaxPktSz',\t'dMaxPktSz',\t'sMinPktSz',\t'dMinPktSz', 'Trans',\t'TotPkts',\t'TotBytes',\t'Loss',\t'pLoss',\t'pSrcLoss',\t'pDstLoss',\t'Rate',\t'SrcMac',\t'DstMac',\t'SpO2',\t'SYS',\t'DIA',\t'Heart_rate',\t'Resp_Rate',\t'ST']\t"
      ],
      "metadata": {
        "id": "GK6FYflcWlbB"
      }
    },
    {
      "cell_type": "code",
      "source": [
        "def make_tf_dataset(dataframe, negative_ratio=None, batch_size=None):\n",
        "    dataset = dataframe.drop(['Dur']\t, axis=1)\n",
        "\n",
        "    # Class balancing\n",
        "    pos_df = dataset[dataset['Label'] == 1]\n",
        "    neg_df = dataset[dataset['Label'] == 0]\n",
        "    if negative_ratio:\n",
        "        neg_df = neg_df.iloc[random.sample(range(0, len(neg_df)), len(pos_df)*negative_ratio), :]\n",
        "    balanced_df = pd.concat([pos_df, neg_df], ignore_index=True, sort=False)\n",
        "\n",
        "    y = balanced_df.pop('Label')\n",
        "    \n",
        "    # Dataset creation\n",
        "    dataset = tf.data.Dataset.from_tensor_slices((balanced_df.values, y.to_frame().values))\n",
        "    dataset = dataset.shuffle(2048, seed=SEED)\n",
        "    if batch_size:\n",
        "        dataset = dataset.batch(batch_size)\n",
        "\n",
        "    return dataset"
      ],
      "metadata": {
        "id": "QyJwuM-STYhT"
      },
      "execution_count": null,
      "outputs": []
    },
    {
      "cell_type": "code",
      "source": [
        "train_data, val_data = [], []\n",
        "for client_data in [client_df1, client_df2]:\n",
        "    train_df, val_df = train_test_split(client_data, test_size=0.1, random_state=SEED)\n",
        "\n",
        "    # Scaling (Standardization actually hurts performance) \n",
        "    scaler = MinMaxScaler() \n",
        "    train_features = scaler.fit_transform(train_df.drop(['Label'], axis=1))\n",
        "    val_features = scaler.transform(val_df.drop(['Label'], axis=1))\n",
        "\n",
        "    train_df[train_df.columns.difference(['Label'])] = train_features\n",
        "    val_df[val_df.columns.difference(['Label'])] = val_features\n",
        "\n",
        "    # TF Datasets\n",
        "    train_data.append(make_tf_dataset(train_df, negative_ratio=2, batch_size=BATCH_SIZE))\n",
        "    val_data.append(make_tf_dataset(val_df, batch_size=1))"
      ],
      "metadata": {
        "id": "ObAD8e2jTcIX"
      },
      "execution_count": null,
      "outputs": []
    },
    {
      "cell_type": "code",
      "source": [
        "def input_spec():\n",
        "    return (\n",
        "        tf.TensorSpec([None,10], tf.float64),\n",
        "        tf.TensorSpec([None, 1], tf.int64)\n",
        "    )\n",
        "\n",
        "def model_fn():\n",
        "    model = tf.keras.models.Sequential([\n",
        "        tf.keras.layers.InputLayer(input_shape=(10,)),\n",
        "        tf.keras.layers.Dense(32, activation='relu'),\n",
        "        tf.keras.layers.Dense(64, activation='relu'),\n",
        "        tf.keras.layers.Dense(32, activation='relu'),\n",
        "        tf.keras.layers.Dense(1, activation='sigmoid'),\n",
        "    ])\n",
        "\n",
        "    return tff.learning.from_keras_model(\n",
        "        model,\n",
        "        input_spec=input_spec(),\n",
        "        loss=tf.keras.losses.BinaryCrossentropy(),\n",
        "        metrics=[BinaryAccuracy(), Precision(), Recall()])"
      ],
      "metadata": {
        "id": "o5YFsmbPqK6j"
      },
      "execution_count": null,
      "outputs": []
    },
    {
      "cell_type": "code",
      "source": [
        "trainer = tff.learning.build_federated_averaging_process(\n",
        "    model_fn,\n",
        "    client_optimizer_fn=lambda: tf.keras.optimizers.Adam(),\n",
        "    server_optimizer_fn=lambda: tf.keras.optimizers.Adam()\n",
        ")\n",
        "\n",
        "state = trainer.initialize()\n",
        "train_hist = []\n",
        "for i in range(EPOCHS):\n",
        "    state, metrics = trainer.next(state, train_data)\n",
        "    train_hist.append(metrics)\n",
        "\n",
        "    print(f\"\\rRun {i+1}/{EPOCHS}\", end=\"\")"
      ],
      "metadata": {
        "colab": {
          "base_uri": "https://localhost:8080/"
        },
        "id": "9awnbCHYqOnX",
        "outputId": "a97291d4-9edf-4907-d01e-585a551a1189"
      },
      "execution_count": null,
      "outputs": [
        {
          "output_type": "stream",
          "name": "stdout",
          "text": [
            "Run 100/100"
          ]
        }
      ]
    },
    {
      "cell_type": "code",
      "source": [
        "evaluator = tff.learning.build_federated_evaluation(model_fn)"
      ],
      "metadata": {
        "id": "syGx7a0f6EO3"
      },
      "execution_count": null,
      "outputs": []
    },
    {
      "cell_type": "code",
      "source": [
        "federated_metrics = evaluator(state.model, val_data)\n",
        "federated_metrics"
      ],
      "metadata": {
        "colab": {
          "base_uri": "https://localhost:8080/"
        },
        "id": "y6Efwh2E6HnT",
        "outputId": "d4dedd03-649f-4728-8a0e-6d442c0372a4"
      },
      "execution_count": null,
      "outputs": [
        {
          "output_type": "execute_result",
          "data": {
            "text/plain": [
              "OrderedDict([('binary_accuracy', 0.85906863),\n",
              "             ('precision', 0.4549356),\n",
              "             ('recall', 0.50717705),\n",
              "             ('loss', 0.41670036)])"
            ]
          },
          "metadata": {},
          "execution_count": 35
        }
      ]
    },
    {
      "cell_type": "markdown",
      "source": [
        "# Single Model with all Data at once (for comparison)"
      ],
      "metadata": {
        "id": "is9DxlIh6Qg6"
      }
    },
    {
      "cell_type": "code",
      "source": [
        "train_data = train_data[0].concatenate(train_data[1])\n",
        "val_data = val_data[0].concatenate(val_data[1])"
      ],
      "metadata": {
        "id": "_nj4GN4l6WDP"
      },
      "execution_count": null,
      "outputs": []
    },
    {
      "cell_type": "code",
      "source": [
        "def model_fn():\n",
        "    model = tf.keras.models.Sequential([\n",
        "        tf.keras.layers.InputLayer(input_shape=(10,)),\n",
        "        tf.keras.layers.Dense(32, activation='relu'),\n",
        "        tf.keras.layers.Dense(64, activation='relu'),\n",
        "        tf.keras.layers.Dense(32, activation='relu'),\n",
        "        tf.keras.layers.Dense(1, activation='sigmoid'),\n",
        "    ])\n",
        "    \n",
        "    model.compile(\n",
        "        loss=tf.keras.losses.BinaryCrossentropy(),\n",
        "        optimizer=tf.keras.optimizers.Adam(),\n",
        "        metrics=[BinaryAccuracy(), Precision(), Recall()],\n",
        "    )\n",
        "    \n",
        "    return model"
      ],
      "metadata": {
        "id": "tq9e5ZFH6Z-8"
      },
      "execution_count": null,
      "outputs": []
    },
    {
      "cell_type": "code",
      "source": [
        "model = model_fn()\n",
        "history = model.fit(train_data, epochs=EPOCHS)"
      ],
      "metadata": {
        "colab": {
          "base_uri": "https://localhost:8080/"
        },
        "id": "0OoDYnry6c4K",
        "outputId": "575d49b7-68ee-4859-c6e5-701dfc0afe5b"
      },
      "execution_count": null,
      "outputs": [
        {
          "output_type": "stream",
          "name": "stdout",
          "text": [
            "Epoch 1/100\n",
            "74/74 [==============================] - 1s 2ms/step - loss: 0.5921 - binary_accuracy: 0.6948 - precision: 0.7365 - recall: 0.1314\n",
            "Epoch 2/100\n",
            "74/74 [==============================] - 0s 2ms/step - loss: 0.5375 - binary_accuracy: 0.7603 - precision: 0.7238 - recall: 0.4543\n",
            "Epoch 3/100\n",
            "74/74 [==============================] - 0s 2ms/step - loss: 0.5233 - binary_accuracy: 0.7554 - precision: 0.7051 - recall: 0.4575\n",
            "Epoch 4/100\n",
            "74/74 [==============================] - 0s 2ms/step - loss: 0.5198 - binary_accuracy: 0.7610 - precision: 0.7188 - recall: 0.4646\n",
            "Epoch 5/100\n",
            "74/74 [==============================] - 0s 2ms/step - loss: 0.5098 - binary_accuracy: 0.7657 - precision: 0.7384 - recall: 0.4601\n",
            "Epoch 6/100\n",
            "74/74 [==============================] - 0s 2ms/step - loss: 0.5041 - binary_accuracy: 0.7702 - precision: 0.7575 - recall: 0.4568\n",
            "Epoch 7/100\n",
            "74/74 [==============================] - 0s 2ms/step - loss: 0.4964 - binary_accuracy: 0.7708 - precision: 0.7610 - recall: 0.4555\n",
            "Epoch 8/100\n",
            "74/74 [==============================] - 0s 2ms/step - loss: 0.4898 - binary_accuracy: 0.7807 - precision: 0.8034 - recall: 0.4530\n",
            "Epoch 9/100\n",
            "74/74 [==============================] - 0s 2ms/step - loss: 0.4894 - binary_accuracy: 0.7887 - precision: 0.8438 - recall: 0.4491\n",
            "Epoch 10/100\n",
            "74/74 [==============================] - 0s 2ms/step - loss: 0.4809 - binary_accuracy: 0.7962 - precision: 0.8851 - recall: 0.4465\n",
            "Epoch 11/100\n",
            "74/74 [==============================] - 0s 2ms/step - loss: 0.4708 - binary_accuracy: 0.8039 - precision: 0.9323 - recall: 0.4439\n",
            "Epoch 12/100\n",
            "74/74 [==============================] - 0s 2ms/step - loss: 0.4677 - binary_accuracy: 0.8028 - precision: 0.9284 - recall: 0.4427\n",
            "Epoch 13/100\n",
            "74/74 [==============================] - 0s 2ms/step - loss: 0.4654 - binary_accuracy: 0.8050 - precision: 0.9387 - recall: 0.4439\n",
            "Epoch 14/100\n",
            "74/74 [==============================] - 0s 2ms/step - loss: 0.4627 - binary_accuracy: 0.8069 - precision: 0.9491 - recall: 0.4446\n",
            "Epoch 15/100\n",
            "74/74 [==============================] - 0s 2ms/step - loss: 0.4566 - binary_accuracy: 0.8078 - precision: 0.9569 - recall: 0.4433\n",
            "Epoch 16/100\n",
            "74/74 [==============================] - 0s 2ms/step - loss: 0.4560 - binary_accuracy: 0.8078 - precision: 0.9582 - recall: 0.4427\n",
            "Epoch 17/100\n",
            "74/74 [==============================] - 0s 2ms/step - loss: 0.4570 - binary_accuracy: 0.8078 - precision: 0.9582 - recall: 0.4427\n",
            "Epoch 18/100\n",
            "74/74 [==============================] - 0s 2ms/step - loss: 0.4540 - binary_accuracy: 0.8095 - precision: 0.9690 - recall: 0.4427\n",
            "Epoch 19/100\n",
            "74/74 [==============================] - 0s 2ms/step - loss: 0.4512 - binary_accuracy: 0.8088 - precision: 0.9623 - recall: 0.4439\n",
            "Epoch 20/100\n",
            "74/74 [==============================] - 0s 2ms/step - loss: 0.4444 - binary_accuracy: 0.8104 - precision: 0.9731 - recall: 0.4433\n",
            "Epoch 21/100\n",
            "74/74 [==============================] - 0s 2ms/step - loss: 0.4408 - binary_accuracy: 0.8099 - precision: 0.9691 - recall: 0.4439\n",
            "Epoch 22/100\n",
            "74/74 [==============================] - 0s 2ms/step - loss: 0.4368 - binary_accuracy: 0.8104 - precision: 0.9731 - recall: 0.4433\n",
            "Epoch 23/100\n",
            "74/74 [==============================] - 0s 2ms/step - loss: 0.4376 - binary_accuracy: 0.8116 - precision: 0.9720 - recall: 0.4478\n",
            "Epoch 24/100\n",
            "74/74 [==============================] - 0s 2ms/step - loss: 0.4335 - binary_accuracy: 0.8127 - precision: 0.9775 - recall: 0.4485\n",
            "Epoch 25/100\n",
            "74/74 [==============================] - 0s 2ms/step - loss: 0.4321 - binary_accuracy: 0.8123 - precision: 0.9669 - recall: 0.4523\n",
            "Epoch 26/100\n",
            "74/74 [==============================] - 0s 2ms/step - loss: 0.4304 - binary_accuracy: 0.8123 - precision: 0.9644 - recall: 0.4536\n",
            "Epoch 27/100\n",
            "74/74 [==============================] - 0s 2ms/step - loss: 0.4310 - binary_accuracy: 0.8123 - precision: 0.9581 - recall: 0.4568\n",
            "Epoch 28/100\n",
            "74/74 [==============================] - 0s 2ms/step - loss: 0.4322 - binary_accuracy: 0.8108 - precision: 0.9491 - recall: 0.4568\n",
            "Epoch 29/100\n",
            "74/74 [==============================] - 0s 2ms/step - loss: 0.4276 - binary_accuracy: 0.8114 - precision: 0.9388 - recall: 0.4646\n",
            "Epoch 30/100\n",
            "74/74 [==============================] - 0s 2ms/step - loss: 0.4304 - binary_accuracy: 0.8149 - precision: 0.9688 - recall: 0.4594\n",
            "Epoch 31/100\n",
            "74/74 [==============================] - 0s 2ms/step - loss: 0.4252 - binary_accuracy: 0.8121 - precision: 0.9544 - recall: 0.4581\n",
            "Epoch 32/100\n",
            "74/74 [==============================] - 0s 2ms/step - loss: 0.4240 - binary_accuracy: 0.8131 - precision: 0.9646 - recall: 0.4562\n",
            "Epoch 33/100\n",
            "74/74 [==============================] - 0s 2ms/step - loss: 0.4224 - binary_accuracy: 0.8136 - precision: 0.9524 - recall: 0.4639\n",
            "Epoch 34/100\n",
            "74/74 [==============================] - 0s 2ms/step - loss: 0.4227 - binary_accuracy: 0.8121 - precision: 0.9425 - recall: 0.4646\n",
            "Epoch 35/100\n",
            "74/74 [==============================] - 0s 2ms/step - loss: 0.4266 - binary_accuracy: 0.8129 - precision: 0.9558 - recall: 0.4601\n",
            "Epoch 36/100\n",
            "74/74 [==============================] - 0s 2ms/step - loss: 0.4332 - binary_accuracy: 0.8093 - precision: 0.9192 - recall: 0.4691\n",
            "Epoch 37/100\n",
            "74/74 [==============================] - 0s 2ms/step - loss: 0.4258 - binary_accuracy: 0.8112 - precision: 0.9399 - recall: 0.4633\n",
            "Epoch 38/100\n",
            "74/74 [==============================] - 0s 2ms/step - loss: 0.4219 - binary_accuracy: 0.8127 - precision: 0.9509 - recall: 0.4620\n",
            "Epoch 39/100\n",
            "74/74 [==============================] - 0s 2ms/step - loss: 0.4245 - binary_accuracy: 0.8134 - precision: 0.9559 - recall: 0.4613\n",
            "Epoch 40/100\n",
            "74/74 [==============================] - 0s 2ms/step - loss: 0.4275 - binary_accuracy: 0.8099 - precision: 0.9248 - recall: 0.4678\n",
            "Epoch 41/100\n",
            "74/74 [==============================] - 0s 2ms/step - loss: 0.4252 - binary_accuracy: 0.8110 - precision: 0.9375 - recall: 0.4639\n",
            "Epoch 42/100\n",
            "74/74 [==============================] - 0s 2ms/step - loss: 0.4206 - binary_accuracy: 0.8134 - precision: 0.9621 - recall: 0.4581\n",
            "Epoch 43/100\n",
            "74/74 [==============================] - 0s 2ms/step - loss: 0.4260 - binary_accuracy: 0.8127 - precision: 0.9370 - recall: 0.4697\n",
            "Epoch 44/100\n",
            "74/74 [==============================] - 0s 2ms/step - loss: 0.4209 - binary_accuracy: 0.8155 - precision: 0.9577 - recall: 0.4671\n",
            "Epoch 45/100\n",
            "74/74 [==============================] - 0s 2ms/step - loss: 0.4196 - binary_accuracy: 0.8114 - precision: 0.9332 - recall: 0.4678\n",
            "Epoch 46/100\n",
            "74/74 [==============================] - 0s 2ms/step - loss: 0.4257 - binary_accuracy: 0.8112 - precision: 0.9287 - recall: 0.4697\n",
            "Epoch 47/100\n",
            "74/74 [==============================] - 0s 2ms/step - loss: 0.4217 - binary_accuracy: 0.8142 - precision: 0.9673 - recall: 0.4581\n",
            "Epoch 48/100\n",
            "74/74 [==============================] - 0s 2ms/step - loss: 0.4245 - binary_accuracy: 0.8116 - precision: 0.9235 - recall: 0.4742\n",
            "Epoch 49/100\n",
            "74/74 [==============================] - 0s 2ms/step - loss: 0.4207 - binary_accuracy: 0.8127 - precision: 0.9271 - recall: 0.4755\n",
            "Epoch 50/100\n",
            "74/74 [==============================] - 0s 2ms/step - loss: 0.4193 - binary_accuracy: 0.8134 - precision: 0.9296 - recall: 0.4762\n",
            "Epoch 51/100\n",
            "74/74 [==============================] - 0s 2ms/step - loss: 0.4165 - binary_accuracy: 0.8136 - precision: 0.9572 - recall: 0.4613\n",
            "Epoch 52/100\n",
            "74/74 [==============================] - 0s 2ms/step - loss: 0.4168 - binary_accuracy: 0.8116 - precision: 0.9366 - recall: 0.4665\n",
            "Epoch 53/100\n",
            "74/74 [==============================] - 0s 2ms/step - loss: 0.4190 - binary_accuracy: 0.8129 - precision: 0.9283 - recall: 0.4755\n",
            "Epoch 54/100\n",
            "74/74 [==============================] - 0s 2ms/step - loss: 0.4139 - binary_accuracy: 0.8131 - precision: 0.9372 - recall: 0.4710\n",
            "Epoch 55/100\n",
            "74/74 [==============================] - 0s 2ms/step - loss: 0.4198 - binary_accuracy: 0.8134 - precision: 0.9328 - recall: 0.4742\n",
            "Epoch 56/100\n",
            "74/74 [==============================] - 0s 2ms/step - loss: 0.4214 - binary_accuracy: 0.8140 - precision: 0.9320 - recall: 0.4768\n",
            "Epoch 57/100\n",
            "74/74 [==============================] - 0s 2ms/step - loss: 0.4287 - binary_accuracy: 0.8121 - precision: 0.9195 - recall: 0.4781\n",
            "Epoch 58/100\n",
            "74/74 [==============================] - 0s 2ms/step - loss: 0.4152 - binary_accuracy: 0.8129 - precision: 0.9620 - recall: 0.4568\n",
            "Epoch 59/100\n",
            "74/74 [==============================] - 0s 2ms/step - loss: 0.4152 - binary_accuracy: 0.8146 - precision: 0.9445 - recall: 0.4716\n",
            "Epoch 60/100\n",
            "74/74 [==============================] - 0s 2ms/step - loss: 0.4193 - binary_accuracy: 0.8129 - precision: 0.9327 - recall: 0.4729\n",
            "Epoch 61/100\n",
            "74/74 [==============================] - 0s 2ms/step - loss: 0.4196 - binary_accuracy: 0.8106 - precision: 0.9385 - recall: 0.4620\n",
            "Epoch 62/100\n",
            "74/74 [==============================] - 0s 2ms/step - loss: 0.4161 - binary_accuracy: 0.8127 - precision: 0.9337 - recall: 0.4716\n",
            "Epoch 63/100\n",
            "74/74 [==============================] - 0s 2ms/step - loss: 0.4186 - binary_accuracy: 0.8123 - precision: 0.9380 - recall: 0.4678\n",
            "Epoch 64/100\n",
            "74/74 [==============================] - 0s 2ms/step - loss: 0.4175 - binary_accuracy: 0.8125 - precision: 0.9497 - recall: 0.4620\n",
            "Epoch 65/100\n",
            "74/74 [==============================] - 0s 2ms/step - loss: 0.4164 - binary_accuracy: 0.8131 - precision: 0.9372 - recall: 0.4710\n",
            "Epoch 66/100\n",
            "74/74 [==============================] - 0s 2ms/step - loss: 0.4158 - binary_accuracy: 0.8114 - precision: 0.9309 - recall: 0.4691\n",
            "Epoch 67/100\n",
            "74/74 [==============================] - 0s 2ms/step - loss: 0.4132 - binary_accuracy: 0.8155 - precision: 0.9315 - recall: 0.4820\n",
            "Epoch 68/100\n",
            "74/74 [==============================] - 0s 2ms/step - loss: 0.4170 - binary_accuracy: 0.8136 - precision: 0.9373 - recall: 0.4723\n",
            "Epoch 69/100\n",
            "74/74 [==============================] - 0s 2ms/step - loss: 0.4174 - binary_accuracy: 0.8119 - precision: 0.9344 - recall: 0.4684\n",
            "Epoch 70/100\n",
            "74/74 [==============================] - 0s 2ms/step - loss: 0.4151 - binary_accuracy: 0.8129 - precision: 0.9188 - recall: 0.4813\n",
            "Epoch 71/100\n",
            "74/74 [==============================] - 0s 2ms/step - loss: 0.4145 - binary_accuracy: 0.8155 - precision: 0.9315 - recall: 0.4820\n",
            "Epoch 72/100\n",
            "74/74 [==============================] - 0s 2ms/step - loss: 0.4155 - binary_accuracy: 0.8131 - precision: 0.9169 - recall: 0.4832\n",
            "Epoch 73/100\n",
            "74/74 [==============================] - 0s 2ms/step - loss: 0.4143 - binary_accuracy: 0.8142 - precision: 0.9288 - recall: 0.4794\n",
            "Epoch 74/100\n",
            "74/74 [==============================] - 0s 2ms/step - loss: 0.4177 - binary_accuracy: 0.8112 - precision: 0.9129 - recall: 0.4794\n",
            "Epoch 75/100\n",
            "74/74 [==============================] - 0s 2ms/step - loss: 0.4148 - binary_accuracy: 0.8134 - precision: 0.9584 - recall: 0.4601\n",
            "Epoch 76/100\n",
            "74/74 [==============================] - 0s 2ms/step - loss: 0.4187 - binary_accuracy: 0.8153 - precision: 0.9251 - recall: 0.4852\n",
            "Epoch 77/100\n",
            "74/74 [==============================] - 0s 2ms/step - loss: 0.4148 - binary_accuracy: 0.8116 - precision: 0.9310 - recall: 0.4697\n",
            "Epoch 78/100\n",
            "74/74 [==============================] - 0s 2ms/step - loss: 0.4128 - binary_accuracy: 0.8168 - precision: 0.9475 - recall: 0.4768\n",
            "Epoch 79/100\n",
            "74/74 [==============================] - 0s 2ms/step - loss: 0.4104 - binary_accuracy: 0.8168 - precision: 0.9533 - recall: 0.4736\n",
            "Epoch 80/100\n",
            "74/74 [==============================] - 0s 2ms/step - loss: 0.4132 - binary_accuracy: 0.8149 - precision: 0.9412 - recall: 0.4742\n",
            "Epoch 81/100\n",
            "74/74 [==============================] - 0s 2ms/step - loss: 0.4120 - binary_accuracy: 0.8153 - precision: 0.9347 - recall: 0.4794\n",
            "Epoch 82/100\n",
            "74/74 [==============================] - 0s 2ms/step - loss: 0.4121 - binary_accuracy: 0.8170 - precision: 0.9476 - recall: 0.4774\n",
            "Epoch 83/100\n",
            "74/74 [==============================] - 0s 2ms/step - loss: 0.4132 - binary_accuracy: 0.8155 - precision: 0.9315 - recall: 0.4820\n",
            "Epoch 84/100\n",
            "74/74 [==============================] - 0s 2ms/step - loss: 0.4102 - binary_accuracy: 0.8140 - precision: 0.9397 - recall: 0.4723\n",
            "Epoch 85/100\n",
            "74/74 [==============================] - 0s 2ms/step - loss: 0.4108 - binary_accuracy: 0.8127 - precision: 0.9229 - recall: 0.4781\n",
            "Epoch 86/100\n",
            "74/74 [==============================] - 0s 2ms/step - loss: 0.4136 - binary_accuracy: 0.8127 - precision: 0.9187 - recall: 0.4807\n",
            "Epoch 87/100\n",
            "74/74 [==============================] - 0s 2ms/step - loss: 0.4206 - binary_accuracy: 0.8112 - precision: 0.9129 - recall: 0.4794\n",
            "Epoch 88/100\n",
            "74/74 [==============================] - 0s 2ms/step - loss: 0.4173 - binary_accuracy: 0.8153 - precision: 0.9402 - recall: 0.4762\n",
            "Epoch 89/100\n",
            "74/74 [==============================] - 0s 2ms/step - loss: 0.4094 - binary_accuracy: 0.8151 - precision: 0.9564 - recall: 0.4665\n",
            "Epoch 90/100\n",
            "74/74 [==============================] - 0s 2ms/step - loss: 0.4125 - binary_accuracy: 0.8131 - precision: 0.9021 - recall: 0.4929\n",
            "Epoch 91/100\n",
            "74/74 [==============================] - 0s 2ms/step - loss: 0.4129 - binary_accuracy: 0.8144 - precision: 0.9257 - recall: 0.4820\n",
            "Epoch 92/100\n",
            "74/74 [==============================] - 0s 2ms/step - loss: 0.4133 - binary_accuracy: 0.8134 - precision: 0.9190 - recall: 0.4826\n",
            "Epoch 93/100\n",
            "74/74 [==============================] - 0s 2ms/step - loss: 0.4125 - binary_accuracy: 0.8140 - precision: 0.9420 - recall: 0.4710\n",
            "Epoch 94/100\n",
            "74/74 [==============================] - 0s 2ms/step - loss: 0.4077 - binary_accuracy: 0.8157 - precision: 0.9348 - recall: 0.4807\n",
            "Epoch 95/100\n",
            "74/74 [==============================] - 0s 2ms/step - loss: 0.4089 - binary_accuracy: 0.8157 - precision: 0.9295 - recall: 0.4839\n",
            "Epoch 96/100\n",
            "74/74 [==============================] - 0s 2ms/step - loss: 0.4092 - binary_accuracy: 0.8155 - precision: 0.9348 - recall: 0.4800\n",
            "Epoch 97/100\n",
            "74/74 [==============================] - 0s 2ms/step - loss: 0.4118 - binary_accuracy: 0.8164 - precision: 0.9462 - recall: 0.4762\n",
            "Epoch 98/100\n",
            "74/74 [==============================] - 0s 2ms/step - loss: 0.4086 - binary_accuracy: 0.8177 - precision: 0.9535 - recall: 0.4762\n",
            "Epoch 99/100\n",
            "74/74 [==============================] - 0s 2ms/step - loss: 0.4087 - binary_accuracy: 0.8157 - precision: 0.9316 - recall: 0.4826\n",
            "Epoch 100/100\n",
            "74/74 [==============================] - 0s 2ms/step - loss: 0.4116 - binary_accuracy: 0.8119 - precision: 0.9122 - recall: 0.4820\n"
          ]
        }
      ]
    },
    {
      "cell_type": "code",
      "source": [
        "test_scores = model.evaluate(val_data)\n",
        "single_metrics = {\n",
        "    'loss': test_scores[0],\n",
        "    'binary_accuracy': test_scores[1],\n",
        "    'precision': test_scores[2],\n",
        "    'recall': test_scores[3]\n",
        "}\n",
        "single_metrics"
      ],
      "metadata": {
        "colab": {
          "base_uri": "https://localhost:8080/"
        },
        "id": "8iZje5oB8crA",
        "outputId": "84a03f21-f5fa-4b2e-e5d0-cc2d94639d43"
      },
      "execution_count": null,
      "outputs": [
        {
          "output_type": "stream",
          "name": "stdout",
          "text": [
            "4080/4080 [==============================] - 5s 1ms/step - loss: 0.3219 - binary_accuracy: 0.9240 - precision: 0.7822 - recall: 0.5162\n"
          ]
        },
        {
          "output_type": "execute_result",
          "data": {
            "text/plain": [
              "{'binary_accuracy': 0.9240196347236633,\n",
              " 'loss': 0.3219465911388397,\n",
              " 'precision': 0.7822085618972778,\n",
              " 'recall': 0.5161943435668945}"
            ]
          },
          "metadata": {},
          "execution_count": 37
        }
      ]
    },
    {
      "cell_type": "code",
      "source": [
        "print(f\"---Single model metrics---\\n{single_metrics}\\n\")\n",
        "print(f\"---Federated model metrics---\\n{dict(federated_metrics)}\")"
      ],
      "metadata": {
        "colab": {
          "base_uri": "https://localhost:8080/"
        },
        "id": "HNEqlh8c8lHJ",
        "outputId": "f96a06db-4c7c-42b3-fa6f-070ffa8a0893"
      },
      "execution_count": null,
      "outputs": [
        {
          "output_type": "stream",
          "name": "stdout",
          "text": [
            "---Single model metrics---\n",
            "{'loss': 0.3219465911388397, 'binary_accuracy': 0.9240196347236633, 'precision': 0.7822085618972778, 'recall': 0.5161943435668945}\n",
            "\n",
            "---Federated model metrics---\n",
            "{'binary_accuracy': 0.8659314, 'precision': 0.45207956, 'recall': 0.5060729, 'loss': 0.3662707}\n"
          ]
        }
      ]
    },
    {
      "cell_type": "markdown",
      "source": [
        "# 8- Conclusion"
      ],
      "metadata": {
        "id": "fr4IqNeSqDWd"
      }
    }
  ]
}