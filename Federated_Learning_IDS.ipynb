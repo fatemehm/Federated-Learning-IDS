{
  "nbformat": 4,
  "nbformat_minor": 0,
  "metadata": {
    "colab": {
      "name": "Federated-Learning-IDS.ipynb",
      "provenance": [],
      "authorship_tag": "ABX9TyOZhf/tI7JNNaXYYxv7dWsP",
      "include_colab_link": true
    },
    "kernelspec": {
      "name": "python3",
      "display_name": "Python 3"
    },
    "language_info": {
      "name": "python"
    }
  },
  "cells": [
    {
      "cell_type": "markdown",
      "metadata": {
        "id": "view-in-github",
        "colab_type": "text"
      },
      "source": [
        "<a href=\"https://colab.research.google.com/github/fatemehm/Federated-Learning-IDS/blob/main/Federated_Learning_IDS.ipynb\" target=\"_parent\"><img src=\"https://colab.research.google.com/assets/colab-badge.svg\" alt=\"Open In Colab\"/></a>"
      ]
    },
    {
      "cell_type": "code",
      "execution_count": 1,
      "metadata": {
        "id": "dnhJt8pECzuA"
      },
      "outputs": [],
      "source": [
        "import pandas as pd"
      ]
    }
  ]
}